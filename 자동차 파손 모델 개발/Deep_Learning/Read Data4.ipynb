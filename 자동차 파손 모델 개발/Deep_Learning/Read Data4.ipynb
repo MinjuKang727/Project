{
 "cells": [
  {
   "cell_type": "code",
   "execution_count": null,
   "id": "df171110",
   "metadata": {
    "scrolled": true
   },
   "outputs": [],
   "source": [
    "!pip install labelimg"
   ]
  },
  {
   "cell_type": "code",
   "execution_count": null,
   "id": "f5baeb44",
   "metadata": {},
   "outputs": [],
   "source": [
    "# 이미지 라벨링(bbox) 프로그램 실행\n",
    "!labelimg"
   ]
  },
  {
   "cell_type": "code",
   "execution_count": 3,
   "id": "42f0994d",
   "metadata": {},
   "outputs": [
    {
     "name": "stdout",
     "output_type": "stream",
     "text": [
      "100 ['G:/내 드라이브/Colab Notebooks/AIDA/Data/자동차 차종-연식-번호판 인식용 영상/Training/[라벨]자동차번호판OCR_train/', 'G:/내 드라이브/Colab Notebooks/AIDA/Data/자동차 차종-연식-번호판 인식용 영상/Validation/[라벨]자동차번호판OCR_valid/', 'G:/내 드라이브/Colab Notebooks/AIDA/Data/자동차 차종-연식-번호판 인식용 영상/원본이미지/[원본]라벨링데이터/merged/SUV/BMW/', 'G:/내 드라이브/Colab Notebooks/AIDA/Data/자동차 차종-연식-번호판 인식용 영상/Training/[라벨]차종분류_train/라벨링데이터/차종분류데이터/SUV/BMW/', 'G:/내 드라이브/Colab Notebooks/AIDA/Data/자동차 차종-연식-번호판 인식용 영상/Training/[라벨]차종분류_train/라벨링데이터/차종분류데이터/SUV/기아자동차/', 'G:/내 드라이브/Colab Notebooks/AIDA/Data/자동차 차종-연식-번호판 인식용 영상/Training/[라벨]차종분류_train/라벨링데이터/차종분류데이터/SUV/닛산/', 'G:/내 드라이브/Colab Notebooks/AIDA/Data/자동차 차종-연식-번호판 인식용 영상/Training/[라벨]차종분류_train/라벨링데이터/차종분류데이터/SUV/도요타/', 'G:/내 드라이브/Colab Notebooks/AIDA/Data/자동차 차종-연식-번호판 인식용 영상/Training/[라벨]차종분류_train/라벨링데이터/차종분류데이터/SUV/랜드로버/', 'G:/내 드라이브/Colab Notebooks/AIDA/Data/자동차 차종-연식-번호판 인식용 영상/Training/[라벨]차종분류_train/라벨링데이터/차종분류데이터/SUV/렉서스/', 'G:/내 드라이브/Colab Notebooks/AIDA/Data/자동차 차종-연식-번호판 인식용 영상/Training/[라벨]차종분류_train/라벨링데이터/차종분류데이터/SUV/르노삼성/', 'G:/내 드라이브/Colab Notebooks/AIDA/Data/자동차 차종-연식-번호판 인식용 영상/Training/[라벨]차종분류_train/라벨링데이터/차종분류데이터/SUV/미니/', 'G:/내 드라이브/Colab Notebooks/AIDA/Data/자동차 차종-연식-번호판 인식용 영상/Training/[라벨]차종분류_train/라벨링데이터/차종분류데이터/SUV/벤츠/', 'G:/내 드라이브/Colab Notebooks/AIDA/Data/자동차 차종-연식-번호판 인식용 영상/Training/[라벨]차종분류_train/라벨링데이터/차종분류데이터/SUV/볼보/', 'G:/내 드라이브/Colab Notebooks/AIDA/Data/자동차 차종-연식-번호판 인식용 영상/Training/[라벨]차종분류_train/라벨링데이터/차종분류데이터/SUV/쉐보레_대우/', 'G:/내 드라이브/Colab Notebooks/AIDA/Data/자동차 차종-연식-번호판 인식용 영상/Training/[라벨]차종분류_train/라벨링데이터/차종분류데이터/SUV/쌍용자동차/', 'G:/내 드라이브/Colab Notebooks/AIDA/Data/자동차 차종-연식-번호판 인식용 영상/Training/[라벨]차종분류_train/라벨링데이터/차종분류데이터/SUV/아우디/', 'G:/내 드라이브/Colab Notebooks/AIDA/Data/자동차 차종-연식-번호판 인식용 영상/Training/[라벨]차종분류_train/라벨링데이터/차종분류데이터/SUV/인피니티/', 'G:/내 드라이브/Colab Notebooks/AIDA/Data/자동차 차종-연식-번호판 인식용 영상/Training/[라벨]차종분류_train/라벨링데이터/차종분류데이터/SUV/재규어/', 'G:/내 드라이브/Colab Notebooks/AIDA/Data/자동차 차종-연식-번호판 인식용 영상/Training/[라벨]차종분류_train/라벨링데이터/차종분류데이터/SUV/제네시스/', 'G:/내 드라이브/Colab Notebooks/AIDA/Data/자동차 차종-연식-번호판 인식용 영상/Training/[라벨]차종분류_train/라벨링데이터/차종분류데이터/SUV/지프/', 'G:/내 드라이브/Colab Notebooks/AIDA/Data/자동차 차종-연식-번호판 인식용 영상/Training/[라벨]차종분류_train/라벨링데이터/차종분류데이터/SUV/테슬라/', 'G:/내 드라이브/Colab Notebooks/AIDA/Data/자동차 차종-연식-번호판 인식용 영상/Training/[라벨]차종분류_train/라벨링데이터/차종분류데이터/SUV/포드/', 'G:/내 드라이브/Colab Notebooks/AIDA/Data/자동차 차종-연식-번호판 인식용 영상/Training/[라벨]차종분류_train/라벨링데이터/차종분류데이터/SUV/포르쉐/', 'G:/내 드라이브/Colab Notebooks/AIDA/Data/자동차 차종-연식-번호판 인식용 영상/Training/[라벨]차종분류_train/라벨링데이터/차종분류데이터/SUV/폭스바겐/', 'G:/내 드라이브/Colab Notebooks/AIDA/Data/자동차 차종-연식-번호판 인식용 영상/Training/[라벨]차종분류_train/라벨링데이터/차종분류데이터/SUV/푸조/', 'G:/내 드라이브/Colab Notebooks/AIDA/Data/자동차 차종-연식-번호판 인식용 영상/Training/[라벨]차종분류_train/라벨링데이터/차종분류데이터/SUV/현대자동차/', 'G:/내 드라이브/Colab Notebooks/AIDA/Data/자동차 차종-연식-번호판 인식용 영상/Training/[라벨]차종분류_train/라벨링데이터/차종분류데이터/SUV/혼다/', 'G:/내 드라이브/Colab Notebooks/AIDA/Data/자동차 차종-연식-번호판 인식용 영상/Training/[라벨]차종분류_train/라벨링데이터/차종분류데이터/버스/버스/', 'G:/내 드라이브/Colab Notebooks/AIDA/Data/자동차 차종-연식-번호판 인식용 영상/Training/[라벨]차종분류_train/라벨링데이터/차종분류데이터/버스/특수/', 'G:/내 드라이브/Colab Notebooks/AIDA/Data/자동차 차종-연식-번호판 인식용 영상/Training/[라벨]차종분류_train/라벨링데이터/차종분류데이터/세단/BMW/', 'G:/내 드라이브/Colab Notebooks/AIDA/Data/자동차 차종-연식-번호판 인식용 영상/Training/[라벨]차종분류_train/라벨링데이터/차종분류데이터/세단/기아자동차/', 'G:/내 드라이브/Colab Notebooks/AIDA/Data/자동차 차종-연식-번호판 인식용 영상/Training/[라벨]차종분류_train/라벨링데이터/차종분류데이터/세단/닛산/', 'G:/내 드라이브/Colab Notebooks/AIDA/Data/자동차 차종-연식-번호판 인식용 영상/Training/[라벨]차종분류_train/라벨링데이터/차종분류데이터/세단/도요타/', 'G:/내 드라이브/Colab Notebooks/AIDA/Data/자동차 차종-연식-번호판 인식용 영상/Training/[라벨]차종분류_train/라벨링데이터/차종분류데이터/세단/렉서스/', 'G:/내 드라이브/Colab Notebooks/AIDA/Data/자동차 차종-연식-번호판 인식용 영상/Training/[라벨]차종분류_train/라벨링데이터/차종분류데이터/세단/르노삼성/', 'G:/내 드라이브/Colab Notebooks/AIDA/Data/자동차 차종-연식-번호판 인식용 영상/Training/[라벨]차종분류_train/라벨링데이터/차종분류데이터/세단/벤츠/', 'G:/내 드라이브/Colab Notebooks/AIDA/Data/자동차 차종-연식-번호판 인식용 영상/Training/[라벨]차종분류_train/라벨링데이터/차종분류데이터/세단/볼보/', 'G:/내 드라이브/Colab Notebooks/AIDA/Data/자동차 차종-연식-번호판 인식용 영상/Training/[라벨]차종분류_train/라벨링데이터/차종분류데이터/세단/쉐보레_대우/', 'G:/내 드라이브/Colab Notebooks/AIDA/Data/자동차 차종-연식-번호판 인식용 영상/Training/[라벨]차종분류_train/라벨링데이터/차종분류데이터/세단/쌍용자동차/', 'G:/내 드라이브/Colab Notebooks/AIDA/Data/자동차 차종-연식-번호판 인식용 영상/Training/[라벨]차종분류_train/라벨링데이터/차종분류데이터/세단/아우디/', 'G:/내 드라이브/Colab Notebooks/AIDA/Data/자동차 차종-연식-번호판 인식용 영상/Training/[라벨]차종분류_train/라벨링데이터/차종분류데이터/세단/인피니티/', 'G:/내 드라이브/Colab Notebooks/AIDA/Data/자동차 차종-연식-번호판 인식용 영상/Training/[라벨]차종분류_train/라벨링데이터/차종분류데이터/세단/재규어/', 'G:/내 드라이브/Colab Notebooks/AIDA/Data/자동차 차종-연식-번호판 인식용 영상/Training/[라벨]차종분류_train/라벨링데이터/차종분류데이터/세단/제네시스/', 'G:/내 드라이브/Colab Notebooks/AIDA/Data/자동차 차종-연식-번호판 인식용 영상/Training/[라벨]차종분류_train/라벨링데이터/차종분류데이터/세단/테슬라/', 'G:/내 드라이브/Colab Notebooks/AIDA/Data/자동차 차종-연식-번호판 인식용 영상/Training/[라벨]차종분류_train/라벨링데이터/차종분류데이터/세단/포드/', 'G:/내 드라이브/Colab Notebooks/AIDA/Data/자동차 차종-연식-번호판 인식용 영상/Training/[라벨]차종분류_train/라벨링데이터/차종분류데이터/세단/포르쉐/', 'G:/내 드라이브/Colab Notebooks/AIDA/Data/자동차 차종-연식-번호판 인식용 영상/Training/[라벨]차종분류_train/라벨링데이터/차종분류데이터/세단/폭스바겐/', 'G:/내 드라이브/Colab Notebooks/AIDA/Data/자동차 차종-연식-번호판 인식용 영상/Training/[라벨]차종분류_train/라벨링데이터/차종분류데이터/세단/푸조/', 'G:/내 드라이브/Colab Notebooks/AIDA/Data/자동차 차종-연식-번호판 인식용 영상/Training/[라벨]차종분류_train/라벨링데이터/차종분류데이터/세단/현대자동차/', 'G:/내 드라이브/Colab Notebooks/AIDA/Data/자동차 차종-연식-번호판 인식용 영상/Training/[라벨]차종분류_train/라벨링데이터/차종분류데이터/세단/혼다/', 'G:/내 드라이브/Colab Notebooks/AIDA/Data/자동차 차종-연식-번호판 인식용 영상/Training/[라벨]차종분류_train/라벨링데이터/차종분류데이터/승합/기아자동차/', 'G:/내 드라이브/Colab Notebooks/AIDA/Data/자동차 차종-연식-번호판 인식용 영상/Training/[라벨]차종분류_train/라벨링데이터/차종분류데이터/승합/현대자동차/', 'G:/내 드라이브/Colab Notebooks/AIDA/Data/자동차 차종-연식-번호판 인식용 영상/Training/[라벨]차종분류_train/라벨링데이터/차종분류데이터/승합/혼다/', 'G:/내 드라이브/Colab Notebooks/AIDA/Data/자동차 차종-연식-번호판 인식용 영상/Training/[라벨]차종분류_train/라벨링데이터/차종분류데이터/이륜차/이륜차/', 'G:/내 드라이브/Colab Notebooks/AIDA/Data/자동차 차종-연식-번호판 인식용 영상/Training/[라벨]차종분류_train/라벨링데이터/차종분류데이터/컨버터블/BMW/', 'G:/내 드라이브/Colab Notebooks/AIDA/Data/자동차 차종-연식-번호판 인식용 영상/Training/[라벨]차종분류_train/라벨링데이터/차종분류데이터/컨버터블/포드/', 'G:/내 드라이브/Colab Notebooks/AIDA/Data/자동차 차종-연식-번호판 인식용 영상/Training/[라벨]차종분류_train/라벨링데이터/차종분류데이터/쿠페/BMW/', 'G:/내 드라이브/Colab Notebooks/AIDA/Data/자동차 차종-연식-번호판 인식용 영상/Training/[라벨]차종분류_train/라벨링데이터/차종분류데이터/쿠페/기아자동차/', 'G:/내 드라이브/Colab Notebooks/AIDA/Data/자동차 차종-연식-번호판 인식용 영상/Training/[라벨]차종분류_train/라벨링데이터/차종분류데이터/쿠페/벤츠/', 'G:/내 드라이브/Colab Notebooks/AIDA/Data/자동차 차종-연식-번호판 인식용 영상/Training/[라벨]차종분류_train/라벨링데이터/차종분류데이터/쿠페/아우디/', 'G:/내 드라이브/Colab Notebooks/AIDA/Data/자동차 차종-연식-번호판 인식용 영상/Training/[라벨]차종분류_train/라벨링데이터/차종분류데이터/쿠페/인피니티/', 'G:/내 드라이브/Colab Notebooks/AIDA/Data/자동차 차종-연식-번호판 인식용 영상/Training/[라벨]차종분류_train/라벨링데이터/차종분류데이터/쿠페/제네시스/', 'G:/내 드라이브/Colab Notebooks/AIDA/Data/자동차 차종-연식-번호판 인식용 영상/Training/[라벨]차종분류_train/라벨링데이터/차종분류데이터/쿠페/포드/', 'G:/내 드라이브/Colab Notebooks/AIDA/Data/자동차 차종-연식-번호판 인식용 영상/Training/[라벨]차종분류_train/라벨링데이터/차종분류데이터/쿠페/폭스바겐/', 'G:/내 드라이브/Colab Notebooks/AIDA/Data/자동차 차종-연식-번호판 인식용 영상/Training/[라벨]차종분류_train/라벨링데이터/차종분류데이터/트럭/트럭/', 'G:/내 드라이브/Colab Notebooks/AIDA/Data/자동차 차종-연식-번호판 인식용 영상/Training/[라벨]차종분류_train/라벨링데이터/차종분류데이터/특수/특수/', 'G:/내 드라이브/Colab Notebooks/AIDA/Data/자동차 차종-연식-번호판 인식용 영상/Training/[라벨]차종분류_train/라벨링데이터/차종분류데이터/해치백/BMW/', 'G:/내 드라이브/Colab Notebooks/AIDA/Data/자동차 차종-연식-번호판 인식용 영상/Training/[라벨]차종분류_train/라벨링데이터/차종분류데이터/해치백/기아자동차/', 'G:/내 드라이브/Colab Notebooks/AIDA/Data/자동차 차종-연식-번호판 인식용 영상/Training/[라벨]차종분류_train/라벨링데이터/차종분류데이터/해치백/닛산/', 'G:/내 드라이브/Colab Notebooks/AIDA/Data/자동차 차종-연식-번호판 인식용 영상/Training/[라벨]차종분류_train/라벨링데이터/차종분류데이터/해치백/도요타/', 'G:/내 드라이브/Colab Notebooks/AIDA/Data/자동차 차종-연식-번호판 인식용 영상/Training/[라벨]차종분류_train/라벨링데이터/차종분류데이터/해치백/렉서스/', 'G:/내 드라이브/Colab Notebooks/AIDA/Data/자동차 차종-연식-번호판 인식용 영상/Training/[라벨]차종분류_train/라벨링데이터/차종분류데이터/해치백/미니/', 'G:/내 드라이브/Colab Notebooks/AIDA/Data/자동차 차종-연식-번호판 인식용 영상/Training/[라벨]차종분류_train/라벨링데이터/차종분류데이터/해치백/볼보/', 'G:/내 드라이브/Colab Notebooks/AIDA/Data/자동차 차종-연식-번호판 인식용 영상/Training/[라벨]차종분류_train/라벨링데이터/차종분류데이터/해치백/쉐보레_대우/', 'G:/내 드라이브/Colab Notebooks/AIDA/Data/자동차 차종-연식-번호판 인식용 영상/Training/[라벨]차종분류_train/라벨링데이터/차종분류데이터/해치백/폭스바겐/', 'G:/내 드라이브/Colab Notebooks/AIDA/Data/자동차 차종-연식-번호판 인식용 영상/Training/[라벨]차종분류_train/라벨링데이터/차종분류데이터/해치백/푸조/', 'G:/내 드라이브/Colab Notebooks/AIDA/Data/자동차 차종-연식-번호판 인식용 영상/Training/[라벨]차종분류_train/라벨링데이터/차종분류데이터/해치백/현대자동차/', 'G:/내 드라이브/Colab Notebooks/AIDA/Data/자동차 차종-연식-번호판 인식용 영상/Training/[라벨]차종분류_train/라벨링데이터/차종분류데이터/화물/특수/', 'G:/내 드라이브/Colab Notebooks/AIDA/Data/자동차 차종-연식-번호판 인식용 영상/Validation/[라벨]차종분류_valid/라벨링데이터/차종분류데이터/SUV/기아자동차/', 'G:/내 드라이브/Colab Notebooks/AIDA/Data/자동차 차종-연식-번호판 인식용 영상/Validation/[라벨]차종분류_valid/라벨링데이터/차종분류데이터/SUV/르노삼성/', 'G:/내 드라이브/Colab Notebooks/AIDA/Data/자동차 차종-연식-번호판 인식용 영상/Validation/[라벨]차종분류_valid/라벨링데이터/차종분류데이터/SUV/쉐보레_대우/', 'G:/내 드라이브/Colab Notebooks/AIDA/Data/자동차 차종-연식-번호판 인식용 영상/Validation/[라벨]차종분류_valid/라벨링데이터/차종분류데이터/SUV/쌍용자동차/', 'G:/내 드라이브/Colab Notebooks/AIDA/Data/자동차 차종-연식-번호판 인식용 영상/Validation/[라벨]차종분류_valid/라벨링데이터/차종분류데이터/SUV/제네시스/', 'G:/내 드라이브/Colab Notebooks/AIDA/Data/자동차 차종-연식-번호판 인식용 영상/Validation/[라벨]차종분류_valid/라벨링데이터/차종분류데이터/SUV/현대자동차/', 'G:/내 드라이브/Colab Notebooks/AIDA/Data/자동차 차종-연식-번호판 인식용 영상/Validation/[라벨]차종분류_valid/라벨링데이터/차종분류데이터/버스/버스/', 'G:/내 드라이브/Colab Notebooks/AIDA/Data/자동차 차종-연식-번호판 인식용 영상/Validation/[라벨]차종분류_valid/라벨링데이터/차종분류데이터/세단/BMW/', 'G:/내 드라이브/Colab Notebooks/AIDA/Data/자동차 차종-연식-번호판 인식용 영상/Validation/[라벨]차종분류_valid/라벨링데이터/차종분류데이터/세단/기아자동차/', 'G:/내 드라이브/Colab Notebooks/AIDA/Data/자동차 차종-연식-번호판 인식용 영상/Validation/[라벨]차종분류_valid/라벨링데이터/차종분류데이터/세단/르노삼성/', 'G:/내 드라이브/Colab Notebooks/AIDA/Data/자동차 차종-연식-번호판 인식용 영상/Validation/[라벨]차종분류_valid/라벨링데이터/차종분류데이터/세단/벤츠/', 'G:/내 드라이브/Colab Notebooks/AIDA/Data/자동차 차종-연식-번호판 인식용 영상/Validation/[라벨]차종분류_valid/라벨링데이터/차종분류데이터/세단/쉐보레_대우/', 'G:/내 드라이브/Colab Notebooks/AIDA/Data/자동차 차종-연식-번호판 인식용 영상/Validation/[라벨]차종분류_valid/라벨링데이터/차종분류데이터/세단/제네시스/', 'G:/내 드라이브/Colab Notebooks/AIDA/Data/자동차 차종-연식-번호판 인식용 영상/Validation/[라벨]차종분류_valid/라벨링데이터/차종분류데이터/세단/현대자동차/', 'G:/내 드라이브/Colab Notebooks/AIDA/Data/자동차 차종-연식-번호판 인식용 영상/Validation/[라벨]차종분류_valid/라벨링데이터/차종분류데이터/승합/기아자동차/', 'G:/내 드라이브/Colab Notebooks/AIDA/Data/자동차 차종-연식-번호판 인식용 영상/Validation/[라벨]차종분류_valid/라벨링데이터/차종분류데이터/승합/현대자동차/', 'G:/내 드라이브/Colab Notebooks/AIDA/Data/자동차 차종-연식-번호판 인식용 영상/Validation/[라벨]차종분류_valid/라벨링데이터/차종분류데이터/이륜차/이륜차/', 'G:/내 드라이브/Colab Notebooks/AIDA/Data/자동차 차종-연식-번호판 인식용 영상/Validation/[라벨]차종분류_valid/라벨링데이터/차종분류데이터/트럭/트럭/', 'G:/내 드라이브/Colab Notebooks/AIDA/Data/자동차 차종-연식-번호판 인식용 영상/Validation/[라벨]차종분류_valid/라벨링데이터/차종분류데이터/해치백/기아자동차/', 'G:/내 드라이브/Colab Notebooks/AIDA/Data/자동차 차종-연식-번호판 인식용 영상/Validation/[라벨]차종분류_valid/라벨링데이터/차종분류데이터/해치백/쉐보레_대우/', 'G:/내 드라이브/Colab Notebooks/AIDA/Data/자동차 차종-연식-번호판 인식용 영상/Validation/[라벨]차종분류_valid/라벨링데이터/차종분류데이터/해치백/현대자동차/', 'G:/내 드라이브/Colab Notebooks/AIDA/Data/자동차 차종-연식-번호판 인식용 영상/Validation/[라벨]차종분류_valid/라벨링데이터/차종분류데이터/화물/특수/']\n"
     ]
    }
   ],
   "source": [
    "# json파일 경로 txt파일에서 읽어오기\n",
    "\n",
    "path = \"G:/내 드라이브/Colab Notebooks/AIDA/Data/\"\n",
    "json_dirs = []\n",
    "with open(path + 'JSON_dir.txt', 'r', encoding='utf-8') as f :\n",
    "    data= f.readlines()\n",
    "    json_dirs = [d.strip().replace('/content/drive/MyDrive/',\"G:/내 드라이브/\") for d in data]\n",
    "    print(len(json_dirs), json_dirs)"
   ]
  },
  {
   "cell_type": "code",
   "execution_count": null,
   "id": "9a96d698",
   "metadata": {},
   "outputs": [
    {
     "name": "stdout",
     "output_type": "stream",
     "text": [
      "총 경로 수 : 98\n",
      "1번째 경로 : G:/내 드라이브/Colab Notebooks/AIDA/Data/자동차 차종-연식-번호판 인식용 영상/Validation/[라벨]차종분류_valid/라벨링데이터/차종분류데이터/화물/특수/\n",
      "진행도 : [1531/2756] 55.55%"
     ]
    }
   ],
   "source": [
    "import os\n",
    "import json\n",
    "\n",
    "# Brand, Model, Color, Year의 classes 알아보기\n",
    "json_car = [ d for d in json_dirs if '자동차번호판OCR' not in d]\n",
    "json_car.reverse()\n",
    "brand = set()\n",
    "model = set()\n",
    "color = set()\n",
    "year = set()\n",
    "\n",
    "m = 1\n",
    "i = 1\n",
    "print(f'총 경로 수 : {len(json_car)}')\n",
    "for d in json_car :\n",
    "    print(f\"{m}번째 경로 : {d}\")\n",
    "    j_list = os.listdir(d)\n",
    "    for j in j_list :\n",
    "        print(f\"\\r진행도 : [{i}/{len(j_list)}] {i/len(j_list)*100:.2f}%\", end=\"\")\n",
    "        with open(d + j, 'r', encoding=\"utf-8\") as f :\n",
    "            data = f.readlines()\n",
    "            json_f = json.loads(data[0])\n",
    "        with open\n",
    "            brand.add(json_f['car']['attributes'][\"brand\"])\n",
    "            model.add(json_f['car']['attributes'][\"model\"])\n",
    "            color.add(json_f['car']['attributes'][\"color\"])\n",
    "            year.add(json_f['car']['attributes'][\"year\"])\n",
    "        i += 1\n",
    "    break\n",
    "print(brand)\n",
    "print(model)\n",
    "print(color)\n",
    "print(year)"
   ]
  },
  {
   "cell_type": "code",
   "execution_count": 23,
   "id": "b37ffc16",
   "metadata": {},
   "outputs": [
    {
     "name": "stdout",
     "output_type": "stream",
     "text": [
      "{'화물/버스/특수'}\n",
      "{'화물_기아_봉고'}\n",
      "{'흰색', '빨간색', '파란색', '검은색', '기타', '노란색'}\n",
      "{'2012-2020', '2002-2011'}\n"
     ]
    }
   ],
   "source": [
    "print(brand)\n",
    "print(model)\n",
    "print(color)\n",
    "print(year)"
   ]
  }
 ],
 "metadata": {
  "kernelspec": {
   "display_name": "Python 3 (ipykernel)",
   "language": "python",
   "name": "python3"
  },
  "language_info": {
   "codemirror_mode": {
    "name": "ipython",
    "version": 3
   },
   "file_extension": ".py",
   "mimetype": "text/x-python",
   "name": "python",
   "nbconvert_exporter": "python",
   "pygments_lexer": "ipython3",
   "version": "3.7.13"
  },
  "toc": {
   "base_numbering": 1,
   "nav_menu": {},
   "number_sections": true,
   "sideBar": true,
   "skip_h1_title": false,
   "title_cell": "Table of Contents",
   "title_sidebar": "Contents",
   "toc_cell": false,
   "toc_position": {},
   "toc_section_display": true,
   "toc_window_display": false
  }
 },
 "nbformat": 4,
 "nbformat_minor": 5
}
