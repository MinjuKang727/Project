{
 "cells": [
  {
   "cell_type": "code",
   "execution_count": 31,
   "id": "ef4a05bd",
   "metadata": {
    "scrolled": false
   },
   "outputs": [
    {
     "name": "stderr",
     "output_type": "stream",
     "text": [
      "ERROR:root:Internal Python error in the inspect module.\n",
      "Below is the traceback from this internal error.\n",
      "\n"
     ]
    },
    {
     "name": "stdout",
     "output_type": "stream",
     "text": [
      "Traceback (most recent call last):\n",
      "  File \"C:\\Users\\AI\\Anaconda3\\envs\\openCV\\lib\\site-packages\\IPython\\core\\interactiveshell.py\", line 3457, in run_code\n",
      "    exec(code_obj, self.user_global_ns, self.user_ns)\n",
      "  File \"C:\\Users\\AI\\AppData\\Local\\Temp\\ipykernel_6496\\1386446987.py\", line 16, in <module>\n",
      "    with zf(path + z, 'r') as rz :\n",
      "  File \"C:\\Users\\AI\\Anaconda3\\envs\\openCV\\lib\\zipfile.py\", line 1229, in __init__\n",
      "    if isinstance(file, os.PathLike):\n",
      "  File \"C:\\Users\\AI\\Anaconda3\\envs\\openCV\\lib\\abc.py\", line 139, in __instancecheck__\n",
      "    return _abc_instancecheck(cls, instance)\n",
      "KeyboardInterrupt\n",
      "\n",
      "During handling of the above exception, another exception occurred:\n",
      "\n",
      "Traceback (most recent call last):\n",
      "  File \"C:\\Users\\AI\\Anaconda3\\envs\\openCV\\lib\\site-packages\\IPython\\core\\interactiveshell.py\", line 2077, in showtraceback\n",
      "    stb = value._render_traceback_()\n",
      "AttributeError: 'KeyboardInterrupt' object has no attribute '_render_traceback_'\n",
      "\n",
      "During handling of the above exception, another exception occurred:\n",
      "\n",
      "Traceback (most recent call last):\n",
      "  File \"C:\\Users\\AI\\Anaconda3\\envs\\openCV\\lib\\site-packages\\IPython\\core\\ultratb.py\", line 1101, in get_records\n",
      "    return _fixed_getinnerframes(etb, number_of_lines_of_context, tb_offset)\n",
      "  File \"C:\\Users\\AI\\Anaconda3\\envs\\openCV\\lib\\site-packages\\IPython\\core\\ultratb.py\", line 248, in wrapped\n",
      "    return f(*args, **kwargs)\n",
      "  File \"C:\\Users\\AI\\Anaconda3\\envs\\openCV\\lib\\site-packages\\IPython\\core\\ultratb.py\", line 281, in _fixed_getinnerframes\n",
      "    records = fix_frame_records_filenames(inspect.getinnerframes(etb, context))\n",
      "  File \"C:\\Users\\AI\\Anaconda3\\envs\\openCV\\lib\\inspect.py\", line 1502, in getinnerframes\n",
      "    frameinfo = (tb.tb_frame,) + getframeinfo(tb, context)\n",
      "  File \"C:\\Users\\AI\\Anaconda3\\envs\\openCV\\lib\\inspect.py\", line 1460, in getframeinfo\n",
      "    filename = getsourcefile(frame) or getfile(frame)\n",
      "  File \"C:\\Users\\AI\\Anaconda3\\envs\\openCV\\lib\\inspect.py\", line 691, in getsourcefile\n",
      "    importlib.machinery.EXTENSION_SUFFIXES):\n",
      "KeyboardInterrupt\n"
     ]
    },
    {
     "ename": "TypeError",
     "evalue": "object of type 'NoneType' has no len()",
     "output_type": "error",
     "traceback": [
      "\u001b[1;31m---------------------------------------------------------------------------\u001b[0m",
      "\u001b[1;31mKeyboardInterrupt\u001b[0m                         Traceback (most recent call last)",
      "    \u001b[1;31m[... skipping hidden 1 frame]\u001b[0m\n",
      "\u001b[1;32m~\\AppData\\Local\\Temp\\ipykernel_6496\\1386446987.py\u001b[0m in \u001b[0;36m<module>\u001b[1;34m\u001b[0m\n\u001b[0;32m     15\u001b[0m \u001b[1;33m\u001b[0m\u001b[0m\n\u001b[1;32m---> 16\u001b[1;33m         \u001b[1;32mwith\u001b[0m \u001b[0mzf\u001b[0m\u001b[1;33m(\u001b[0m\u001b[0mpath\u001b[0m \u001b[1;33m+\u001b[0m \u001b[0mz\u001b[0m\u001b[1;33m,\u001b[0m \u001b[1;34m'r'\u001b[0m\u001b[1;33m)\u001b[0m \u001b[1;32mas\u001b[0m \u001b[0mrz\u001b[0m \u001b[1;33m:\u001b[0m\u001b[1;33m\u001b[0m\u001b[1;33m\u001b[0m\u001b[0m\n\u001b[0m\u001b[0;32m     17\u001b[0m             \u001b[0mprint\u001b[0m\u001b[1;33m(\u001b[0m\u001b[1;34mf'\\n{i}번째 경로: { path + z }'\u001b[0m\u001b[1;33m)\u001b[0m  \u001b[1;31m# 현재 조회중인 경로 출력\u001b[0m\u001b[1;33m\u001b[0m\u001b[1;33m\u001b[0m\u001b[0m\n",
      "\u001b[1;32m~\\Anaconda3\\envs\\openCV\\lib\\zipfile.py\u001b[0m in \u001b[0;36m__init__\u001b[1;34m(self, file, mode, compression, allowZip64, compresslevel)\u001b[0m\n\u001b[0;32m   1228\u001b[0m         \u001b[1;31m# Check if we were passed a file-like object\u001b[0m\u001b[1;33m\u001b[0m\u001b[1;33m\u001b[0m\u001b[1;33m\u001b[0m\u001b[0m\n\u001b[1;32m-> 1229\u001b[1;33m         \u001b[1;32mif\u001b[0m \u001b[0misinstance\u001b[0m\u001b[1;33m(\u001b[0m\u001b[0mfile\u001b[0m\u001b[1;33m,\u001b[0m \u001b[0mos\u001b[0m\u001b[1;33m.\u001b[0m\u001b[0mPathLike\u001b[0m\u001b[1;33m)\u001b[0m\u001b[1;33m:\u001b[0m\u001b[1;33m\u001b[0m\u001b[1;33m\u001b[0m\u001b[0m\n\u001b[0m\u001b[0;32m   1230\u001b[0m             \u001b[0mfile\u001b[0m \u001b[1;33m=\u001b[0m \u001b[0mos\u001b[0m\u001b[1;33m.\u001b[0m\u001b[0mfspath\u001b[0m\u001b[1;33m(\u001b[0m\u001b[0mfile\u001b[0m\u001b[1;33m)\u001b[0m\u001b[1;33m\u001b[0m\u001b[1;33m\u001b[0m\u001b[0m\n",
      "\u001b[1;32m~\\Anaconda3\\envs\\openCV\\lib\\abc.py\u001b[0m in \u001b[0;36m__instancecheck__\u001b[1;34m(cls, instance)\u001b[0m\n\u001b[0;32m    138\u001b[0m             \u001b[1;34m\"\"\"Override for isinstance(instance, cls).\"\"\"\u001b[0m\u001b[1;33m\u001b[0m\u001b[1;33m\u001b[0m\u001b[0m\n\u001b[1;32m--> 139\u001b[1;33m             \u001b[1;32mreturn\u001b[0m \u001b[0m_abc_instancecheck\u001b[0m\u001b[1;33m(\u001b[0m\u001b[0mcls\u001b[0m\u001b[1;33m,\u001b[0m \u001b[0minstance\u001b[0m\u001b[1;33m)\u001b[0m\u001b[1;33m\u001b[0m\u001b[1;33m\u001b[0m\u001b[0m\n\u001b[0m\u001b[0;32m    140\u001b[0m \u001b[1;33m\u001b[0m\u001b[0m\n",
      "\u001b[1;31mKeyboardInterrupt\u001b[0m: ",
      "\nDuring handling of the above exception, another exception occurred:\n",
      "\u001b[1;31mAttributeError\u001b[0m                            Traceback (most recent call last)",
      "\u001b[1;32m~\\Anaconda3\\envs\\openCV\\lib\\site-packages\\IPython\\core\\interactiveshell.py\u001b[0m in \u001b[0;36mshowtraceback\u001b[1;34m(self, exc_tuple, filename, tb_offset, exception_only, running_compiled_code)\u001b[0m\n\u001b[0;32m   2076\u001b[0m                         \u001b[1;31m# in the engines. This should return a list of strings.\u001b[0m\u001b[1;33m\u001b[0m\u001b[1;33m\u001b[0m\u001b[1;33m\u001b[0m\u001b[0m\n\u001b[1;32m-> 2077\u001b[1;33m                         \u001b[0mstb\u001b[0m \u001b[1;33m=\u001b[0m \u001b[0mvalue\u001b[0m\u001b[1;33m.\u001b[0m\u001b[0m_render_traceback_\u001b[0m\u001b[1;33m(\u001b[0m\u001b[1;33m)\u001b[0m\u001b[1;33m\u001b[0m\u001b[1;33m\u001b[0m\u001b[0m\n\u001b[0m\u001b[0;32m   2078\u001b[0m                     \u001b[1;32mexcept\u001b[0m \u001b[0mException\u001b[0m\u001b[1;33m:\u001b[0m\u001b[1;33m\u001b[0m\u001b[1;33m\u001b[0m\u001b[0m\n",
      "\u001b[1;31mAttributeError\u001b[0m: 'KeyboardInterrupt' object has no attribute '_render_traceback_'",
      "\nDuring handling of the above exception, another exception occurred:\n",
      "\u001b[1;31mTypeError\u001b[0m                                 Traceback (most recent call last)",
      "    \u001b[1;31m[... skipping hidden 1 frame]\u001b[0m\n",
      "\u001b[1;32m~\\Anaconda3\\envs\\openCV\\lib\\site-packages\\IPython\\core\\interactiveshell.py\u001b[0m in \u001b[0;36mshowtraceback\u001b[1;34m(self, exc_tuple, filename, tb_offset, exception_only, running_compiled_code)\u001b[0m\n\u001b[0;32m   2078\u001b[0m                     \u001b[1;32mexcept\u001b[0m \u001b[0mException\u001b[0m\u001b[1;33m:\u001b[0m\u001b[1;33m\u001b[0m\u001b[1;33m\u001b[0m\u001b[0m\n\u001b[0;32m   2079\u001b[0m                         stb = self.InteractiveTB.structured_traceback(etype,\n\u001b[1;32m-> 2080\u001b[1;33m                                             value, tb, tb_offset=tb_offset)\n\u001b[0m\u001b[0;32m   2081\u001b[0m \u001b[1;33m\u001b[0m\u001b[0m\n\u001b[0;32m   2082\u001b[0m                     \u001b[0mself\u001b[0m\u001b[1;33m.\u001b[0m\u001b[0m_showtraceback\u001b[0m\u001b[1;33m(\u001b[0m\u001b[0metype\u001b[0m\u001b[1;33m,\u001b[0m \u001b[0mvalue\u001b[0m\u001b[1;33m,\u001b[0m \u001b[0mstb\u001b[0m\u001b[1;33m)\u001b[0m\u001b[1;33m\u001b[0m\u001b[1;33m\u001b[0m\u001b[0m\n",
      "\u001b[1;32m~\\Anaconda3\\envs\\openCV\\lib\\site-packages\\IPython\\core\\ultratb.py\u001b[0m in \u001b[0;36mstructured_traceback\u001b[1;34m(self, etype, value, tb, tb_offset, number_of_lines_of_context)\u001b[0m\n\u001b[0;32m   1366\u001b[0m             \u001b[0mself\u001b[0m\u001b[1;33m.\u001b[0m\u001b[0mtb\u001b[0m \u001b[1;33m=\u001b[0m \u001b[0mtb\u001b[0m\u001b[1;33m\u001b[0m\u001b[1;33m\u001b[0m\u001b[0m\n\u001b[0;32m   1367\u001b[0m         return FormattedTB.structured_traceback(\n\u001b[1;32m-> 1368\u001b[1;33m             self, etype, value, tb, tb_offset, number_of_lines_of_context)\n\u001b[0m\u001b[0;32m   1369\u001b[0m \u001b[1;33m\u001b[0m\u001b[0m\n\u001b[0;32m   1370\u001b[0m \u001b[1;33m\u001b[0m\u001b[0m\n",
      "\u001b[1;32m~\\Anaconda3\\envs\\openCV\\lib\\site-packages\\IPython\\core\\ultratb.py\u001b[0m in \u001b[0;36mstructured_traceback\u001b[1;34m(self, etype, value, tb, tb_offset, number_of_lines_of_context)\u001b[0m\n\u001b[0;32m   1266\u001b[0m             \u001b[1;31m# Verbose modes need a full traceback\u001b[0m\u001b[1;33m\u001b[0m\u001b[1;33m\u001b[0m\u001b[1;33m\u001b[0m\u001b[0m\n\u001b[0;32m   1267\u001b[0m             return VerboseTB.structured_traceback(\n\u001b[1;32m-> 1268\u001b[1;33m                 \u001b[0mself\u001b[0m\u001b[1;33m,\u001b[0m \u001b[0metype\u001b[0m\u001b[1;33m,\u001b[0m \u001b[0mvalue\u001b[0m\u001b[1;33m,\u001b[0m \u001b[0mtb\u001b[0m\u001b[1;33m,\u001b[0m \u001b[0mtb_offset\u001b[0m\u001b[1;33m,\u001b[0m \u001b[0mnumber_of_lines_of_context\u001b[0m\u001b[1;33m\u001b[0m\u001b[1;33m\u001b[0m\u001b[0m\n\u001b[0m\u001b[0;32m   1269\u001b[0m             )\n\u001b[0;32m   1270\u001b[0m         \u001b[1;32melif\u001b[0m \u001b[0mmode\u001b[0m \u001b[1;33m==\u001b[0m \u001b[1;34m'Minimal'\u001b[0m\u001b[1;33m:\u001b[0m\u001b[1;33m\u001b[0m\u001b[1;33m\u001b[0m\u001b[0m\n",
      "\u001b[1;32m~\\Anaconda3\\envs\\openCV\\lib\\site-packages\\IPython\\core\\ultratb.py\u001b[0m in \u001b[0;36mstructured_traceback\u001b[1;34m(self, etype, evalue, etb, tb_offset, number_of_lines_of_context)\u001b[0m\n\u001b[0;32m   1123\u001b[0m \u001b[1;33m\u001b[0m\u001b[0m\n\u001b[0;32m   1124\u001b[0m         formatted_exception = self.format_exception_as_a_whole(etype, evalue, etb, number_of_lines_of_context,\n\u001b[1;32m-> 1125\u001b[1;33m                                                                tb_offset)\n\u001b[0m\u001b[0;32m   1126\u001b[0m \u001b[1;33m\u001b[0m\u001b[0m\n\u001b[0;32m   1127\u001b[0m         \u001b[0mcolors\u001b[0m \u001b[1;33m=\u001b[0m \u001b[0mself\u001b[0m\u001b[1;33m.\u001b[0m\u001b[0mColors\u001b[0m  \u001b[1;31m# just a shorthand + quicker name lookup\u001b[0m\u001b[1;33m\u001b[0m\u001b[1;33m\u001b[0m\u001b[0m\n",
      "\u001b[1;32m~\\Anaconda3\\envs\\openCV\\lib\\site-packages\\IPython\\core\\ultratb.py\u001b[0m in \u001b[0;36mformat_exception_as_a_whole\u001b[1;34m(self, etype, evalue, etb, number_of_lines_of_context, tb_offset)\u001b[0m\n\u001b[0;32m   1080\u001b[0m \u001b[1;33m\u001b[0m\u001b[0m\n\u001b[0;32m   1081\u001b[0m \u001b[1;33m\u001b[0m\u001b[0m\n\u001b[1;32m-> 1082\u001b[1;33m         \u001b[0mlast_unique\u001b[0m\u001b[1;33m,\u001b[0m \u001b[0mrecursion_repeat\u001b[0m \u001b[1;33m=\u001b[0m \u001b[0mfind_recursion\u001b[0m\u001b[1;33m(\u001b[0m\u001b[0morig_etype\u001b[0m\u001b[1;33m,\u001b[0m \u001b[0mevalue\u001b[0m\u001b[1;33m,\u001b[0m \u001b[0mrecords\u001b[0m\u001b[1;33m)\u001b[0m\u001b[1;33m\u001b[0m\u001b[1;33m\u001b[0m\u001b[0m\n\u001b[0m\u001b[0;32m   1083\u001b[0m \u001b[1;33m\u001b[0m\u001b[0m\n\u001b[0;32m   1084\u001b[0m         \u001b[0mframes\u001b[0m \u001b[1;33m=\u001b[0m \u001b[0mself\u001b[0m\u001b[1;33m.\u001b[0m\u001b[0mformat_records\u001b[0m\u001b[1;33m(\u001b[0m\u001b[0mrecords\u001b[0m\u001b[1;33m,\u001b[0m \u001b[0mlast_unique\u001b[0m\u001b[1;33m,\u001b[0m \u001b[0mrecursion_repeat\u001b[0m\u001b[1;33m)\u001b[0m\u001b[1;33m\u001b[0m\u001b[1;33m\u001b[0m\u001b[0m\n",
      "\u001b[1;32m~\\Anaconda3\\envs\\openCV\\lib\\site-packages\\IPython\\core\\ultratb.py\u001b[0m in \u001b[0;36mfind_recursion\u001b[1;34m(etype, value, records)\u001b[0m\n\u001b[0;32m    380\u001b[0m     \u001b[1;31m# first frame (from in to out) that looks different.\u001b[0m\u001b[1;33m\u001b[0m\u001b[1;33m\u001b[0m\u001b[1;33m\u001b[0m\u001b[0m\n\u001b[0;32m    381\u001b[0m     \u001b[1;32mif\u001b[0m \u001b[1;32mnot\u001b[0m \u001b[0mis_recursion_error\u001b[0m\u001b[1;33m(\u001b[0m\u001b[0metype\u001b[0m\u001b[1;33m,\u001b[0m \u001b[0mvalue\u001b[0m\u001b[1;33m,\u001b[0m \u001b[0mrecords\u001b[0m\u001b[1;33m)\u001b[0m\u001b[1;33m:\u001b[0m\u001b[1;33m\u001b[0m\u001b[1;33m\u001b[0m\u001b[0m\n\u001b[1;32m--> 382\u001b[1;33m         \u001b[1;32mreturn\u001b[0m \u001b[0mlen\u001b[0m\u001b[1;33m(\u001b[0m\u001b[0mrecords\u001b[0m\u001b[1;33m)\u001b[0m\u001b[1;33m,\u001b[0m \u001b[1;36m0\u001b[0m\u001b[1;33m\u001b[0m\u001b[1;33m\u001b[0m\u001b[0m\n\u001b[0m\u001b[0;32m    383\u001b[0m \u001b[1;33m\u001b[0m\u001b[0m\n\u001b[0;32m    384\u001b[0m     \u001b[1;31m# Select filename, lineno, func_name to track frames with\u001b[0m\u001b[1;33m\u001b[0m\u001b[1;33m\u001b[0m\u001b[1;33m\u001b[0m\u001b[0m\n",
      "\u001b[1;31mTypeError\u001b[0m: object of type 'NoneType' has no len()"
     ]
    }
   ],
   "source": [
    "from zipfile import ZipFile as zf\n",
    "import numpy as np\n",
    "from PIL import Image\n",
    "from io import BytesIO\n",
    "import os\n",
    "\n",
    "zip_dic = {'G:/내 드라이브/Colab Notebooks/AIDA/Data/160. 차량파손 이미지 데이터/01.데이터/1.Training/1.원천데이터/': ['TS_damage_part.zip', 'TS_damage.zip'], 'G:/내 드라이브/Colab Notebooks/AIDA/Data/160. 차량파손 이미지 데이터/01.데이터/2.Validation/1.원천데이터/': ['VS_damage_part.zip', 'VS_damage.zip']}\n",
    "\n",
    "i = 1  # 압축 풀기 진행 상황 확인용 변수\n",
    "\n",
    "for path in zip_dic.keys() :\n",
    "    for z in range(len(zip_dic[path])) :\n",
    "        img_name = []  # 파일 이름을 담을 리스트\n",
    "        img_arr_li = []  # 이미지 numpy array를 담을 리스트\n",
    "        \n",
    "        with zf(path + zipz, 'r') as rz :\n",
    "            print(f'\\n{i}번째 경로: { path + z }')  # 현재 조회중인 경로 출력\n",
    "\n",
    "            f_list = rz.namelist()  # zip파일 내부 파일명 리스트\n",
    "            \n",
    "            i += 1  # 경로 조회 진행도 + 1\n",
    "            j = 0  # 파일 조회 진행도 초기화\n",
    "            n = 1\n",
    "            k = len(f_list)\n",
    "            \n",
    "            if i == 2 :  # 코드 실행중 에러로 정지된 부분부터 시작할 때 사용하는 코드 (i번째 경로, j번째 파일부터 조회)\n",
    "                j = 6001\n",
    "                n = 3\n",
    "            \n",
    "            for f in f_list[j:k] :\n",
    "                j += 1\n",
    "                \n",
    "                if f.endswith('.jpg') :\n",
    "                    print(f'\\r진행도 : [{j} / {len(f_list)}] {j / len(f_list) * 100 : .2f}%', end=\"\") # 현재 조회중인 zip파일 변환 진행도 출력\n",
    "                    img_f = rz.read(f)  # 이미지 파일 읽기 : bytes타입\n",
    "                    try :\n",
    "                        img = Image.open(BytesIO(img_f))  # bytes타입을 읽어와 이미지로 변수에 저장\n",
    "                        img_arr = np.array(img)  # 이미지를 numpy array로 변환\n",
    "\n",
    "                        # img_arr_li에 이미지가 존재하지 않으면,\n",
    "                        if sum([np.array_equal(arr,img_arr) for arr in img_arr_li]) == 0 :\n",
    "                            img_name.append(f)  # img_name에 이미지 파일 이름 추가\n",
    "                            img_arr_li.append(img_arr)  # img_arr_li에 이미지 numpy 배열 추가\n",
    "                        # 이미 리스트에 추가한 이미지라면,\n",
    "                        else :\n",
    "                            print('이미 존재하는 데이터')\n",
    "\n",
    "                    # bytes타입 변환 실패시,\n",
    "                    except Exception as e:\n",
    "                        print(e)\n",
    "\n",
    "                if len(img_name) == 3000 :\n",
    "                    # 저장할 파일 이름 설정\n",
    "                    f_name = z[:-4]+str(n)\n",
    "                    \n",
    "                    name = np.array(img_name)  # 이미지 파일 이름을 numpy 배열로 변환\n",
    "                    if not os.path.isdir(f\"G:/내 드라이브/Colab Notebooks/AIDA/Data/160. 차량파손 이미지 데이터/npz/{z[:-4]}/\") :\n",
    "                        os.mkdir(f\"G:/내 드라이브/Colab Notebooks/AIDA/Data/160. 차량파손 이미지 데이터/npz/{z[:-4]}/\")\n",
    "                    \n",
    "                    np.savez_compressed(f\"G:/내 드라이브/Colab Notebooks/AIDA/Data/160. 차량파손 이미지 데이터/npz/{z[:-4]}/{f_name}.npz\", img_arr=img_arr_li, f_name=name)  # 이미지 numpy 배열을 압축한 npz파일 저장하기   \n",
    "                    print(f'\\n{n}번째 npz 저장 완료')\n",
    "                    n += 1\n",
    "                    img_name = []  # 파일 이름을 담을 리스트 리셋\n",
    "                    img_arr_li = []  # 이미지 numpy array를 담을 리스트 리셋\n",
    "          \n",
    "        if len(img_name) != 0 :\n",
    "            # 저장할 파일 이름 설정\n",
    "            f_name = z[:-4] + str(n)\n",
    "\n",
    "            name = np.array(img_name)  # 이미지 파일 이름을 numpy 배열로 변환\n",
    "            np.savez_compressed(f\"G:/내 드라이브/Colab Notebooks/AIDA/Data/160. 차량파손 이미지 데이터/npz/{z[:-4]}/{f_name}.npz\", img_arr=img_arr_li, f_name=img_name)  # 이미지 numpy 배열을 압축한 npz파일 저장하기   \n",
    "            print(\"\\n-END-\")"
   ]
  },
  {
   "cell_type": "markdown",
   "id": "2d0f4597",
   "metadata": {},
   "source": [
    "### npz 파일 이름 겹쳐서 저장되었는지 확인용 코드"
   ]
  },
  {
   "cell_type": "code",
   "execution_count": 30,
   "id": "97bfa37f",
   "metadata": {
    "scrolled": true
   },
   "outputs": [
    {
     "name": "stdout",
     "output_type": "stream",
     "text": [
      "TS_damage1.npz   마지막 파일 인덱스 : 3000 / 처음 파일 인덱스 : 1\n",
      "TS_damage2.npz   마지막 파일 인덱스 : 6000 / 처음 파일 인덱스 : 3001\n"
     ]
    }
   ],
   "source": [
    "from zipfile import ZipFile as zf\n",
    "import numpy as np\n",
    "from PIL import Image\n",
    "from io import BytesIO\n",
    "import os\n",
    "\n",
    "zip_dic = {'G:/내 드라이브/Colab Notebooks/AIDA/Data/160. 차량파손 이미지 데이터/01.데이터/1.Training/1.원천데이터/': ['TS_damage_part.zip', 'TS_damage.zip'], 'G:/내 드라이브/Colab Notebooks/AIDA/Data/160. 차량파손 이미지 데이터/01.데이터/2.Validation/1.원천데이터/': ['VS_damage_part.zip', 'VS_damage.zip']}\n",
    "\n",
    "npz_list = os.listdir(\"G:/내 드라이브/Colab Notebooks/AIDA/Data/160. 차량파손 이미지 데이터/npz/TS_damage/\")\n",
    "npz_list = [npz for npz in npz_list if npz.endswith('.npz')]\n",
    "for i in range(len(npz_list)):\n",
    "    print(f\"TS_damage{i+1}.npz\", end=\"\")\n",
    "    try:\n",
    "        TS_damage_part = np.load(f\"G:/내 드라이브/Colab Notebooks/AIDA/Data/160. 차량파손 이미지 데이터/npz/TS_damage/TS_damage{i+1}.npz\", allow_pickle=True)\n",
    "        f_name3 = TS_damage_part[\"f_name\"][-1]\n",
    "\n",
    "        with zf(\"G:/내 드라이브/Colab Notebooks/AIDA/Data/160. 차량파손 이미지 데이터/01.데이터/1.Training/1.원천데이터/TS_damage.zip\", 'r') as rz :\n",
    "\n",
    "            f_list = rz.namelist()  # zip파일 내부 파일명 리스트\n",
    "            print(f\"   마지막 파일 인덱스 : {f_list.index(f_name3)} / 처음 파일 인덱스 : {f_list.index(TS_damage_part['f_name'][0])}\")\n",
    "    except :\n",
    "        print(\"error\")"
   ]
  },
  {
   "cell_type": "code",
   "execution_count": null,
   "id": "2089be8c",
   "metadata": {},
   "outputs": [],
   "source": []
  },
  {
   "cell_type": "code",
   "execution_count": null,
   "id": "a5f4d7f0",
   "metadata": {},
   "outputs": [],
   "source": []
  },
  {
   "cell_type": "code",
   "execution_count": null,
   "id": "7cbe6b2f",
   "metadata": {},
   "outputs": [],
   "source": []
  },
  {
   "cell_type": "code",
   "execution_count": null,
   "id": "63272383",
   "metadata": {},
   "outputs": [],
   "source": []
  }
 ],
 "metadata": {
  "kernelspec": {
   "display_name": "Python 3 (ipykernel)",
   "language": "python",
   "name": "python3"
  },
  "language_info": {
   "codemirror_mode": {
    "name": "ipython",
    "version": 3
   },
   "file_extension": ".py",
   "mimetype": "text/x-python",
   "name": "python",
   "nbconvert_exporter": "python",
   "pygments_lexer": "ipython3",
   "version": "3.7.13"
  },
  "toc": {
   "base_numbering": 1,
   "nav_menu": {},
   "number_sections": true,
   "sideBar": true,
   "skip_h1_title": false,
   "title_cell": "Table of Contents",
   "title_sidebar": "Contents",
   "toc_cell": false,
   "toc_position": {},
   "toc_section_display": true,
   "toc_window_display": false
  }
 },
 "nbformat": 4,
 "nbformat_minor": 5
}
