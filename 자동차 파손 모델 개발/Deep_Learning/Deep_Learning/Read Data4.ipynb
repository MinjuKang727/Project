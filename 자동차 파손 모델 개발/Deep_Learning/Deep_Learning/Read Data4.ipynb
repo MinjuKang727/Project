{
 "cells": [
  {
   "cell_type": "code",
   "execution_count": null,
   "id": "1f8fe68d",
   "metadata": {
    "scrolled": true
   },
   "outputs": [],
   "source": [
    "# !pip install labelimg"
   ]
  },
  {
   "cell_type": "code",
   "execution_count": null,
   "id": "872c30bc",
   "metadata": {},
   "outputs": [],
   "source": [
    "# 이미지 라벨링(bbox) 프로그램 실행\n",
    "# !labelimg"
   ]
  },
  {
   "cell_type": "code",
   "execution_count": 1,
   "id": "71ab70fe",
   "metadata": {
    "scrolled": true
   },
   "outputs": [
    {
     "name": "stdout",
     "output_type": "stream",
     "text": [
      "100 ['G:/내 드라이브/Colab Notebooks/AIDA/Data/자동차 차종-연식-번호판 인식용 영상/Training/[라벨]자동차번호판OCR_train/', 'G:/내 드라이브/Colab Notebooks/AIDA/Data/자동차 차종-연식-번호판 인식용 영상/Validation/[라벨]자동차번호판OCR_valid/', 'G:/내 드라이브/Colab Notebooks/AIDA/Data/자동차 차종-연식-번호판 인식용 영상/원본이미지/[원본]라벨링데이터/merged/SUV/BMW/', 'G:/내 드라이브/Colab Notebooks/AIDA/Data/자동차 차종-연식-번호판 인식용 영상/Training/[라벨]차종분류_train/라벨링데이터/차종분류데이터/SUV/BMW/', 'G:/내 드라이브/Colab Notebooks/AIDA/Data/자동차 차종-연식-번호판 인식용 영상/Training/[라벨]차종분류_train/라벨링데이터/차종분류데이터/SUV/기아자동차/', 'G:/내 드라이브/Colab Notebooks/AIDA/Data/자동차 차종-연식-번호판 인식용 영상/Training/[라벨]차종분류_train/라벨링데이터/차종분류데이터/SUV/닛산/', 'G:/내 드라이브/Colab Notebooks/AIDA/Data/자동차 차종-연식-번호판 인식용 영상/Training/[라벨]차종분류_train/라벨링데이터/차종분류데이터/SUV/도요타/', 'G:/내 드라이브/Colab Notebooks/AIDA/Data/자동차 차종-연식-번호판 인식용 영상/Training/[라벨]차종분류_train/라벨링데이터/차종분류데이터/SUV/랜드로버/', 'G:/내 드라이브/Colab Notebooks/AIDA/Data/자동차 차종-연식-번호판 인식용 영상/Training/[라벨]차종분류_train/라벨링데이터/차종분류데이터/SUV/렉서스/', 'G:/내 드라이브/Colab Notebooks/AIDA/Data/자동차 차종-연식-번호판 인식용 영상/Training/[라벨]차종분류_train/라벨링데이터/차종분류데이터/SUV/르노삼성/', 'G:/내 드라이브/Colab Notebooks/AIDA/Data/자동차 차종-연식-번호판 인식용 영상/Training/[라벨]차종분류_train/라벨링데이터/차종분류데이터/SUV/미니/', 'G:/내 드라이브/Colab Notebooks/AIDA/Data/자동차 차종-연식-번호판 인식용 영상/Training/[라벨]차종분류_train/라벨링데이터/차종분류데이터/SUV/벤츠/', 'G:/내 드라이브/Colab Notebooks/AIDA/Data/자동차 차종-연식-번호판 인식용 영상/Training/[라벨]차종분류_train/라벨링데이터/차종분류데이터/SUV/볼보/', 'G:/내 드라이브/Colab Notebooks/AIDA/Data/자동차 차종-연식-번호판 인식용 영상/Training/[라벨]차종분류_train/라벨링데이터/차종분류데이터/SUV/쉐보레_대우/', 'G:/내 드라이브/Colab Notebooks/AIDA/Data/자동차 차종-연식-번호판 인식용 영상/Training/[라벨]차종분류_train/라벨링데이터/차종분류데이터/SUV/쌍용자동차/', 'G:/내 드라이브/Colab Notebooks/AIDA/Data/자동차 차종-연식-번호판 인식용 영상/Training/[라벨]차종분류_train/라벨링데이터/차종분류데이터/SUV/아우디/', 'G:/내 드라이브/Colab Notebooks/AIDA/Data/자동차 차종-연식-번호판 인식용 영상/Training/[라벨]차종분류_train/라벨링데이터/차종분류데이터/SUV/인피니티/', 'G:/내 드라이브/Colab Notebooks/AIDA/Data/자동차 차종-연식-번호판 인식용 영상/Training/[라벨]차종분류_train/라벨링데이터/차종분류데이터/SUV/재규어/', 'G:/내 드라이브/Colab Notebooks/AIDA/Data/자동차 차종-연식-번호판 인식용 영상/Training/[라벨]차종분류_train/라벨링데이터/차종분류데이터/SUV/제네시스/', 'G:/내 드라이브/Colab Notebooks/AIDA/Data/자동차 차종-연식-번호판 인식용 영상/Training/[라벨]차종분류_train/라벨링데이터/차종분류데이터/SUV/지프/', 'G:/내 드라이브/Colab Notebooks/AIDA/Data/자동차 차종-연식-번호판 인식용 영상/Training/[라벨]차종분류_train/라벨링데이터/차종분류데이터/SUV/테슬라/', 'G:/내 드라이브/Colab Notebooks/AIDA/Data/자동차 차종-연식-번호판 인식용 영상/Training/[라벨]차종분류_train/라벨링데이터/차종분류데이터/SUV/포드/', 'G:/내 드라이브/Colab Notebooks/AIDA/Data/자동차 차종-연식-번호판 인식용 영상/Training/[라벨]차종분류_train/라벨링데이터/차종분류데이터/SUV/포르쉐/', 'G:/내 드라이브/Colab Notebooks/AIDA/Data/자동차 차종-연식-번호판 인식용 영상/Training/[라벨]차종분류_train/라벨링데이터/차종분류데이터/SUV/폭스바겐/', 'G:/내 드라이브/Colab Notebooks/AIDA/Data/자동차 차종-연식-번호판 인식용 영상/Training/[라벨]차종분류_train/라벨링데이터/차종분류데이터/SUV/푸조/', 'G:/내 드라이브/Colab Notebooks/AIDA/Data/자동차 차종-연식-번호판 인식용 영상/Training/[라벨]차종분류_train/라벨링데이터/차종분류데이터/SUV/현대자동차/', 'G:/내 드라이브/Colab Notebooks/AIDA/Data/자동차 차종-연식-번호판 인식용 영상/Training/[라벨]차종분류_train/라벨링데이터/차종분류데이터/SUV/혼다/', 'G:/내 드라이브/Colab Notebooks/AIDA/Data/자동차 차종-연식-번호판 인식용 영상/Training/[라벨]차종분류_train/라벨링데이터/차종분류데이터/버스/버스/', 'G:/내 드라이브/Colab Notebooks/AIDA/Data/자동차 차종-연식-번호판 인식용 영상/Training/[라벨]차종분류_train/라벨링데이터/차종분류데이터/버스/특수/', 'G:/내 드라이브/Colab Notebooks/AIDA/Data/자동차 차종-연식-번호판 인식용 영상/Training/[라벨]차종분류_train/라벨링데이터/차종분류데이터/세단/BMW/', 'G:/내 드라이브/Colab Notebooks/AIDA/Data/자동차 차종-연식-번호판 인식용 영상/Training/[라벨]차종분류_train/라벨링데이터/차종분류데이터/세단/기아자동차/', 'G:/내 드라이브/Colab Notebooks/AIDA/Data/자동차 차종-연식-번호판 인식용 영상/Training/[라벨]차종분류_train/라벨링데이터/차종분류데이터/세단/닛산/', 'G:/내 드라이브/Colab Notebooks/AIDA/Data/자동차 차종-연식-번호판 인식용 영상/Training/[라벨]차종분류_train/라벨링데이터/차종분류데이터/세단/도요타/', 'G:/내 드라이브/Colab Notebooks/AIDA/Data/자동차 차종-연식-번호판 인식용 영상/Training/[라벨]차종분류_train/라벨링데이터/차종분류데이터/세단/렉서스/', 'G:/내 드라이브/Colab Notebooks/AIDA/Data/자동차 차종-연식-번호판 인식용 영상/Training/[라벨]차종분류_train/라벨링데이터/차종분류데이터/세단/르노삼성/', 'G:/내 드라이브/Colab Notebooks/AIDA/Data/자동차 차종-연식-번호판 인식용 영상/Training/[라벨]차종분류_train/라벨링데이터/차종분류데이터/세단/벤츠/', 'G:/내 드라이브/Colab Notebooks/AIDA/Data/자동차 차종-연식-번호판 인식용 영상/Training/[라벨]차종분류_train/라벨링데이터/차종분류데이터/세단/볼보/', 'G:/내 드라이브/Colab Notebooks/AIDA/Data/자동차 차종-연식-번호판 인식용 영상/Training/[라벨]차종분류_train/라벨링데이터/차종분류데이터/세단/쉐보레_대우/', 'G:/내 드라이브/Colab Notebooks/AIDA/Data/자동차 차종-연식-번호판 인식용 영상/Training/[라벨]차종분류_train/라벨링데이터/차종분류데이터/세단/쌍용자동차/', 'G:/내 드라이브/Colab Notebooks/AIDA/Data/자동차 차종-연식-번호판 인식용 영상/Training/[라벨]차종분류_train/라벨링데이터/차종분류데이터/세단/아우디/', 'G:/내 드라이브/Colab Notebooks/AIDA/Data/자동차 차종-연식-번호판 인식용 영상/Training/[라벨]차종분류_train/라벨링데이터/차종분류데이터/세단/인피니티/', 'G:/내 드라이브/Colab Notebooks/AIDA/Data/자동차 차종-연식-번호판 인식용 영상/Training/[라벨]차종분류_train/라벨링데이터/차종분류데이터/세단/재규어/', 'G:/내 드라이브/Colab Notebooks/AIDA/Data/자동차 차종-연식-번호판 인식용 영상/Training/[라벨]차종분류_train/라벨링데이터/차종분류데이터/세단/제네시스/', 'G:/내 드라이브/Colab Notebooks/AIDA/Data/자동차 차종-연식-번호판 인식용 영상/Training/[라벨]차종분류_train/라벨링데이터/차종분류데이터/세단/테슬라/', 'G:/내 드라이브/Colab Notebooks/AIDA/Data/자동차 차종-연식-번호판 인식용 영상/Training/[라벨]차종분류_train/라벨링데이터/차종분류데이터/세단/포드/', 'G:/내 드라이브/Colab Notebooks/AIDA/Data/자동차 차종-연식-번호판 인식용 영상/Training/[라벨]차종분류_train/라벨링데이터/차종분류데이터/세단/포르쉐/', 'G:/내 드라이브/Colab Notebooks/AIDA/Data/자동차 차종-연식-번호판 인식용 영상/Training/[라벨]차종분류_train/라벨링데이터/차종분류데이터/세단/폭스바겐/', 'G:/내 드라이브/Colab Notebooks/AIDA/Data/자동차 차종-연식-번호판 인식용 영상/Training/[라벨]차종분류_train/라벨링데이터/차종분류데이터/세단/푸조/', 'G:/내 드라이브/Colab Notebooks/AIDA/Data/자동차 차종-연식-번호판 인식용 영상/Training/[라벨]차종분류_train/라벨링데이터/차종분류데이터/세단/현대자동차/', 'G:/내 드라이브/Colab Notebooks/AIDA/Data/자동차 차종-연식-번호판 인식용 영상/Training/[라벨]차종분류_train/라벨링데이터/차종분류데이터/세단/혼다/', 'G:/내 드라이브/Colab Notebooks/AIDA/Data/자동차 차종-연식-번호판 인식용 영상/Training/[라벨]차종분류_train/라벨링데이터/차종분류데이터/승합/기아자동차/', 'G:/내 드라이브/Colab Notebooks/AIDA/Data/자동차 차종-연식-번호판 인식용 영상/Training/[라벨]차종분류_train/라벨링데이터/차종분류데이터/승합/현대자동차/', 'G:/내 드라이브/Colab Notebooks/AIDA/Data/자동차 차종-연식-번호판 인식용 영상/Training/[라벨]차종분류_train/라벨링데이터/차종분류데이터/승합/혼다/', 'G:/내 드라이브/Colab Notebooks/AIDA/Data/자동차 차종-연식-번호판 인식용 영상/Training/[라벨]차종분류_train/라벨링데이터/차종분류데이터/이륜차/이륜차/', 'G:/내 드라이브/Colab Notebooks/AIDA/Data/자동차 차종-연식-번호판 인식용 영상/Training/[라벨]차종분류_train/라벨링데이터/차종분류데이터/컨버터블/BMW/', 'G:/내 드라이브/Colab Notebooks/AIDA/Data/자동차 차종-연식-번호판 인식용 영상/Training/[라벨]차종분류_train/라벨링데이터/차종분류데이터/컨버터블/포드/', 'G:/내 드라이브/Colab Notebooks/AIDA/Data/자동차 차종-연식-번호판 인식용 영상/Training/[라벨]차종분류_train/라벨링데이터/차종분류데이터/쿠페/BMW/', 'G:/내 드라이브/Colab Notebooks/AIDA/Data/자동차 차종-연식-번호판 인식용 영상/Training/[라벨]차종분류_train/라벨링데이터/차종분류데이터/쿠페/기아자동차/', 'G:/내 드라이브/Colab Notebooks/AIDA/Data/자동차 차종-연식-번호판 인식용 영상/Training/[라벨]차종분류_train/라벨링데이터/차종분류데이터/쿠페/벤츠/', 'G:/내 드라이브/Colab Notebooks/AIDA/Data/자동차 차종-연식-번호판 인식용 영상/Training/[라벨]차종분류_train/라벨링데이터/차종분류데이터/쿠페/아우디/', 'G:/내 드라이브/Colab Notebooks/AIDA/Data/자동차 차종-연식-번호판 인식용 영상/Training/[라벨]차종분류_train/라벨링데이터/차종분류데이터/쿠페/인피니티/', 'G:/내 드라이브/Colab Notebooks/AIDA/Data/자동차 차종-연식-번호판 인식용 영상/Training/[라벨]차종분류_train/라벨링데이터/차종분류데이터/쿠페/제네시스/', 'G:/내 드라이브/Colab Notebooks/AIDA/Data/자동차 차종-연식-번호판 인식용 영상/Training/[라벨]차종분류_train/라벨링데이터/차종분류데이터/쿠페/포드/', 'G:/내 드라이브/Colab Notebooks/AIDA/Data/자동차 차종-연식-번호판 인식용 영상/Training/[라벨]차종분류_train/라벨링데이터/차종분류데이터/쿠페/폭스바겐/', 'G:/내 드라이브/Colab Notebooks/AIDA/Data/자동차 차종-연식-번호판 인식용 영상/Training/[라벨]차종분류_train/라벨링데이터/차종분류데이터/트럭/트럭/', 'G:/내 드라이브/Colab Notebooks/AIDA/Data/자동차 차종-연식-번호판 인식용 영상/Training/[라벨]차종분류_train/라벨링데이터/차종분류데이터/특수/특수/', 'G:/내 드라이브/Colab Notebooks/AIDA/Data/자동차 차종-연식-번호판 인식용 영상/Training/[라벨]차종분류_train/라벨링데이터/차종분류데이터/해치백/BMW/', 'G:/내 드라이브/Colab Notebooks/AIDA/Data/자동차 차종-연식-번호판 인식용 영상/Training/[라벨]차종분류_train/라벨링데이터/차종분류데이터/해치백/기아자동차/', 'G:/내 드라이브/Colab Notebooks/AIDA/Data/자동차 차종-연식-번호판 인식용 영상/Training/[라벨]차종분류_train/라벨링데이터/차종분류데이터/해치백/닛산/', 'G:/내 드라이브/Colab Notebooks/AIDA/Data/자동차 차종-연식-번호판 인식용 영상/Training/[라벨]차종분류_train/라벨링데이터/차종분류데이터/해치백/도요타/', 'G:/내 드라이브/Colab Notebooks/AIDA/Data/자동차 차종-연식-번호판 인식용 영상/Training/[라벨]차종분류_train/라벨링데이터/차종분류데이터/해치백/렉서스/', 'G:/내 드라이브/Colab Notebooks/AIDA/Data/자동차 차종-연식-번호판 인식용 영상/Training/[라벨]차종분류_train/라벨링데이터/차종분류데이터/해치백/미니/', 'G:/내 드라이브/Colab Notebooks/AIDA/Data/자동차 차종-연식-번호판 인식용 영상/Training/[라벨]차종분류_train/라벨링데이터/차종분류데이터/해치백/볼보/', 'G:/내 드라이브/Colab Notebooks/AIDA/Data/자동차 차종-연식-번호판 인식용 영상/Training/[라벨]차종분류_train/라벨링데이터/차종분류데이터/해치백/쉐보레_대우/', 'G:/내 드라이브/Colab Notebooks/AIDA/Data/자동차 차종-연식-번호판 인식용 영상/Training/[라벨]차종분류_train/라벨링데이터/차종분류데이터/해치백/폭스바겐/', 'G:/내 드라이브/Colab Notebooks/AIDA/Data/자동차 차종-연식-번호판 인식용 영상/Training/[라벨]차종분류_train/라벨링데이터/차종분류데이터/해치백/푸조/', 'G:/내 드라이브/Colab Notebooks/AIDA/Data/자동차 차종-연식-번호판 인식용 영상/Training/[라벨]차종분류_train/라벨링데이터/차종분류데이터/해치백/현대자동차/', 'G:/내 드라이브/Colab Notebooks/AIDA/Data/자동차 차종-연식-번호판 인식용 영상/Training/[라벨]차종분류_train/라벨링데이터/차종분류데이터/화물/특수/', 'G:/내 드라이브/Colab Notebooks/AIDA/Data/자동차 차종-연식-번호판 인식용 영상/Validation/[라벨]차종분류_valid/라벨링데이터/차종분류데이터/SUV/기아자동차/', 'G:/내 드라이브/Colab Notebooks/AIDA/Data/자동차 차종-연식-번호판 인식용 영상/Validation/[라벨]차종분류_valid/라벨링데이터/차종분류데이터/SUV/르노삼성/', 'G:/내 드라이브/Colab Notebooks/AIDA/Data/자동차 차종-연식-번호판 인식용 영상/Validation/[라벨]차종분류_valid/라벨링데이터/차종분류데이터/SUV/쉐보레_대우/', 'G:/내 드라이브/Colab Notebooks/AIDA/Data/자동차 차종-연식-번호판 인식용 영상/Validation/[라벨]차종분류_valid/라벨링데이터/차종분류데이터/SUV/쌍용자동차/', 'G:/내 드라이브/Colab Notebooks/AIDA/Data/자동차 차종-연식-번호판 인식용 영상/Validation/[라벨]차종분류_valid/라벨링데이터/차종분류데이터/SUV/제네시스/', 'G:/내 드라이브/Colab Notebooks/AIDA/Data/자동차 차종-연식-번호판 인식용 영상/Validation/[라벨]차종분류_valid/라벨링데이터/차종분류데이터/SUV/현대자동차/', 'G:/내 드라이브/Colab Notebooks/AIDA/Data/자동차 차종-연식-번호판 인식용 영상/Validation/[라벨]차종분류_valid/라벨링데이터/차종분류데이터/버스/버스/', 'G:/내 드라이브/Colab Notebooks/AIDA/Data/자동차 차종-연식-번호판 인식용 영상/Validation/[라벨]차종분류_valid/라벨링데이터/차종분류데이터/세단/BMW/', 'G:/내 드라이브/Colab Notebooks/AIDA/Data/자동차 차종-연식-번호판 인식용 영상/Validation/[라벨]차종분류_valid/라벨링데이터/차종분류데이터/세단/기아자동차/', 'G:/내 드라이브/Colab Notebooks/AIDA/Data/자동차 차종-연식-번호판 인식용 영상/Validation/[라벨]차종분류_valid/라벨링데이터/차종분류데이터/세단/르노삼성/', 'G:/내 드라이브/Colab Notebooks/AIDA/Data/자동차 차종-연식-번호판 인식용 영상/Validation/[라벨]차종분류_valid/라벨링데이터/차종분류데이터/세단/벤츠/', 'G:/내 드라이브/Colab Notebooks/AIDA/Data/자동차 차종-연식-번호판 인식용 영상/Validation/[라벨]차종분류_valid/라벨링데이터/차종분류데이터/세단/쉐보레_대우/', 'G:/내 드라이브/Colab Notebooks/AIDA/Data/자동차 차종-연식-번호판 인식용 영상/Validation/[라벨]차종분류_valid/라벨링데이터/차종분류데이터/세단/제네시스/', 'G:/내 드라이브/Colab Notebooks/AIDA/Data/자동차 차종-연식-번호판 인식용 영상/Validation/[라벨]차종분류_valid/라벨링데이터/차종분류데이터/세단/현대자동차/', 'G:/내 드라이브/Colab Notebooks/AIDA/Data/자동차 차종-연식-번호판 인식용 영상/Validation/[라벨]차종분류_valid/라벨링데이터/차종분류데이터/승합/기아자동차/', 'G:/내 드라이브/Colab Notebooks/AIDA/Data/자동차 차종-연식-번호판 인식용 영상/Validation/[라벨]차종분류_valid/라벨링데이터/차종분류데이터/승합/현대자동차/', 'G:/내 드라이브/Colab Notebooks/AIDA/Data/자동차 차종-연식-번호판 인식용 영상/Validation/[라벨]차종분류_valid/라벨링데이터/차종분류데이터/이륜차/이륜차/', 'G:/내 드라이브/Colab Notebooks/AIDA/Data/자동차 차종-연식-번호판 인식용 영상/Validation/[라벨]차종분류_valid/라벨링데이터/차종분류데이터/트럭/트럭/', 'G:/내 드라이브/Colab Notebooks/AIDA/Data/자동차 차종-연식-번호판 인식용 영상/Validation/[라벨]차종분류_valid/라벨링데이터/차종분류데이터/해치백/기아자동차/', 'G:/내 드라이브/Colab Notebooks/AIDA/Data/자동차 차종-연식-번호판 인식용 영상/Validation/[라벨]차종분류_valid/라벨링데이터/차종분류데이터/해치백/쉐보레_대우/', 'G:/내 드라이브/Colab Notebooks/AIDA/Data/자동차 차종-연식-번호판 인식용 영상/Validation/[라벨]차종분류_valid/라벨링데이터/차종분류데이터/해치백/현대자동차/', 'G:/내 드라이브/Colab Notebooks/AIDA/Data/자동차 차종-연식-번호판 인식용 영상/Validation/[라벨]차종분류_valid/라벨링데이터/차종분류데이터/화물/특수/']\n"
     ]
    }
   ],
   "source": [
    "# json파일 경로 txt파일에서 읽어오기\n",
    "\n",
    "path = \"G:/내 드라이브/Colab Notebooks/AIDA/Data/\"\n",
    "json_dirs = []\n",
    "with open(path + 'JSON_dir.txt', 'r', encoding='utf-8') as f :\n",
    "    data= f.readlines()\n",
    "    json_dirs = [d.strip().replace('/content/drive/MyDrive/',\"G:/내 드라이브/\") for d in data]\n",
    "    print(len(json_dirs), json_dirs)"
   ]
  },
  {
   "cell_type": "code",
   "execution_count": 2,
   "id": "83350e85",
   "metadata": {},
   "outputs": [
    {
     "ename": "NameError",
     "evalue": "name 'json_car' is not defined",
     "output_type": "error",
     "traceback": [
      "\u001b[1;31m---------------------------------------------------------------------------\u001b[0m",
      "\u001b[1;31mNameError\u001b[0m                                 Traceback (most recent call last)",
      "\u001b[1;32m~\\AppData\\Local\\Temp\\ipykernel_14976\\2129816507.py\u001b[0m in \u001b[0;36m<module>\u001b[1;34m\u001b[0m\n\u001b[0;32m      1\u001b[0m \u001b[1;31m# 다음 셀 실행 중, 에러 났을 때, 조회중이던 경로 인덱스 찾기\u001b[0m\u001b[1;33m\u001b[0m\u001b[1;33m\u001b[0m\u001b[1;33m\u001b[0m\u001b[0m\n\u001b[1;32m----> 2\u001b[1;33m \u001b[0mi\u001b[0m \u001b[1;33m=\u001b[0m \u001b[0mjson_car\u001b[0m\u001b[1;33m.\u001b[0m\u001b[0mindex\u001b[0m\u001b[1;33m(\u001b[0m\u001b[1;34m\"G:/내 드라이브/Colab Notebooks/AIDA/Data/자동차 차종-연식-번호판 인식용 영상/Validation/[라벨]차종분류_valid/라벨링데이터/차종분류데이터/세단/현대자동차/\"\u001b[0m\u001b[1;33m)\u001b[0m\u001b[1;33m\u001b[0m\u001b[1;33m\u001b[0m\u001b[0m\n\u001b[0m\u001b[0;32m      3\u001b[0m \u001b[0mprint\u001b[0m\u001b[1;33m(\u001b[0m\u001b[0mi\u001b[0m\u001b[1;33m)\u001b[0m\u001b[1;33m\u001b[0m\u001b[1;33m\u001b[0m\u001b[0m\n",
      "\u001b[1;31mNameError\u001b[0m: name 'json_car' is not defined"
     ]
    }
   ],
   "source": [
    "# 다음 셀 실행 중, 에러 났을 때, 조회중이던 경로 인덱스 찾기\n",
    "i = json_car.index(\"G:/내 드라이브/Colab Notebooks/AIDA/Data/자동차 차종-연식-번호판 인식용 영상/Validation/[라벨]차종분류_valid/라벨링데이터/차종분류데이터/세단/현대자동차/\")\n",
    "print(i)"
   ]
  },
  {
   "cell_type": "code",
   "execution_count": 3,
   "id": "008f132b",
   "metadata": {},
   "outputs": [],
   "source": [
    "brand = set()\n",
    "model = set()\n",
    "color = set()\n",
    "year = set()"
   ]
  },
  {
   "cell_type": "code",
   "execution_count": 9,
   "id": "3a429e2c",
   "metadata": {
    "scrolled": true
   },
   "outputs": [
    {
     "name": "stdout",
     "output_type": "stream",
     "text": [
      "총 경로 수 : 98\n",
      "\n",
      "22번째 경로 : G:/내 드라이브/Colab Notebooks/AIDA/Data/자동차 차종-연식-번호판 인식용 영상/Training/[라벨]차종분류_train/라벨링데이터/차종분류데이터/화물/특수/\n",
      "진행도 : [22337/22337] 100.00%\n",
      "23번째 경로 : G:/내 드라이브/Colab Notebooks/AIDA/Data/자동차 차종-연식-번호판 인식용 영상/Training/[라벨]차종분류_train/라벨링데이터/차종분류데이터/해치백/현대자동차/\n",
      "진행도 : [3741/3741] 100.00%\n",
      "24번째 경로 : G:/내 드라이브/Colab Notebooks/AIDA/Data/자동차 차종-연식-번호판 인식용 영상/Training/[라벨]차종분류_train/라벨링데이터/차종분류데이터/해치백/푸조/\n",
      "진행도 : [104/104] 100.00%\n",
      "25번째 경로 : G:/내 드라이브/Colab Notebooks/AIDA/Data/자동차 차종-연식-번호판 인식용 영상/Training/[라벨]차종분류_train/라벨링데이터/차종분류데이터/해치백/폭스바겐/\n",
      "진행도 : [362/362] 100.00%\n",
      "26번째 경로 : G:/내 드라이브/Colab Notebooks/AIDA/Data/자동차 차종-연식-번호판 인식용 영상/Training/[라벨]차종분류_train/라벨링데이터/차종분류데이터/해치백/쉐보레_대우/\n",
      "진행도 : [4078/9820] 41.53%[Errno 22] Invalid argument\n"
     ]
    },
    {
     "ename": "OSError",
     "evalue": "[Errno 22] Invalid argument",
     "output_type": "error",
     "traceback": [
      "\u001b[1;31m---------------------------------------------------------------------------\u001b[0m",
      "\u001b[1;31mOSError\u001b[0m                                   Traceback (most recent call last)",
      "\u001b[1;32m~\\AppData\\Local\\Temp\\ipykernel_14976\\2147923933.py\u001b[0m in \u001b[0;36m<module>\u001b[1;34m\u001b[0m\n\u001b[0;32m     28\u001b[0m             \u001b[1;32mtry\u001b[0m\u001b[1;33m:\u001b[0m\u001b[1;33m\u001b[0m\u001b[1;33m\u001b[0m\u001b[0m\n\u001b[1;32m---> 29\u001b[1;33m                 \u001b[0mdata\u001b[0m \u001b[1;33m=\u001b[0m \u001b[0mf\u001b[0m\u001b[1;33m.\u001b[0m\u001b[0mreadlines\u001b[0m\u001b[1;33m(\u001b[0m\u001b[1;33m)\u001b[0m\u001b[1;33m[\u001b[0m\u001b[1;36m0\u001b[0m\u001b[1;33m]\u001b[0m\u001b[1;33m.\u001b[0m\u001b[0msplit\u001b[0m\u001b[1;33m(\u001b[0m\u001b[1;34m'\\\"'\u001b[0m\u001b[1;33m)\u001b[0m\u001b[1;33m\u001b[0m\u001b[1;33m\u001b[0m\u001b[0m\n\u001b[0m\u001b[0;32m     30\u001b[0m                 \u001b[0mbrand\u001b[0m\u001b[1;33m.\u001b[0m\u001b[0madd\u001b[0m\u001b[1;33m(\u001b[0m\u001b[0mdata\u001b[0m\u001b[1;33m[\u001b[0m\u001b[0mdata\u001b[0m\u001b[1;33m.\u001b[0m\u001b[0mindex\u001b[0m\u001b[1;33m(\u001b[0m\u001b[1;34m\"brand\"\u001b[0m\u001b[1;33m)\u001b[0m \u001b[1;33m+\u001b[0m \u001b[1;36m2\u001b[0m\u001b[1;33m]\u001b[0m\u001b[1;33m)\u001b[0m\u001b[1;33m\u001b[0m\u001b[1;33m\u001b[0m\u001b[0m\n",
      "\u001b[1;31mOSError\u001b[0m: [Errno 22] Invalid argument",
      "\nDuring handling of the above exception, another exception occurred:\n",
      "\u001b[1;31mOSError\u001b[0m                                   Traceback (most recent call last)",
      "\u001b[1;32m~\\AppData\\Local\\Temp\\ipykernel_14976\\2147923933.py\u001b[0m in \u001b[0;36m<module>\u001b[1;34m\u001b[0m\n\u001b[0;32m     43\u001b[0m             \u001b[1;32mexcept\u001b[0m \u001b[0mException\u001b[0m \u001b[1;32mas\u001b[0m \u001b[0me\u001b[0m \u001b[1;33m:\u001b[0m\u001b[1;33m\u001b[0m\u001b[1;33m\u001b[0m\u001b[0m\n\u001b[0;32m     44\u001b[0m                 \u001b[0mprint\u001b[0m\u001b[1;33m(\u001b[0m\u001b[0me\u001b[0m\u001b[1;33m)\u001b[0m\u001b[1;33m\u001b[0m\u001b[1;33m\u001b[0m\u001b[0m\n\u001b[1;32m---> 45\u001b[1;33m                 \u001b[0mprint\u001b[0m\u001b[1;33m(\u001b[0m\u001b[0mf\u001b[0m\u001b[1;33m.\u001b[0m\u001b[0mreadlines\u001b[0m\u001b[1;33m(\u001b[0m\u001b[1;33m)\u001b[0m\u001b[1;33m)\u001b[0m\u001b[1;33m\u001b[0m\u001b[1;33m\u001b[0m\u001b[0m\n\u001b[0m\u001b[0;32m     46\u001b[0m \u001b[1;33m\u001b[0m\u001b[0m\n\u001b[0;32m     47\u001b[0m \u001b[1;31m#         print(time.time() - start)   # 코드 효율성 확인용 실행 시간 측정\u001b[0m\u001b[1;33m\u001b[0m\u001b[1;33m\u001b[0m\u001b[1;33m\u001b[0m\u001b[0m\n",
      "\u001b[1;31mOSError\u001b[0m: [Errno 22] Invalid argument"
     ]
    }
   ],
   "source": [
    "import os\n",
    "import json\n",
    "import time\n",
    "\n",
    "# start = time.time()  # 코드 실행 시작 시간 기록\n",
    "\n",
    "# Brand, Model, Color, Year의 classes 알아보기\n",
    "class_c = [\"brand\", \"model\", \"color\", \"year\"]\n",
    "json_car = [ d for d in json_dirs if '자동차번호판OCR' not in d]\n",
    "json_car.reverse()\n",
    "\n",
    "\n",
    "m = 22\n",
    "print(f'총 경로 수 : {len(json_car)}')\n",
    "\n",
    "\n",
    "for d in json_car[m:] :\n",
    "    i = 0\n",
    "#     if m == 22 :\n",
    "#         i = 3825\n",
    "    print(f\"\\n{m}번째 경로 : {d}\")\n",
    "    j_list = os.listdir(d)\n",
    "    for j in j_list[i:] :\n",
    "        i += 1\n",
    "        print(f\"\\r진행도 : [{i}/{len(j_list)}] {i/len(j_list)*100:.2f}%\", end=\"\")\n",
    "        \n",
    "        with open(d+j, 'r', encoding=\"utf-8\") as f :\n",
    "            try: \n",
    "                data = f.readlines()[0].split('\\\"')\n",
    "                brand.add(data[data.index(\"brand\") + 2])\n",
    "                model.add(data[data.index(\"model\") + 2])\n",
    "                color.add(data[data.index(\"color\") + 2])\n",
    "                try :\n",
    "                    year_ = [int(y) for y in data[data.index(\"year\") + 2].split('-') if y != \"\" and str.isdigit(y)]\n",
    "                    if len(year_) == 2 :\n",
    "                        for y in range(year_[0], year_[1]+1) :\n",
    "                            year.add(y)\n",
    "                    elif len(year_) == 1 :\n",
    "                        year.add(year_[0])\n",
    "                except Exception as e :\n",
    "                    print(data, end=\"\")\n",
    "                    model.add(data[data.index(\"year\") + 2])             \n",
    "            except Exception as e :\n",
    "                print(e)\n",
    "                print(f.readlines())\n",
    "\n",
    "#         print(time.time() - start)   # 코드 효율성 확인용 실행 시간 측정\n",
    "    for c in class_c :\n",
    "        with open(f\"G:/내 드라이브/Colab Notebooks/AIDA/Data/YOLOv5_{c.capitalize()}.txt\", 'w') as t :\n",
    "            t.write('{}'.format(\"\\n\".join(brand)))\n",
    "            \n",
    "    m += 1\n",
    "print()\n",
    "print(brand)\n",
    "print(model)\n",
    "print(color)\n",
    "print(year)"
   ]
  },
  {
   "cell_type": "markdown",
   "id": "2e5790c4",
   "metadata": {},
   "source": [
    "### 중간 종료된 경로\n",
    "- 22번째 경로 : G:/내 드라이브/Colab Notebooks/AIDA/Data/자동차 차종-연식-번호판 인식용 영상/Training/[라벨]차종분류_train/라벨링데이터/차종분류데이터/화물/특수/\n"
   ]
  },
  {
   "cell_type": "markdown",
   "id": "7258e8d5",
   "metadata": {},
   "source": [
    "#### 코드 실행 시간 측정\n",
    "- json.loads() : 0.2963852882385254\n",
    "- data.split(\"\\\"\") : 0.09812307357788086"
   ]
  },
  {
   "cell_type": "code",
   "execution_count": null,
   "id": "65050d60",
   "metadata": {},
   "outputs": [],
   "source": [
    "\"2020-\".split(\"-\")"
   ]
  },
  {
   "cell_type": "code",
   "execution_count": null,
   "id": "e5d8ee11",
   "metadata": {},
   "outputs": [],
   "source": [
    "print(brand)\n",
    "print(model)\n",
    "print(color)\n",
    "print(year)"
   ]
  }
 ],
 "metadata": {
  "kernelspec": {
   "display_name": "Python 3 (ipykernel)",
   "language": "python",
   "name": "python3"
  },
  "language_info": {
   "codemirror_mode": {
    "name": "ipython",
    "version": 3
   },
   "file_extension": ".py",
   "mimetype": "text/x-python",
   "name": "python",
   "nbconvert_exporter": "python",
   "pygments_lexer": "ipython3",
   "version": "3.7.13"
  },
  "toc": {
   "base_numbering": 1,
   "nav_menu": {},
   "number_sections": true,
   "sideBar": true,
   "skip_h1_title": false,
   "title_cell": "Table of Contents",
   "title_sidebar": "Contents",
   "toc_cell": false,
   "toc_position": {},
   "toc_section_display": true,
   "toc_window_display": false
  }
 },
 "nbformat": 4,
 "nbformat_minor": 5
}
