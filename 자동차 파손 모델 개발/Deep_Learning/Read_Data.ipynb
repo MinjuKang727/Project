{
 "cells": [
  {
   "cell_type": "markdown",
   "id": "XjyhN3cb5PkX",
   "metadata": {
    "id": "XjyhN3cb5PkX"
   },
   "source": [
    "# Sample Data 저장 경로"
   ]
  },
  {
   "cell_type": "code",
   "execution_count": null,
   "id": "q7oRKcgOyyMJ",
   "metadata": {
    "id": "q7oRKcgOyyMJ"
   },
   "outputs": [],
   "source": [
    "json_dir_sample = {\n",
    "    \"breakage1\" : \"../Car_Breakage_Data/Data_sample/JSON/damage/\",\n",
    "    \"breakage2\" : \"../Car_Breakage_Data/Data_sample/JSON/damage_part/\",\n",
    "    \"sedan_gia\" : \"../Car_NumberNAge_Data/Data_sample/JSON/car_type/sedan/GIA/\",\n",
    "    \"sedan_hyeondai\" : \"../Car_NumberNAge_Data/Data_sample/JSON/car_type/sedan/Hyeondai/\",\n",
    "    \"suv_gia\" : \"../Car_NumberNAge_Data/Data_sample/JSON/car_type/SUV/GIA/\",\n",
    "    \"suv_hyeondai\" : \"../Car_NumberNAge_Data/Data_sample/JSON/car_type/SUV/Hyeondai/\",\n",
    "    \"number\" : \"../Car_NumberNAge_Data/Data_sample/JSON/car_number/\"\n",
    "}\n",
    "\n",
    "image_dir_sample = {\n",
    "    \"breakage1\" : \"../Car_Breakage_Data/Data_sample/image/damage/\",\n",
    "    \"breakage2\" : \"../Car_Breakage_Data/Data_sample/image/damage_part/\",\n",
    "    \"suv_gia\" : \"../Car_NumberNAge_Data/Data_sample/image/car_type/SUV/GIA/\",\n",
    "    \"suv_hyeondai\" : \"../Car_NumberNAge_Data/Data_sample/image/car_type/SUV/Hyeondai/\",\n",
    "    \"number\" : \"../Car_NumberNAge_Data/Data_sample/image/car_number/\"\n",
    "}\n"
   ]
  },
  {
   "cell_type": "markdown",
   "id": "3882dd1c",
   "metadata": {
    "id": "oHRtsJ_RoMPA"
   },
   "source": [
    "# 차량 파손\n",
    "\n",
    "## breakage1 ~ 2\n",
    "- json_data[\"info\"] ['name', 'date_created'], '\n",
    "- json_data[\"images\"] ['id', 'width', 'height', 'file_name'], \n",
    "- json_data[\"annotations\"][0] ['id', 'image_id', 'category_id', 'segmentation', 'area', 'bbox', 'damage', 'part', 'year', 'color', 'level', 'repair']\n",
    "- json_data[\"categories\"] ['id', 'supercategory_name']\n"
   ]
  },
  {
   "cell_type": "code",
   "execution_count": null,
   "id": "482e12ef",
   "metadata": {
    "id": "pnXKpaU0y1an"
   },
   "outputs": [],
   "source": [
    "import os\n",
    "\n",
    "# JSON파일 불러오기\n",
    "# key : breakage1, breakage2\n",
    "key = \"t_breakage1\"                   # 원하는 데이터 선택\n",
    "j_dir = label_dir[key]            # JSON 파일 폴더 경로\n",
    "file_list_j = os.listdir(j_dir)   # JSON 파일 리스트"
   ]
  },
  {
   "cell_type": "code",
   "execution_count": null,
   "id": "606345eb",
   "metadata": {
    "id": "qOA1ZLZI1QGJ"
   },
   "outputs": [],
   "source": [
    "# image파일 불러오기\n",
    "i_dir = image_dir[key]  # image 파일 폴더 경로\n",
    "file_list_i = os.listdir(i_dir)  # image 파일 리스트"
   ]
  },
  {
   "cell_type": "code",
   "execution_count": null,
   "id": "44bd545b",
   "metadata": {
    "scrolled": false
   },
   "outputs": [],
   "source": [
    "import json\n",
    "import cv2\n",
    "import matplotlib.pyplot as plt\n",
    "import numpy as np\n",
    "import pandas as pd\n",
    "\n",
    "repeat = True\n",
    "with open(j_dir + file_list_j[0], 'r', encoding=\"UTF-8\") as f :\n",
    "    json_data = json.load(f)\n",
    "    key = json_data.keys()\n",
    "    print(key)\n",
    "    for i in keys :\n",
    "        "
   ]
  },
  {
   "cell_type": "code",
   "execution_count": null,
   "id": "cc137ed5",
   "metadata": {},
   "outputs": [],
   "source": [
    "import json\n",
    "with open(j_dir + file_list_j[0], 'r', encoding=\"UTF-8\") as f :\n",
    "    json_data = json.load(f)\n",
    "    print(json_data['car']['imagePath'])"
   ]
  },
  {
   "cell_type": "code",
   "execution_count": null,
   "id": "f7949628",
   "metadata": {
    "colab": {
     "base_uri": "https://localhost:8080/",
     "height": 501
    },
    "id": "ueZDwh0Yy8Gv",
    "outputId": "ac846dec-4f2e-4449-cf67-934a89b26373"
   },
   "outputs": [],
   "source": [
    "import json\n",
    "import cv2\n",
    "import matplotlib.pyplot as plt\n",
    "import numpy as np\n",
    "\n",
    "with open(j_dir + file_list_j[0], 'r', encoding=\"UTF-8\") as f :\n",
    "    json_data = json.load(f)\n",
    "    img_array = np.fromfile(i_dir + json_data['car']['imagePath'].split('/')[-1], np.uint8)\n",
    "    img = cv2.imdecode(img_array, cv2.IMREAD_COLOR)\n",
    "    img = cv2.cvtColor(img, cv2.COLOR_BGR2RGB)\n",
    "    plt.figure(figsize=(20, 8))\n",
    "    plt.imshow(img)\n",
    "    plt.axis(\"off\") \n",
    "    print(json_data)\n",
    "plt.show()  "
   ]
  },
  {
   "cell_type": "code",
   "execution_count": null,
   "id": "1b7ec29e",
   "metadata": {
    "colab": {
     "base_uri": "https://localhost:8080/",
     "height": 501
    },
    "id": "ueZDwh0Yy8Gv",
    "outputId": "ac846dec-4f2e-4449-cf67-934a89b26373"
   },
   "outputs": [],
   "source": [
    "import json\n",
    "import cv2\n",
    "import matplotlib.pyplot as plt\n",
    "\n",
    "with open(j_dir + file_list_j[0], 'r') as f :\n",
    "    json_data = json.load(f)\n",
    "    img = cv2.imread(i_dir + \"/\" + json_data[\"images\"][\"file_name\"])\n",
    "    img = cv2.cvtColor(img, cv2.COLOR_BGR2RGB)\n",
    "    width = json_data[\"images\"][\"width\"]\n",
    "    height = json_data[\"images\"][\"height\"]\n",
    "    for seg in json_data[\"annotations\"][0]['segmentation'][0][0] :\n",
    "      img = cv2.circle(img, tuple(seg), 3, (255, 255, 255), -1)\n",
    "    img = cv2.rectangle(img, json_data[\"annotations\"][0]['bbox'], (100, 100,255), 4)\n",
    "    plt.figure(figsize=(20, 8))\n",
    "    print(\"파손 여부 :\",json_data[\"annotations\"][0]['damage'])\n",
    "    print(\"수리 :\", json_data[\"annotations\"][0]['repair'])\n",
    "    plt.imshow(img)\n",
    "    plt.axis(\"off\") \n",
    "    # print(json_data)\n",
    "plt.show()        "
   ]
  },
  {
   "cell_type": "markdown",
   "id": "59d51369",
   "metadata": {
    "id": "CbWm2Osp2aKH"
   },
   "source": [
    "# 차량 인식\n",
    "\n",
    "## suv\n",
    "- json_data['imagePath'] : ex) 자유시장앞_고정1-20200907-150002-001_1910.jpg\n",
    "- **json_data['car'] ['bbox', 'imagePath', 'attributes']**\n",
    "  - **json_data['car']['attributes'] ['brand', 'color', 'model', 'year']**\n",
    "- json_data['plate'] ['bbox']\n",
    "- json_data['id'] ex) 443c9fc7-6672-4595-aaf4-5d38d435bad7\n",
    "- json_data['videoName']  ex) 자유시장앞_고정1-20200907-150002-001.mp4\n",
    "- json_data['frameNo'] \n",
    "- **json_data['weather']** \n",
    "<br><br>\n",
    "- 차량 인식이라 bbox 크게 안써도 됨"
   ]
  },
  {
   "cell_type": "code",
   "execution_count": null,
   "id": "1039f06d",
   "metadata": {
    "id": "Uxp_wVYV5gLy"
   },
   "outputs": [],
   "source": [
    "import os\n",
    "\n",
    "# JSON파일 불러오기\n",
    "# key : suv_gia, suv_hyeondai\n",
    "key = \"t_suv_gia\"                   # 원하는 데이터 선택\n",
    "j_dir = label_dir[key]            # JSON 파일 폴더 경로\n",
    "file_list_j = os.listdir(j_dir)   # JSON 파일 리스트"
   ]
  },
  {
   "cell_type": "code",
   "execution_count": null,
   "id": "095faeea",
   "metadata": {
    "id": "b90ZR3n85gLz"
   },
   "outputs": [],
   "source": [
    "# image파일 불러오기\n",
    "i_dir = image_dir[key]  # image 파일 폴더 경로\n",
    "file_list_i = os.listdir(i_dir)  # image 파일 리스트"
   ]
  },
  {
   "cell_type": "code",
   "execution_count": null,
   "id": "b001d18c",
   "metadata": {
    "colab": {
     "base_uri": "https://localhost:8080/",
     "height": 535
    },
    "id": "y9MYJ--a5gLz",
    "outputId": "e5a15676-6a94-4e40-b8e7-d453c4913b07"
   },
   "outputs": [],
   "source": [
    "from posix import pipe2\n",
    "import json\n",
    "import cv2\n",
    "import matplotlib.pyplot as plt\n",
    "\n",
    "with open(j_dir + file_list_j[0], 'r') as f :\n",
    "    json_data = json.load(f)\n",
    "    img = cv2.imread(i_dir + \"/\" + json_data['car'] ['imagePath'].split('/')[-1])\n",
    "    img = cv2.cvtColor(img, cv2.COLOR_BGR2RGB)\n",
    "    plt.figure(figsize=(20, 8))\n",
    "    print(\"자동차 브랜드 :\", json_data['car']['attributes']['brand'])\n",
    "    print(\"자동차 색 :\", json_data['car']['attributes']['color'])    \n",
    "    print(\"자동차 모델 :\", json_data['car']['attributes']['model'])\n",
    "    print(\"자동차 연식 :\", json_data['car']['attributes']['year'])\n",
    "    plt.imshow(img)\n",
    "    plt.axis(\"off\") \n",
    "    # print(json_data)\n",
    "plt.show()        "
   ]
  },
  {
   "cell_type": "code",
   "execution_count": null,
   "id": "343596f5",
   "metadata": {
    "colab": {
     "base_uri": "https://localhost:8080/"
    },
    "id": "i5E5zw1U2RYo",
    "outputId": "4050f146-bf4a-4033-d66d-18b727c6181e"
   },
   "outputs": [],
   "source": [
    "# 키 값 확인하기\n",
    "import json\n",
    "import cv2\n",
    "import matplotlib.pyplot as plt\n",
    "\n",
    "with open(j_dir + file_list_j[0], 'r') as f :\n",
    "    json_data = json.load(f)\n",
    "    print(json_data)"
   ]
  },
  {
   "cell_type": "markdown",
   "id": "c9d5aca9",
   "metadata": {
    "id": "MDf1y9YU-aSR"
   },
   "source": [
    "# 번호판\n",
    "\n",
    "## number\n",
    "- json_data['imagePath']\n",
    "- json_data['value']\n",
    "- json_data['id']\n",
    "<br><br>\n",
    "- {'imagePath': '01가0785.jpg', 'value': '01가0785', 'id': '615d8372-90f6-48eb-a14b-26cd7b3448f8'}"
   ]
  },
  {
   "cell_type": "code",
   "execution_count": null,
   "id": "d0ea7403",
   "metadata": {
    "id": "LXAgsrnc-aSX"
   },
   "outputs": [],
   "source": [
    "import os\n",
    "\n",
    "# JSON파일 불러오기\n",
    "# key : number\n",
    "key = \"number\"                   # 원하는 데이터 선택\n",
    "j_dir = label_dir[key]            # JSON 파일 폴더 경로\n",
    "file_list_j = os.listdir(j_dir)   # JSON 파일 리스트"
   ]
  },
  {
   "cell_type": "code",
   "execution_count": null,
   "id": "5dfcd82a",
   "metadata": {
    "id": "MRo4J2_0-aSX"
   },
   "outputs": [],
   "source": [
    "# image파일 불러오기\n",
    "i_dir = image_dir[key]  # image 파일 폴더 경로\n",
    "file_list_i = os.listdir(i_dir)  # image 파일 리스트"
   ]
  },
  {
   "cell_type": "code",
   "execution_count": null,
   "id": "9c0b6784",
   "metadata": {
    "colab": {
     "base_uri": "https://localhost:8080/",
     "height": 211
    },
    "id": "Phln6lWL-aSY",
    "outputId": "4fd71850-4767-40ca-b617-97a880ae5da2"
   },
   "outputs": [],
   "source": [
    "from posix import pipe2\n",
    "import json\n",
    "import cv2\n",
    "import matplotlib.pyplot as plt\n",
    "\n",
    "with open(j_dir + file_list_j[0], 'r') as f :\n",
    "    json_data = json.load(f)\n",
    "    img = cv2.imread(i_dir + \"/\" + json_data['imagePath'])\n",
    "    img = cv2.cvtColor(img, cv2.COLOR_BGR2RGB)\n",
    "    plt.figure(figsize=(8, 3))\n",
    "    print(\"번호 :\", json_data[\"value\"])\n",
    "    plt.imshow(img)\n",
    "    plt.axis(\"off\") \n",
    "    # print(json_data)\n",
    "plt.show()        "
   ]
  },
  {
   "cell_type": "code",
   "execution_count": null,
   "id": "e0a44b11",
   "metadata": {
    "colab": {
     "base_uri": "https://localhost:8080/",
     "height": 435
    },
    "id": "360b1dac",
    "outputId": "419b98c3-fc6d-4cd6-91b9-34b9750218b0"
   },
   "outputs": [],
   "source": [
    "import os\n",
    "import json\n",
    "import cv2\n",
    "import matplotlib.pyplot as plt\n",
    "\n",
    "for j in file_list_j :\n",
    "  if j in [\".ipynb_checkpoints\", \"output\"]:\n",
    "      continue\n",
    "  with open(j_dir + j, 'r') as f :\n",
    "      json_data = json.load(f) \n",
    "      img = cv2.imread(i_dir + \"/\" + json_data[\"images\"][\"file_name\"])\n",
    "      img = cv2.cvtColor(img, cv2.COLOR_BGR2RGB)\n",
    "      width = json_data[\"images\"][\"width\"]\n",
    "      height = json_data[\"images\"][\"height\"]\n",
    "      for seg in json_data[\"annotations\"][0]['segmentation'][0][0] :\n",
    "        img = cv2.circle(img, tuple(seg), 3, (255, 255, 255), -1)\n",
    "      img = cv2.rectangle(img, json_data[\"annotations\"][0]['bbox'], (100, 100,255), 4)\n",
    "      plt.figure(figsize=(width, height))\n",
    "      plt.subplot(len(file_list_j), 1, file_list_j.index(j) + 1)\n",
    "      # print(\"파손 여부 :\",json_data[\"annotations\"][0]['damage'])\n",
    "      # print(\"수리 :\", json_data[\"annotations\"][0]['repair'])\n",
    "      plt.imshow(img)\n",
    "      plt.axis(\"off\") \n",
    "      # print(json_data)\n",
    "plt.show()        \n"
   ]
  },
  {
   "cell_type": "markdown",
   "id": "17654c8b",
   "metadata": {},
   "source": [
    "# 실제 Dataset"
   ]
  },
  {
   "cell_type": "markdown",
   "id": "021d7d7a",
   "metadata": {},
   "source": [
    "- 파일종류(.jpg, .json, .xls) 별로 경로 txt파일에 저장"
   ]
  },
  {
   "cell_type": "code",
   "execution_count": 1,
   "id": "cdca0e47",
   "metadata": {},
   "outputs": [
    {
     "data": {
      "text/plain": [
       "'C:\\\\Users\\\\AI\\\\GJAIschool\\\\Project\\\\공모전_차량파손인식모델개발\\\\Deep_Learning'"
      ]
     },
     "execution_count": 1,
     "metadata": {},
     "output_type": "execute_result"
    }
   ],
   "source": [
    "# 현재 위치 확인\n",
    "%pwd "
   ]
  },
  {
   "cell_type": "code",
   "execution_count": 2,
   "id": "c7f5b2e3",
   "metadata": {
    "scrolled": true
   },
   "outputs": [
    {
     "name": "stdout",
     "output_type": "stream",
     "text": [
      "G:\\내 드라이브\\Colab Notebooks\\AIDA\\Data\n"
     ]
    }
   ],
   "source": [
    "# 구글 드라이브 data 폴더로 이동\n",
    "%cd G:/내 드라이브/Colab Notebooks/AIDA/Data/"
   ]
  },
  {
   "cell_type": "code",
   "execution_count": 3,
   "id": "81f074a0",
   "metadata": {},
   "outputs": [],
   "source": [
    "# zip 파일 경로 파일 종류별로 정리\n",
    "zip_jpg_dirs = {'/content/drive/MyDrive/Colab Notebooks/AIDA/Data/160. 차량파손 이미지 데이터/01.데이터/1.Training/1.원천데이터/': ['TS_damage_part.zip', 'TS_damage.zip'], '/content/drive/MyDrive/Colab Notebooks/AIDA/Data/160. 차량파손 이미지 데이터/01.데이터/2.Validation/1.원천데이터/': ['VS_damage_part.zip', 'VS_damage.zip']}\n",
    "zip_json_dirs = {'/content/drive/MyDrive/Colab Notebooks/AIDA/Data/160. 차량파손 이미지 데이터/01.데이터/1.Training/2.라벨링데이터/': ['TL_damage_part.zip', 'TL_damage.zip'], '/content/drive/MyDrive/Colab Notebooks/AIDA/Data/160. 차량파손 이미지 데이터/01.데이터/2.Validation/2.라벨링데이터/': ['VL_damage_part.zip', 'VL_damage.zip']}\n",
    "zip_xls_dirs = {'/content/drive/MyDrive/Colab Notebooks/AIDA/Data/160. 차량파손 이미지 데이터/01.데이터/1.Training/1.원천데이터/': ['TS_99.붙임_견적서.zip']}"
   ]
  },
  {
   "cell_type": "code",
   "execution_count": 4,
   "id": "f0f6c5e0",
   "metadata": {},
   "outputs": [],
   "source": [
    "# zip 파일 경로 txt 파일로 저장\n",
    "\n",
    "path = \"G:/내 드라이브/Colab Notebooks/AIDA/Data/\"\n",
    "\n",
    "# zip파일 내 json파일 경로 저장하기\n",
    "with open(path+\"JSON_zip_dirs.txt\", \"w\", encoding='utf-8') as f:\n",
    "    for key, values in zip_json_dirs.items() :\n",
    "        for v in values :\n",
    "            f.write(f'{key+v}\\n')\n",
    "            \n",
    "# zip파일 내 jpg파일 경로 저장하기            \n",
    "with open(path+\"JPG_zip_dirs.txt\", \"w\", encoding='utf-8') as f:\n",
    "    for key, values in zip_jpg_dirs.items() :\n",
    "        for v in values :\n",
    "            f.write(f'{key+v}\\n')\n",
    "            \n",
    "# zip파일 내 xls파일 경로 저장하기\n",
    "with open(path+\"XLS_zip_dirs.txt\", \"w\", encoding='utf-8') as f:\n",
    "    for key, values in zip_xls_dirs.items() :\n",
    "        for v in values :\n",
    "            f.write(f'{key+v}\\n')"
   ]
  },
  {
   "cell_type": "markdown",
   "id": "06ceb639",
   "metadata": {},
   "source": [
    "- pickle 파일, shutil 파일 설명\n",
    "\n",
    "https://doitnow-man.tistory.com/entry/python-14-%ED%8C%8C%EC%9D%BC%EA%B3%BC-%EB%94%94%EB%A0%89%ED%84%B0%EB%A6%AC-%EB%8B%A4%EB%A3%A8%EA%B8%B0-%EB%B0%8F-zip%EB%AA%A8%EB%93%88\n",
    "\n",
    "- zip파일 관련 메서드 설명\n",
    "\n",
    "https://docs.python.org/ko/3/library/zipfile.html\n",
    "\n",
    "- bytes 타입에 대한 설명\n",
    "\n",
    "https://dojang.io/mod/page/view.php?id=2462\n"
   ]
  },
  {
   "cell_type": "markdown",
   "id": "a087f158",
   "metadata": {},
   "source": [
    "### json 키-값 정리\n",
    "\n",
    "#### Breakage data\n",
    "- damage : {'Crushed', 'Scratched', None, 'Breakage', 'Separated'}\n"
   ]
  },
  {
   "cell_type": "code",
   "execution_count": 5,
   "id": "d699643b",
   "metadata": {
    "scrolled": true
   },
   "outputs": [
    {
     "name": "stdout",
     "output_type": "stream",
     "text": [
      "['G:/내 드라이브/Colab Notebooks/AIDA/Data/160. 차량파손 이미지 데이터/01.데이터/1.Training/2.라벨링데이터/TL_damage_part.zip', 'G:/내 드라이브/Colab Notebooks/AIDA/Data/160. 차량파손 이미지 데이터/01.데이터/1.Training/2.라벨링데이터/TL_damage.zip', 'G:/내 드라이브/Colab Notebooks/AIDA/Data/160. 차량파손 이미지 데이터/01.데이터/2.Validation/2.라벨링데이터/VL_damage_part.zip', 'G:/내 드라이브/Colab Notebooks/AIDA/Data/160. 차량파손 이미지 데이터/01.데이터/2.Validation/2.라벨링데이터/VL_damage.zip']\n"
     ]
    }
   ],
   "source": [
    "# json파일 경로 txt파일에서 읽어오기\n",
    "\n",
    "path = \"G:/내 드라이브/Colab Notebooks/AIDA/Data/\"\n",
    "json_zip_dirs = []\n",
    "with open(path + 'JSON_zip_dirs.txt', 'r', encoding='utf-8') as f :\n",
    "    data= f.readlines()\n",
    "    json_zip_dirs = [d.strip().replace('/content/drive/MyDrive/',\"G:/내 드라이브/\") for d in data]\n",
    "    print(json_zip_dirs)"
   ]
  },
  {
   "cell_type": "code",
   "execution_count": null,
   "id": "1789328d",
   "metadata": {},
   "outputs": [],
   "source": [
    "# # class 텍스트 파일 생성\n",
    "# damage = [None, 'Crushed', 'Scratched', 'Breakage', 'Separated']  # damage 클래스\n",
    "\n",
    "# dir_path = f\"G:/내 드라이브/Colab Notebooks/AIDA/Data/YOLOv5_Breakage/\"\n",
    "\n",
    "# # classes 텍스트 파일 생성\n",
    "# with open(dir_path+\"classes.txt\", 'w') as t :\n",
    "#     for d in damage :\n",
    "#         t.write(str(d)+'\\n')"
   ]
  },
  {
   "cell_type": "code",
   "execution_count": null,
   "id": "e483345b",
   "metadata": {},
   "outputs": [],
   "source": [
    "# CNN용 클래스별 폴더 생성 및 분류하기\n",
    "# 파일 경로를 입력해둘 class텍스트 파일 생성\n",
    "# for d in damage :\n",
    "#     with open(f\"G:/내 드라이브/Colab Notebooks/AIDA/Data/160. 차량파손 이미지 데이터/class_dir/{str(d)}.txt\", 'w') as f_n :\n",
    "#         pass"
   ]
  },
  {
   "cell_type": "code",
   "execution_count": null,
   "id": "5bd70cf4",
   "metadata": {
    "scrolled": false
   },
   "outputs": [],
   "source": [
    "# zip파일 읽기\n",
    "from zipfile import ZipFile as zf\n",
    "import json\n",
    "import os\n",
    "\n",
    "i = 2  # 압축 풀기 진행 상황 확인용 변수\n",
    "damage = [None, 'Crushed', 'Scratched', 'Breakage', 'Separated']  # classes.txt 파일에 저장된 인덱스 순서의 damage class 리스트\n",
    "\n",
    "for path in json_zip_dirs[i:] :\n",
    "    print(f'\\n{i}번째 경로 : {path}')\n",
    "    j = 0  # 진행 확인용 변수\n",
    "    \n",
    "    # i = 1 일때, 에러나서 다시 시작하는 바람에 넣은 코드\n",
    "    if i == 2 :\n",
    "        j = 33864\n",
    "\n",
    "    \n",
    "    with zf(path, 'r') as rz :\n",
    "        f_list = rz.namelist()  # zip파일 안 파일 리스트\n",
    "        f_name = path.split('/')[-1][:-4]  # zip파일 이름\n",
    "        \n",
    "        try :\n",
    "            os.mkdir(f\"G:/내 드라이브/Colab Notebooks/AIDA/Data/YOLOv5_Breakage/{f_name}\")  # 파손 라벨링 데이터 담을 폴더 생성\n",
    "        except FileExistsError as e :  # 경로가 이미 존재하면, \n",
    "            pass \n",
    "            \n",
    "        for f in f_list[j:] :\n",
    "            print(f'\\r진행도 : [{j} / {len(f_list)}] {j / len(f_list) * 100:.2f}%   dir_i : {i-1}/ f_i : {j-1}', end=\"\")  # 진행도 출력\n",
    "            \n",
    "            # 파일 이름이 damage_part이면, (damage_part는 폴더명, 파일X)\n",
    "            if not f.endswith('.json') :  \n",
    "                continue  # 처음으로 돌아감\n",
    "                \n",
    "            # 파일이름이 damage_part/가  아니면, 파일 열기\n",
    "            with rz.open(f, 'r') as f0 :\n",
    "                datas = json.loads(f0.readlines()[0].decode()) # 파일 읽기(bytes타입 >> decode()로 str으로 형변환) >> json파일로 변환\n",
    "                \n",
    "                f_name2 = datas[\"images\"][\"file_name\"][:-4]  # 파일명\n",
    "                width = datas[\"images\"][\"width\"]  # 이미지 너비\n",
    "                height = datas[\"images\"][\"height\"]  # 이미지 높이\n",
    "                \n",
    "                \n",
    "                # 라벨링 데이터 txt파일 만들기\n",
    "                with open(f\"G:/내 드라이브/Colab Notebooks/AIDA/Data/YOLOv5_Breakage/{f_name}/{f_name2}.txt\", 'w') as f1 :\n",
    "                    # 이미지에 대한 bbox좌표와 damage class를 알아보자.\n",
    "                    for d in datas[\"annotations\"] :\n",
    "                        \n",
    "                        x1, y1, x2, y2 = d[\"bbox\"]  # bbox의 왼쪽 상단(x1, y1), 오른쪽하단(x2, y2 좌표)\n",
    "                        x, y = (x1 + x2) / 2 / width,(y1 + y2) / 2 / height  # YOLO 모델에 넣을 이미지에 대한 bbox 중앙점의 상대적 좌표(x, y) \n",
    "                        w, h = (x2 - x1) / width, (y2 - y1) / height  # YOLO 모델에 넣을 bbox의 이미지에 대한 상대적 너비, 높이\n",
    "                        bbox = ' '.join(map(str, [x, y, w, h]))  # bbox의 상대적 좌표과 길이 ('x y w h')\n",
    "                        \n",
    "                        # damage값이 null이면,\n",
    "                        if d[\"damage\"] == None :\n",
    "                            f1.write(f'0 {bbox}\\n')  # txt파일에 클래스 인덱스 0 bbox값(x y w h) 쓰기                            \n",
    "                            \n",
    "                        # damage가 null이 아니면,\n",
    "                        else :\n",
    "                            f1.write(f'{damage.index(d[\"damage\"])} {bbox}\\n') # txt파일에 클래스 인덱스와 bbox값(x y w h) 쓰기                \n",
    "\n",
    "                        # class_dir폴더 안, 해당 damage에 맞는 텍스트파일에 현재 파일명 추가.\n",
    "                        with open(f'G:/내 드라이브/Colab Notebooks/AIDA/Data/160. 차량파손 이미지 데이터/class_dir/{str(d[\"damage\"])}.txt', 'a') as f_n :\n",
    "                            f_n.write(f'{f_name}/{f_name2}\\n')\n",
    "                    \n",
    "                    \n",
    "            j += 1  # 파일 라벨링 진행도 + 1\n",
    "    i += 1  # zip파일 읽기 진행도 + 1"
   ]
  },
  {
   "cell_type": "markdown",
   "id": "00eff9bc",
   "metadata": {},
   "source": [
    "#### json파일 txt파일 변환 진행도 확인"
   ]
  },
  {
   "cell_type": "code",
   "execution_count": null,
   "id": "9d5c985b",
   "metadata": {},
   "outputs": [
    {
     "name": "stdout",
     "output_type": "stream",
     "text": [
      "\n",
      "1번째 경로 : G:/내 드라이브/Colab Notebooks/AIDA/Data/160. 차량파손 이미지 데이터/01.데이터/1.Training/2.라벨링데이터/TL_damage.zip\n",
      "진행도 : [108364 / 403559] 26.85%   dir_i : 0/ f_i : 108363"
     ]
    }
   ],
   "source": [
    "# zip파일 업로드 확인\n",
    "from zipfile import ZipFile as zf\n",
    "import json\n",
    "import os\n",
    "\n",
    "i = 1  # 압축 풀기 진행 상황 확인용 변수\n",
    "\n",
    "for path in json_zip_dirs[i:] :\n",
    "    print(f'\\n{i}번째 경로 : {path}')\n",
    "    j = 1  # 진행 확인용 변수\n",
    "\n",
    "    \n",
    "    with zf(path, 'r') as rz :\n",
    "        f_list = rz.namelist()  # zip파일 안 파일 리스트\n",
    "        f_list = [f for f in f_list if f.endswith('.json')]\n",
    "        f_name = path.split('/')[-1][:-4]  # zip파일 이름\n",
    "        \n",
    "        end_list = os.listdir(f\"G:/내 드라이브/Colab Notebooks/AIDA/Data/YOLOv5_Breakage/{f_name}/\")\n",
    "        for f in f_list :\n",
    "            print(f'\\r진행도 : [{j} / {len(f_list)}] {j / len(f_list) * 100:.2f}%   dir_i : {i-1}/ f_i : {j-1}', end=\"\")  # 진행도 출력\n",
    "            if f.split('/')[-1][:-5] in end_list :\n",
    "                print(f\"\\n미완료 경로 : G:/내 드라이브/Colab Notebooks/AIDA/Data/YOLOv5_Breakage/{f_name}/{f.split('/')[-1][:-5]}\")\n",
    "                break\n",
    "\n",
    "            j+= 1"
   ]
  },
  {
   "cell_type": "markdown",
   "id": "e5248d52",
   "metadata": {},
   "source": [
    "##### 파일명 실수로 잘못 만들어서  수정하기\n",
    "- 파일 및 폴더 삭제\n",
    "\n",
    "https://codechacha.com/ko/python-delete-file-and-dir/\n",
    "\n",
    "- 파일명 변경(이 방법으로 할거임)\n",
    "\n",
    "https://www.techiedelight.com/ko/how-to-rename-a-file-in-python/"
   ]
  },
  {
   "cell_type": "code",
   "execution_count": null,
   "id": "fed40a71",
   "metadata": {
    "scrolled": true
   },
   "outputs": [],
   "source": [
    "# 파일명에서 .jpg 제거해서 rename\n",
    "# YOLOv5_Breakage폴더 안에 zip파일명으로 생성된 폴더 안의 텍스트 파일명에서 '.jpg'를 제거해야함\n",
    "# import os\n",
    "\n",
    "# dir_path = f\"G:/내 드라이브/Colab Notebooks/AIDA/Data/YOLOv5_Breakage/\"\n",
    "\n",
    "# f_li = os.listdir(dir_path)[:-1]  # YOLOv5_Breakage안 폴더 리스트\n",
    "\n",
    "# for folder in f_li :\n",
    "#     print(2)\n",
    "#     print(f'\\n현재 폴더 :{folder}/ 경로 진행도 : [{f_li.index(folder)+1}/{len(f_li)}] ')\n",
    "#     path = f'{dir_path + folder}/'  # 파일 읽어올 경로\n",
    "#     t_list = os.listdir(path)  # 폴더 안 파일 리스트\n",
    "    \n",
    "#     for t in t_list :\n",
    "#         if '.jpg' in t :\n",
    "#             print(f'\\rrename 진행도 : [{t_list.index(t)+1}/{len(t_list)}] {(t_list.index(t)+1)/len(t_list) * 100:.2f}%', end=\"\")\n",
    "#             old_file = os.path.join(path, t)\n",
    "#             new_file = os.path.join(path, t.replace('.jpg',''))\n",
    "\n",
    "#             os.rename(old_file, new_file)\n"
   ]
  },
  {
   "cell_type": "markdown",
   "id": "b82e2fc7",
   "metadata": {},
   "source": [
    "#### 차종, 연식, 번호판 데이터"
   ]
  },
  {
   "cell_type": "code",
   "execution_count": null,
   "id": "5acbcd7e",
   "metadata": {
    "scrolled": true
   },
   "outputs": [],
   "source": [
    "# json파일 경로 txt파일에서 읽어오기\n",
    "\n",
    "path = \"G:/내 드라이브/Colab Notebooks/AIDA/Data/\"\n",
    "json_dirs = []\n",
    "with open(path + 'JSON_dirs.txt', 'r', encoding='utf-8') as f :\n",
    "    data= f.readlines()\n",
    "    json_dirs = [d.strip().replace('/content/drive/MyDrive/',\"G:/내 드라이브/\") for d in data]\n",
    "    print(json_zip_dirs)"
   ]
  },
  {
   "cell_type": "code",
   "execution_count": null,
   "id": "e6d1d803",
   "metadata": {
    "scrolled": true
   },
   "outputs": [],
   "source": [
    "# 폴더 내 json파일 읽기\n",
    "import json\n",
    "import os\n",
    "\n",
    "i = 1  # 압축 풀기 진행 상황 확인용 변수\n",
    "# 자동차 차종 class\n",
    "c_type = ['SUV_BMW', 'SUV_기아자동차', 'SUV_닛산', 'SUV_도요타', 'SUV_랜드로버', 'SUV_렉서스', 'SUV_르노삼성', 'SUV_미니', 'SUV_벤츠', 'SUV_볼보', 'SUV_쉐보레_대우', 'SUV_쌍용자동차', 'SUV_아우디', 'SUV_인피니티', 'SUV_재규어', 'SUV_제네시스', 'SUV_지프', 'SUV_테슬라', 'SUV_포드', 'SUV_포르쉐', 'SUV_폭스바겐', 'SUV_푸조', 'SUV_현대자동차', 'SUV_혼다', '버스', '버스_특수', '세단_BMW', '세단_기아자동차', '세단_닛산', '세단_도요타', '세단_렉서스', '세단_르노삼성', '세단_벤츠', '세단_볼보', '세단_쉐보레_대우', '세단_쌍용자동차', '세단_아우디', '세단_인피니티', '세단_재규어', '세단_제네시스', '세단_테슬라', '세단_포드', '세단_포르쉐', '세단_폭스바겐', '세단_푸조', '세단_현대자동차', '세단_혼다', '승합_기아자동차', '승합_현대자동차', '승합_혼다', '이륜차', '컨버터블_BMW', '컨버터블_포드', '쿠페_BMW', '쿠페_기아자동차', '쿠페_벤츠', '쿠페_아우디', '쿠페_인피니티', '쿠페_제네시스', '쿠페_포드', '쿠페_폭스바겐', '트럭', '특수', '해치백_BMW', '해치백_기아자동차', '해치백_닛산', '해치백_도요타', '해치백_렉서스', '해치백_미니', '해치백_볼보', '해치백_쉐보레_대우', '해치백_폭스바겐', '해치백_푸조', '해치백_현대자동차', '화물_특수', 'SUV_기아자동차', 'SUV_르노삼성', 'SUV_쉐보레_대우', 'SUV_쌍용자동차', 'SUV_제네시스', 'SUV_현대자동차', '버스', '세단_BMW', '세단_기아자동차', '세단_르노삼성', '세단_벤츠', '세단_쉐보레_대우', '세단_제네시스', '세단_현대자동차', '승합_기아자동차', '승합_현대자동차', '이륜차', '트럭', '해치백_기아자동차', '해치백_쉐보레_대우', '해치백_현대자동차', '화물_특수']\n",
    "\n",
    "for path in json_dirs :\n",
    "    print(f'\\n{i}번째 경로 : {path}')\n",
    "    j = 1  # 진행 확인용 변수\n",
    "\n",
    "        \n",
    "        try :\n",
    "            os.mkdir(f\"G:/내 드라이브/Colab Notebooks/AIDA/Data/YOLOv5_Type/{f_name}\")  # 파손 라벨링 데이터 담을 폴더 생성\n",
    "        except FileExistsError as e :  # 경로가 이미 존재하면, \n",
    "            pass \n",
    "            \n",
    "        for f in f_list[:] :\n",
    "            print(f'\\r진행도 : [{j} / {len(f_list)}] {j / len(f_list) * 100:.2f}%   dir_i : {i-1}/ f_i : {j-1}', end=\"\")  # 진행도 출력\n",
    "            \n",
    "            # 파일 이름이 damage_part이면, (damage_part는 폴더명, 파일X)\n",
    "            if not f.endswith('.json') :  \n",
    "                continue  # 처음으로 돌아감\n",
    "                \n",
    "            # 파일이름이 damage_part/가  아니면, 파일 열기\n",
    "            with rz.open(f, 'r') as f0 :\n",
    "                datas = json.loads(f0.readlines()[0].decode()) # 파일 읽기(bytes타입 >> decode()로 str으로 형변환) >> json파일로 변환\n",
    "                \n",
    "                f_name2 = datas[\"images\"][\"file_name\"]  # 파일명\n",
    "                width = datas[\"images\"][\"width\"]  # 이미지 너비\n",
    "                height = datas[\"images\"][\"height\"]  # 이미지 높이\n",
    "                \n",
    "                # 라벨링 데이터 txt파일 만들기\n",
    "                with open(f\"G:/내 드라이브/Colab Notebooks/AIDA/Data/YOLOv5_Type/{f_name}/{f_name2}.txt\", 'w') as f1 :\n",
    "                    # 이미지에 대한 bbox좌표와 damage class를 알아보자.\n",
    "                    for d in datas[\"annotations\"] :\n",
    "                        \n",
    "                        x1, y1, x2, y2 = d[\"bbox\"]  # bbox의 왼쪽 상단(x1, y1), 오른쪽하단(x2, y2 좌표)\n",
    "                        x, y = (x1 + x2) / 2 / width,(y1 + y2) / 2 / height  # YOLO 모델에 넣을 이미지에 대한 bbox 중앙점의 상대적 좌표(x, y) \n",
    "                        w, h = (x2 - x1) / width, (y2 - y1) / height  # YOLO 모델에 넣을 bbox의 이미지에 대한 상대적 너비, 높이\n",
    "                        bbox = ' '.join(map(str, [x, y, w, h]))  # bbox의 상대적 좌표과 길이 ('x y w h')\n",
    "                        \n",
    "                        # damage값이 null이면,\n",
    "                        if d[\"damage\"] == None :\n",
    "                            f1.write(f'0 {bbox}')  # txt파일에 클래스 인덱스 0 bbox값(x y w h) 쓰기                            \n",
    "                            \n",
    "                        # damage가 null이 아니면,\n",
    "                        else :\n",
    "                            f1.write(f'{damage.index(d[\"damage\"])} {bbox}') # txt파일에 클래스 인덱스와 bbox값(x y w h) 쓰기                \n",
    "\n",
    "                        # class_dir폴더 안, 해당 damage에 맞는 텍스트파일에 현재 파일명 추가.\n",
    "                        with open(f'G:/내 드라이브/Colab Notebooks/AIDA/Data/160. 차량파손 이미지 데이터/class_dir/{str(d[\"damage\"])}.txt', 'a') as f_n :\n",
    "                            f_n.write(f'{f_name}/{f_name2}\\n')\n",
    "                    \n",
    "                    \n",
    "            j += 1  # 파일 라벨링 진행도 + 1\n",
    "    i += 1  # zip파일 읽기 진행도 + 1\n",
    "\n",
    "\n",
    "# 각 zip파일 내부 json파일을 class 별로 분류한 json파일 저장하기\n",
    "with open(\"G:/내 드라이브/Colab Notebooks/AIDA/Data/zip_class_dir.json\", 'w') as f :\n",
    "    json.dump(class_dir.json, f)"
   ]
  },
  {
   "cell_type": "code",
   "execution_count": null,
   "id": "f2f5555d",
   "metadata": {},
   "outputs": [],
   "source": [
    "# 경로 이동 (YOLOv5_Breakage, YOLOv5_Number, YOLOv5_Type, YOLOv5_Age)\n",
    "os.chdir(\"G:/내 드라이브/Colab Notebooks/AIDA/Data/YOLOv5_Breakage\")\n",
    "\n",
    "with open('classes.txt', 'w') as f :\n",
    "    for i in ['None', 'Crushed', 'Scratched', 'Breakage', 'Separated'] :\n",
    "        f.write(i)"
   ]
  },
  {
   "cell_type": "markdown",
   "id": "9826225e",
   "metadata": {},
   "source": [
    "#### 폴더 내 json파일 경로"
   ]
  },
  {
   "cell_type": "code",
   "execution_count": null,
   "id": "d6436ebf",
   "metadata": {},
   "outputs": [],
   "source": [
    "# json파일 경로가 담긴 텍스트 파일 열어서 json파일 경로 리스트 만들기\n",
    "import os\n",
    "\n",
    "json_dir_list = []  # jpg 파일이 있는 경로를 담을 리스트\n",
    "with open('JSON_dir.txt', 'r', encoding='UTF8') as f :\n",
    "    json_dir_list = f.readlines()  # 텍스트의 내용을 리스트에 담기 - 줄바꿈이 \\n으로 문자열 끝에 붙음\n",
    "\n",
    "json_dir_list = [path.strip().replace('/content/drive/MyDrive/','G:/내 드라이브/') for path in json_dir_list]  # 문자열의 공백문자 제거\n",
    "print(json_dir_list)  # 경로 리스트 확인"
   ]
  },
  {
   "cell_type": "code",
   "execution_count": null,
   "id": "6PfXEwJXXCFr",
   "metadata": {
    "id": "6PfXEwJXXCFr",
    "scrolled": true
   },
   "outputs": [],
   "source": [
    "%cd G:/내 드라이브/Colab Notebooks/AIDA/Data/자동차 차종-연식-번호판 인식용 영상"
   ]
  },
  {
   "cell_type": "markdown",
   "id": "e70105d2",
   "metadata": {},
   "source": [
    "https://kosb.tistory.com/77"
   ]
  },
  {
   "cell_type": "code",
   "execution_count": null,
   "id": "cfc8893d",
   "metadata": {
    "id": "cfc8893d"
   },
   "outputs": [],
   "source": [
    "# npz 파일 배열 길이 비교(제대로 압축되었는지 확인용)\n",
    "import numpy as np\n",
    "\n",
    "jpgs = np.load('G:/내 드라이브/Colab Notebooks/AIDA/Data/자동차 차종-연식-번호판 인식용 영상/v_자동차번호판OCR데이터.npz', allow_pickle=True)\n",
    "name = jpgs['f_name']\n",
    "arr = jpgs['img_arr']"
   ]
  },
  {
   "cell_type": "code",
   "execution_count": null,
   "id": "195caa36",
   "metadata": {},
   "outputs": [],
   "source": [
    "print(len(name) == len(arr))"
   ]
  },
  {
   "cell_type": "code",
   "execution_count": null,
   "id": "f7c8f063",
   "metadata": {},
   "outputs": [],
   "source": []
  }
 ],
 "metadata": {
  "colab": {
   "collapsed_sections": [],
   "provenance": []
  },
  "kernelspec": {
   "display_name": "Python 3 (ipykernel)",
   "language": "python",
   "name": "python3"
  },
  "language_info": {
   "codemirror_mode": {
    "name": "ipython",
    "version": 3
   },
   "file_extension": ".py",
   "mimetype": "text/x-python",
   "name": "python",
   "nbconvert_exporter": "python",
   "pygments_lexer": "ipython3",
   "version": "3.7.13"
  },
  "toc": {
   "base_numbering": 1,
   "nav_menu": {},
   "number_sections": false,
   "sideBar": true,
   "skip_h1_title": false,
   "title_cell": "Table of Contents",
   "title_sidebar": "Contents",
   "toc_cell": false,
   "toc_position": {},
   "toc_section_display": true,
   "toc_window_display": false
  }
 },
 "nbformat": 4,
 "nbformat_minor": 5
}
