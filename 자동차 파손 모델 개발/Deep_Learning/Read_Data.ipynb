{
 "cells": [
  {
   "cell_type": "markdown",
   "id": "XjyhN3cb5PkX",
   "metadata": {
    "id": "XjyhN3cb5PkX"
   },
   "source": [
    "# Sample Data 저장 경로"
   ]
  },
  {
   "cell_type": "code",
   "execution_count": 1,
   "id": "q7oRKcgOyyMJ",
   "metadata": {
    "id": "q7oRKcgOyyMJ"
   },
   "outputs": [],
   "source": [
    "json_dir_sample = {\n",
    "    \"breakage1\" : \"../Car_Breakage_Data/Data_sample/JSON/damage/\",\n",
    "    \"breakage2\" : \"../Car_Breakage_Data/Data_sample/JSON/damage_part/\",\n",
    "    \"sedan_gia\" : \"../Car_NumberNAge_Data/Data_sample/JSON/car_type/sedan/GIA/\",\n",
    "    \"sedan_hyeondai\" : \"../Car_NumberNAge_Data/Data_sample/JSON/car_type/sedan/Hyeondai/\",\n",
    "    \"suv_gia\" : \"../Car_NumberNAge_Data/Data_sample/JSON/car_type/SUV/GIA/\",\n",
    "    \"suv_hyeondai\" : \"../Car_NumberNAge_Data/Data_sample/JSON/car_type/SUV/Hyeondai/\",\n",
    "    \"number\" : \"../Car_NumberNAge_Data/Data_sample/JSON/car_number/\"\n",
    "}\n",
    "\n",
    "image_dir_sample = {\n",
    "    \"breakage1\" : \"../Car_Breakage_Data/Data_sample/image/damage/\",\n",
    "    \"breakage2\" : \"../Car_Breakage_Data/Data_sample/image/damage_part/\",\n",
    "    \"suv_gia\" : \"../Car_NumberNAge_Data/Data_sample/image/car_type/SUV/GIA/\",\n",
    "    \"suv_hyeondai\" : \"../Car_NumberNAge_Data/Data_sample/image/car_type/SUV/Hyeondai/\",\n",
    "    \"number\" : \"../Car_NumberNAge_Data/Data_sample/image/car_number/\"\n",
    "}\n"
   ]
  },
  {
   "cell_type": "markdown",
   "id": "17654c8b",
   "metadata": {},
   "source": [
    "# 실제 Dataset"
   ]
  },
  {
   "cell_type": "code",
   "execution_count": 2,
   "id": "a24dd344",
   "metadata": {},
   "outputs": [],
   "source": [
    "label_dir = {\n",
    "    \"t_breakage1\" : '../Breakage_data/data/train/label/TL_damage/damage/',\n",
    "    \"t_breakage2\" : '../Breakage_data/data/train/label/TL_damage_part/damage_part/',\n",
    "    't_suv_bmw' : '../type_age_number_data/Training/label/type/라벨링데이터/차종분류데이터/SUV/BMW/',\n",
    "    't_suv_gia' : '../type_age_number_data/Training/label/type/라벨링데이터/차종분류데이터/SUV/기아자동차/',\n",
    "    't_suv_nissan' : '../type_age_number_data/Training/label/type/라벨링데이터/차종분류데이터/SUV/닛산/',\n",
    "    't_suv_doyota' : '../type_age_number_data/Training/label/type/라벨링데이터/차종분류데이터/SUV/도요타/',\n",
    "    't_suv_land_rover' : '../type_age_number_data/Training/label/type/라벨링데이터/차종분류데이터/SUV/랜드로버/',\n",
    "    't_suv_lexus' : '../type_age_number_data/Training/label/type/라벨링데이터/차종분류데이터/SUV/렉서스/',\n",
    "    't_suv_mini' : '../type_age_number_data/Training/label/type/라벨링데이터/차종분류데이터/SUV/미니/',\n",
    "    't_suv_renault_samsung' : '../type_age_number_data/Training/label/type/라벨링데이터/차종분류데이터/SUV/르노삼성/',\n",
    "    't_suv_benz' : '../type_age_number_data/Training/label/type/라벨링데이터/차종분류데이터/SUV/벤츠/',\n",
    "    't_suv_volvo' : '../type_age_number_data/Training/label/type/라벨링데이터/차종분류데이터/SUV/볼보/',\n",
    "    't_suv_chevrolet_daewoo' : '../type_age_number_data/Training/label/type/라벨링데이터/차종분류데이터/SUV/쉐보레_대우/',\n",
    "    't_suv_ssangyong' : '../type_age_number_data/Training/label/type/라벨링데이터/차종분류데이터/SUV/쌍용자동차/',\n",
    "    't_suv_audi' : '../type_age_number_data/Training/label/type/라벨링데이터/차종분류데이터/SUV/아우디/',\n",
    "    't_suv_infinity' : '../type_age_number_data/Training/label/type/라벨링데이터/차종분류데이터/SUV/인피니티/',\n",
    "    't_suv_jaguar' : '../type_age_number_data/Training/label/type/라벨링데이터/차종분류데이터/SUV/재규어/',\n",
    "    't_suv_genesis' : '../type_age_number_data/Training/label/type/라벨링데이터/차종분류데이터/SUV/제네시스/',\n",
    "    't_suv_jeep' : '../type_age_number_data/Training/label/type/라벨링데이터/차종분류데이터/SUV/지프/',\n",
    "    't_suv_tesla' : '../type_age_number_data/Training/label/type/라벨링데이터/차종분류데이터/SUV/테슬라/',\n",
    "    't_suv_ford' : '../type_age_number_data/Training/label/type/라벨링데이터/차종분류데이터/SUV/포드/',\n",
    "    't_suv_volkswagen' : '../type_age_number_data/Training/label/type/라벨링데이터/차종분류데이터/SUV/폭스바겐/',\n",
    "    't_suv_peugeot' : '../type_age_number_data/Training/label/type/라벨링데이터/차종분류데이터/SUV/푸조/',\n",
    "    't_suv_hyeondai' : '../type_age_number_data/Training/label/type/라벨링데이터/차종분류데이터/SUV/현대자동차/',\n",
    "    't_suv_honda' : '../type_age_number_data/Training/label/type/라벨링데이터/차종분류데이터/SUV/혼다/',\n",
    "    't_bus' : '../type_age_number_data/Training/label/type/라벨링데이터/차종분류데이터/버스/버스/',\n",
    "    't_bus_special' : '../type_age_number_data/Training/label/type/라벨링데이터/차종분류데이터/버스/특수/',\n",
    "    't_sedan_bmw' : '../type_age_number_data/Training/label/type/라벨링데이터/차종분류데이터/세단/BMW/',\n",
    "    't_sedan_gia' : '../type_age_number_data/Training/label/type/라벨링데이터/차종분류데이터/세단/기아자동차/',\n",
    "    't_sedan_nissan' : '../type_age_number_data/Training/label/type/라벨링데이터/차종분류데이터/세단/닛산/',\n",
    "    't_sedan_doyota' : '../type_age_number_data/Training/label/type/라벨링데이터/차종분류데이터/세단/도요타/',\n",
    "    't_sedan_lexus' : '../type_age_number_data/Training/label/type/라벨링데이터/차종분류데이터/세단/렉서스/',\n",
    "    't_sedan_mini' : '../type_age_number_data/Training/label/type/라벨링데이터/차종분류데이터/세단/미니/',\n",
    "    't_sedan_renault_samsung' : '../type_age_number_data/Training/label/type/라벨링데이터/차종분류데이터/세단/르노삼성/',\n",
    "    't_sedan_benz' : '../type_age_number_data/Training/label/type/라벨링데이터/차종분류데이터/세단/벤츠/',\n",
    "    't_sedan_volvo' : '../type_age_number_data/Training/label/type/라벨링데이터/차종분류데이터/세단/볼보/',\n",
    "    't_sedan_chevrolet_daewoo' : '../type_age_number_data/Training/label/type/라벨링데이터/차종분류데이터/세단/쉐보레_대우/',\n",
    "    't_sedan_ssangyong' : '../type_age_number_data/Training/label/type/라벨링데이터/차종분류데이터/세단/쌍용자동차/',\n",
    "    't_sedan_audi' : '../type_age_number_data/Training/label/type/라벨링데이터/차종분류데이터/세단/아우디/',\n",
    "    't_sedan_infinity' : '../type_age_number_data/Training/label/type/라벨링데이터/차종분류데이터/세단/인피니티/',\n",
    "    't_sedan_jaguar' : '../type_age_number_data/Training/label/type/라벨링데이터/차종분류데이터/세단/재규어/',\n",
    "    't_sedan_genesis' : '../type_age_number_data/Training/label/type/라벨링데이터/차종분류데이터/세단/제네시스/',\n",
    "    't_sedan_tesla' : '../type_age_number_data/Training/label/type/라벨링데이터/차종분류데이터/세단/테슬라/',\n",
    "    't_sedan_ford' : '../type_age_number_data/Training/label/type/라벨링데이터/차종분류데이터/세단/포드/',\n",
    "    't_sedan_volkswagen' : '../type_age_number_data/Training/label/type/라벨링데이터/차종분류데이터/세단/폭스바겐/',\n",
    "    't_sedan_peugeot' : '../type_age_number_data/Training/label/type/라벨링데이터/차종분류데이터/세단/푸조/',\n",
    "    't_sedan_hyeondai' : '../type_age_number_data/Training/label/type/라벨링데이터/차종분류데이터/세단/현대자동차/',\n",
    "    't_sedan_honda' : '../type_age_number_data/Training/label/type/라벨링데이터/차종분류데이터/세단/혼다/',\n",
    "    't_sedan_porsche' : '../type_age_number_data/Training/label/type/라벨링데이터/차종분류데이터/세단/포르쉐/',\n",
    "    't_van_gia' : '../type_age_number_data/Training/label/type/라벨링데이터/차종분류데이터/승합/기아자동차/',\n",
    "    't_van_hyeondai' : '../type_age_number_data/Training/label/type/라벨링데이터/차종분류데이터/승합/현대자동차/',\n",
    "    't_motocycle' : '../type_age_number_data/Training/label/type/라벨링데이터/차종분류데이터/이륜차/이륜차/',\n",
    "    't_convertible_bmw' : '../type_age_number_data/Training/label/type/라벨링데이터/차종분류데이터/컨버터블/BMW/',\n",
    "    't_convertible_ford' : '../type_age_number_data/Training/label/type/라벨링데이터/차종분류데이터/컨버터블/포드/',\n",
    "    't_coupe_bmw' : '../type_age_number_data/Training/label/type/라벨링데이터/차종분류데이터/쿠페/BMW/',\n",
    "    't_coupe_gia' : '../type_age_number_data/Training/label/type/라벨링데이터/차종분류데이터/쿠페/기아자동차/',\n",
    "    't_coupe_benz' : '../type_age_number_data/Training/label/type/라벨링데이터/차종분류데이터/쿠페/벤츠/',\n",
    "    't_coupe_audi' : '../type_age_number_data/Training/label/type/라벨링데이터/차종분류데이터/쿠페/아우디/',\n",
    "    't_coupe_infinity' : '../type_age_number_data/Training/label/type/라벨링데이터/차종분류데이터/쿠페/인피니티/',\n",
    "    't_coupe_genesis' : '../type_age_number_data/Training/label/type/라벨링데이터/차종분류데이터/쿠페/제네시스/',\n",
    "    't_coupe_ford' : '../type_age_number_data/Training/label/type/라벨링데이터/차종분류데이터/쿠페/포드/',\n",
    "    't_coupe_volkswagen' : '../type_age_number_data/Training/label/type/라벨링데이터/차종분류데이터/쿠페/폭스바겐/',\n",
    "    't_truck' : '../type_age_number_data/Training/label/type/라벨링데이터/차종분류데이터/트럭/트럭/',\n",
    "    't_special' : '../type_age_number_data/Training/label/type/라벨링데이터/차종분류데이터/특수/특수/',\n",
    "    't_convertible_ford' : '../type_age_number_data/Training/label/type/라벨링데이터/차종분류데이터/컨버터블/포드/',\n",
    "    't_convertible_ford' : '../type_age_number_data/Training/label/type/라벨링데이터/차종분류데이터/컨버터블/포드/',\n",
    "    't_convertible_ford' : '../type_age_number_data/Training/label/type/라벨링데이터/차종분류데이터/컨버터블/포드/',\n",
    "    't_convertible_ford' : '../type_age_number_data/Training/label/type/라벨링데이터/차종분류데이터/컨버터블/포드/',\n",
    "    't_hatchback_bmw' : '../type_age_number_data/Training/label/type/라벨링데이터/차종분류데이터/해치백/BMW/',\n",
    "    't_hatchback_gia' : '../type_age_number_data/Training/label/type/라벨링데이터/차종분류데이터/해치백/기아자동차/',\n",
    "    't_hatchback_nissan' : '../type_age_number_data/Training/label/type/라벨링데이터/차종분류데이터/해치백/닛산/',\n",
    "    't_hatchback_doyota' : '../type_age_number_data/Training/label/type/라벨링데이터/차종분류데이터/해치백/도요타/',\n",
    "    't_hatchback_lexus' : '../type_age_number_data/Training/label/type/라벨링데이터/차종분류데이터/해치백/렉서스/',\n",
    "    't_hatchback_mini' : '../type_age_number_data/Training/label/type/라벨링데이터/차종분류데이터/해치백/미니/',\n",
    "    't_hatchback_volvo' : '../type_age_number_data/Training/label/type/라벨링데이터/차종분류데이터/해치백/볼보/',\n",
    "    't_hatchback_chevrolet_daewoo' : '../type_age_number_data/Training/label/type/라벨링데이터/차종분류데이터/해치백/쉐보레_대우/',\n",
    "    't_hatchback_volkswagen' : '../type_age_number_data/Training/label/type/라벨링데이터/차종분류데이터/해치백/폭스바겐/',\n",
    "    't_hatchback_peugeot' : '../type_age_number_data/Training/label/type/라벨링데이터/차종분류데이터/해치백/푸조/',\n",
    "    't_hatchback_hyeondai' : '../type_age_number_data/Training/label/type/라벨링데이터/차종분류데이터/해치백/현대자동차/',\n",
    "    't_lorry' : '../type_age_number_data/Training/label/type/라벨링데이터/차종분류데이터/화물/특수/',\n",
    "    't_number' : '../type_age_number_data/Training/label/number_ocr',\n",
    "    'v_breakage1' : '../Breakage_data/data/validation/label/VL_damage/damage/',\n",
    "    'v_breakage2' : '../Breakage_data/data/validation/label/VL_damage_part/damage_part/',\n",
    "    'v_suv_gia' : '../type_age_number_data/Validation/label/차종분류/라벨링데이터/차종분류데이터/SUV/기아자동차/',\n",
    "    'v_suv_renault_samsung' : '../type_age_number_data/Validation/label/차종분류/라벨링데이터/차종분류데이터/SUV/르노삼성/',\n",
    "    'v_suv_chevrolet_daewoo' : '../type_age_number_data/Validation/label/차종분류/라벨링데이터/차종분류데이터/SUV/쉐보레_대우/',\n",
    "    'v_suv_ssangyong' : '../type_age_number_data/Validation/label/차종분류/라벨링데이터/차종분류데이터/SUV/쌍용자동차/',\n",
    "    'v_suv_genesis' : '../type_age_number_data/Validation/label/차종분류/라벨링데이터/차종분류데이터/SUV/제네시스/',\n",
    "    'v_suv_hyeondai' : '../type_age_number_data/Validation/label/차종분류/라벨링데이터/차종분류데이터/SUV/현대자동차/',\n",
    "    'v_bus' : '../type_age_number_data/Validation/label/차종분류/라벨링데이터/차종분류데이터/버스/버스/',\n",
    "    'v_sedan_bmw' : '../type_age_number_data/Validation/label/차종분류/라벨링데이터/차종분류데이터/세단/BMW/',   \n",
    "    'v_sedan_gia' : '../type_age_number_data/Validation/label/차종분류/라벨링데이터/차종분류데이터/세단/기아자동차/',   \n",
    "    'v_sedan_renault_samsung' : '../type_age_number_data/Validation/label/차종분류/라벨링데이터/차종분류데이터/세단/르노삼성/',   \n",
    "    'v_sedan_benz' : '../type_age_number_data/Validation/label/차종분류/라벨링데이터/차종분류데이터/세단/벤츠/',   \n",
    "    'v_sedan_chevrolet_daewoo' : '../type_age_number_data/Validation/label/차종분류/라벨링데이터/차종분류데이터/세단/쉐보레_대우/',   \n",
    "    'v_sedan_genesis' : '../type_age_number_data/Validation/label/차종분류/라벨링데이터/차종분류데이터/세단/제네시스/',   \n",
    "    'v_sedan_hyeondai' : '../type_age_number_data/Validation/label/차종분류/라벨링데이터/차종분류데이터/세단/현대자동차/',       \n",
    "    'v_van_gia' : '../type_age_number_data/Validation/label/차종분류/라벨링데이터/차종분류데이터/승합/기아자동차/',       \n",
    "    'v_van_hyeondai' : '../type_age_number_data/Validation/label/차종분류/라벨링데이터/차종분류데이터/승합/현대자동차/', \n",
    "    'v_motocycle' : '../type_age_number_data/Validation/label/차종분류/라벨링데이터/차종분류데이터/이륜차/이륜차/', \n",
    "    'v_truck' : '../type_age_number_data/Validation/label/차종분류/라벨링데이터/차종분류데이터/트럭/트럭/',     \n",
    "    'v_hatchback_gia' : '../type_age_number_data/Validation/label/차종분류/라벨링데이터/차종분류데이터/해치백/기아자동차/',       \n",
    "    'v_hatchback_chevrolet_daewoo' : '../type_age_number_data/Validation/label/차종분류/라벨링데이터/차종분류데이터/해치백/쉐보레_대우/', \n",
    "    'v_hatchback_hyeondai' : '../type_age_number_data/Validation/label/차종분류/라벨링데이터/차종분류데이터/해치백/현대자동차/',   \n",
    "    'v_lorry' : '../type_age_number_data/Validation/label/차종분류/라벨링데이터/차종분류데이터/화물/특수/',   \n",
    "    'v_number' : '../type_age_number_data/Validation/label/자동차번호판OCR'\n",
    "    \n",
    "}\n",
    "image_dir = {\n",
    "    \"t_breakage1\" : '../Breakage_data/data/train/original/TS_damage/damage/',\n",
    "    \"t_breakage2\" : '../Breakage_data/data/train/original/TS_damage_part/damage_part/',\n",
    "    't_bus' : '../type_age_number_data/Training/image/bus/버스/버스/',\n",
    "    't_bus_special' : '../type_age_number_data/Training/image/bus/버스/특수/',\n",
    "    't_convertible_bmw' : '../type_age_number_data/Training/image/convertible/컨버터블/BMW/',\n",
    "    't_convertible_ford' : '../type_age_number_data/Training/image/convertible/컨버터블/ford/',\n",
    "    't_coupe_bmw' : '../type_age_number_data/Training/image/coupe/쿠페/BMW/',\n",
    "    't_coupe_gia' : '../type_age_number_data/Training/image/coupe/쿠페/기아자동차/',\n",
    "    't_coupe_benz' : '../type_age_number_data/Training/image/coupe/쿠페/벤츠/',\n",
    "    't_coupe_audi' : '../type_age_number_data/Training/image/coupe/쿠페/아우디/',\n",
    "    't_coupe_infinite' : '../type_age_number_data/Training/image/coupe/쿠페/인피니트/',\n",
    "    't_coupe_genesis' : '../type_age_number_data/Training/image/coupe/쿠페/제네시스/',\n",
    "    't_coupe_ford' : '../type_age_number_data/Training/image/coupe/쿠페/포드/',\n",
    "    't_hatchback_bmw' : '../type_age_number_data/Training/image/hatchback/해치백/BMW/',\n",
    "    't_hatchback_gia' : '../type_age_number_data/Training/image/hatchback/해치백/기아자동차/',\n",
    "    't_hatchback_nissan' : '../type_age_number_data/Training/image/hatchback/해치백/닛산/',\n",
    "    't_hatchback_doyota' : '../type_age_number_data/Training/image/hatchback/해치백/도요타/',\n",
    "    't_hatchback_lexus' : '../type_age_number_data/Training/image/hatchback/해치백/렉서스/',\n",
    "    't_hatchback_mini' : '../type_age_number_data/Training/image/hatchback/해치백/미니/',\n",
    "    't_hatchback_volvo' : '../type_age_number_data/Training/image/hatchback/해치백/볼보/',\n",
    "    't_hatchback_chevrolet_daewoo' : '../type_age_number_data/Training/image/hatchback/해치백/쉐보레_대우/',\n",
    "    't_hatchback_volkswagen' : '../type_age_number_data/Training/image/hatchback/해치백/폭스바겐/',\n",
    "    't_hatchback_peugeot' : '../type_age_number_data/Training/image/hatchback/해치백/푸조/',\n",
    "    't_hatchback_hyeondai' : '../type_age_number_data/Training/image/hatchback/해치백/현대/',\n",
    "    't_lorry' : '../type_age_number_data/Training/image/hatchback/lorry/',\n",
    "    't_motocycle' : '../type_age_number_data/Training/image/hatchback/motocycle/',\n",
    "    't_sedan_bmw' : '../type_age_number_data/Training/image/sedan/세단/BMW/',\n",
    "    't_sedan_gia' : '../type_age_number_data/Training/image/sedan/세단/기아자동차/',\n",
    "    't_sedan_nissan' : '../type_age_number_data/Training/image/sedan/세단/닛산/',\n",
    "    't_sedan_doyota' : '../type_age_number_data/Training/image/sedan/세단/도요타/',\n",
    "    't_sedan_lexus' : '../type_age_number_data/Training/image/sedan/세단/렉서스/',\n",
    "    't_sedan_renault_samsung' : '../type_age_number_data/Training/image/sedan/세단/르노삼성/',\n",
    "    't_sedan_benz' : '../type_age_number_data/Training/image/sedan/세단/벤츠/',\n",
    "    't_sedan_volvo' : '../type_age_number_data/Training/image/sedan/세단/볼보/',\n",
    "    't_sedan_chevrolet_daewoo' : '../type_age_number_data/Training/image/sedan/세단/쉐보레_대우/',\n",
    "    't_sedan_ssangyong' : '../type_age_number_data/Training/image/sedan/세단/쌍용자동차/',\n",
    "    't_sedan_audi' : '../type_age_number_data/Training/image/sedan/세단/아우디/',\n",
    "    't_sedan_infinity' : '../type_age_number_data/Training/image/sedan/세단/인피니티/',\n",
    "    't_sedan_jaguar' : '../type_age_number_data/Training/image/sedan/세단/재규어/',\n",
    "    't_sedan_genesis' : '../type_age_number_data/Training/image/sedan/세단/제네시스/',\n",
    "    't_sedan_porsche' : '../type_age_number_data/Training/image/sedan/세단/포르쉐/',\n",
    "    't_sedan_tesla' : '../type_age_number_data/Training/image/sedan/세단/테슬라/',\n",
    "    't_sedan_ford' : '../type_age_number_data/Training/image/sedan/세단/포드/',\n",
    "    't_sedan_volkswagen' : '../type_age_number_data/Training/image/sedan/세단/폭스바겐/',\n",
    "    't_sedan_peugeot' : '../type_age_number_data/Training/image/sedan/세단/푸조/',\n",
    "    't_sedan_hyeondai' : '../type_age_number_data/Training/image/sedan/세단/현대자동차/',\n",
    "    't_sedan_honda' : '../type_age_number_data/Training/image/sedan/세단/혼다/',\n",
    "    't_special' : '../type_age_number_data/Training/image/special/특수/특수/',\n",
    "    't_suv_bmw' : '../type_age_number_data/Training/image/SUV/SUV/BMW/',\n",
    "    't_suv_nissan' : '../type_age_number_data/Training/image/SUV/SUV/닛산/',\n",
    "    't_suv_gia' : '../type_age_number_data/Training/image/SUV/SUV/기아자동차/',\n",
    "    't_suv_doyota' : '../type_age_number_data/Training/image/SUV/SUV/도요타/',\n",
    "    't_suv_land_rover' : '../type_age_number_data/Training/image/SUV/SUV/랜드로버/',\n",
    "    't_suv_lexus' : '../type_age_number_data/Training/image/SUV/SUV/렉서스/',\n",
    "    't_suv_renault_samsung' : '../type_age_number_data/Training/image/SUV/SUV/르노삼성/',\n",
    "    't_suv_mini' : '../type_age_number_data/Training/image/SUV/SUV/미니/',\n",
    "    't_suv_benz' : '../type_age_number_data/Training/image/SUV/SUV/벤츠/',\n",
    "    't_suv_volvo' : '../type_age_number_data/Training/image/SUV/SUV/볼보/',\n",
    "    't_suv_chevrolet_daewoo' : '../type_age_number_data/Training/image/SUV/SUV/쉐보레_대우/',\n",
    "    't_suv_ssangyong' : '../type_age_number_data/Training/image/SUV/SUV/쌍용자동차/',\n",
    "    't_suv_audi' : '../type_age_number_data/Training/image/SUV/SUV/아우디/',\n",
    "    't_suv_infinity' : '../type_age_number_data/Training/image/SUV/SUV/인피니티/',\n",
    "    't_suv_jaguar' : '../type_age_number_data/Training/image/SUV/SUV/재규어/',\n",
    "    't_suv_genesis' : '../type_age_number_data/Training/image/SUV/SUV/제네시스/',\n",
    "    't_suv_jeep' : '../type_age_number_data/Training/image/SUV/SUV/지프/',\n",
    "    't_suv_tesla' : '../type_age_number_data/Training/image/SUV/SUV/테슬라/',\n",
    "    't_suv_ford' : '../type_age_number_data/Training/image/SUV/SUV/포드/',\n",
    "    't_suv_porsche' : '../type_age_number_data/Training/image/SUV/SUV/포르쉐/',\n",
    "    't_suv_volkswagen' : '../type_age_number_data/Training/image/SUV/SUV/폭스바겐/',\n",
    "    't_suv_peugeot' : '../type_age_number_data/Training/image/SUV/SUV/푸조/',\n",
    "    't_suv_hyeondai' : '../type_age_number_data/Training/image/SUV/SUV/현대자동차/',\n",
    "    't_suv_honda' : '../type_age_number_data/Training/image/SUV/SUV/혼다/',\n",
    "    't_truck' : '../type_age_number_data/Training/image/truck/트럭/트럭/',\n",
    "    't_van_gia' : '../type_age_number_data/Training/image/van/승합/기아자동차/',\n",
    "    't_van_hyeondai' : '../type_age_number_data/Training/image/van/승합/현대자동차/',\n",
    "    't_van_honda' : '../type_age_number_data/Training/image/van/승합/혼다/',\n",
    "    't_number' : '../type_age_number_data/Training/image/hatchback/number_ocr/',\n",
    "    'v_breakage1' : '../Breakage_data/data/validation/original/VS_damage/damage/',\n",
    "    'v_breakage2' : '../Breakage_data/data/validation/original/VS_damage_part/damage_part/',\n",
    "    'v_suv_gia' : '../type_age_number_data/Validation/image/SUV/SUV/기아자동차/',\n",
    "    'v_suv_renault_samsung' : '../type_age_number_data/Validation/image/SUV/SUV/르노삼성/',\n",
    "    'v_suv_chevrolet_daewoo' : '../type_age_number_data/Validation/image/SUV/SUV/쉐보레_대우/',\n",
    "    'v_suv_ssangyong' : '../type_age_number_data/Validation/image/SUV/SUV/쌍용자동차/',\n",
    "    'v_suv_genesis' : '../type_age_number_data/Validation/image/SUV/SUV/제네시스/',\n",
    "    'v_suv_hyeondai' : '../type_age_number_data/Validation/image/SUV/SUV/현대자동차/',\n",
    "    'v_bus' : '../type_age_number_data/Validation/image/버스/버스/버스/',\n",
    "    'v_sedan_bmw' : '../type_age_number_data/Validation/image/세단/세단/BMW/',\n",
    "    'v_sedan_gia' : '../type_age_number_data/Validation/image/세단/세단/기아자동차/',\n",
    "    'v_sedan_renault_samsung' : '../type_age_number_data/Validation/image/세단/세단/르노삼성/',\n",
    "    'v_sedan_chevrolet_daewoo' : '../type_age_number_data/Validation/image/세단/세단/쉐보레_대우/',\n",
    "    'v_sedan_benz' : '../type_age_number_data/Validation/image/세단/세단/벤츠/',\n",
    "    'v_sedan_genesis' : '../type_age_number_data/Validation/image/세단/세단/제네시스/',\n",
    "    'v_sedan_hyeondai' : '../type_age_number_data/Validation/image/세단/세단/현대자동차/',\n",
    "    'v_van_gia' : '../type_age_number_data/Validation/image/승합/승합/기아자동차/',\n",
    "    'v_van_hyeondai' : '../type_age_number_data/Validation/image/승합/승합/현대자동차/',\n",
    "    'v_hatchback_gia' : '../type_age_number_data/Validation/image/해치백/해치백/기아자동차/',\n",
    "    'v_hatchback_hyeondai' : '../type_age_number_data/Validation/image/해치백/해치백/현대자동차/',\n",
    "    'v_hatchback_chevrolet_daewoo' : '../type_age_number_data/Validation/image/해치백/해치백/쉐보레_대우/',\n",
    "    'v_motocycle' : '../type_age_number_data/Validation/image/이륜차/이륜차/이륜차/',\n",
    "    'v_truck' : '../type_age_number_data/Validation/image/트럭/트럭/트럭/',\n",
    "    'v_lorry' : '../type_age_number_data/Validation/image/화물/화물/특수/',\n",
    "    'v_number' : '../type_age_number_data/Validation/image/자동차번호판OCR데이터/',\n",
    "\n",
    "    \n",
    "}\n",
    "\n",
    "xls_dir = {\n",
    "    'quotation' : '../Breakage_data/data/train/original/TS_quotation/',\n",
    "}"
   ]
  },
  {
   "cell_type": "markdown",
   "id": "oHRtsJ_RoMPA",
   "metadata": {
    "id": "oHRtsJ_RoMPA"
   },
   "source": [
    "# 차량 파손\n",
    "\n",
    "## breakage1 ~ 2\n",
    "- json_data[\"info\"] ['name', 'date_created'], '\n",
    "- json_data[\"images\"] ['id', 'width', 'height', 'file_name'], \n",
    "- json_data[\"annotations\"][0] ['id', 'image_id', 'category_id', 'segmentation', 'area', 'bbox', 'damage', 'part', 'year', 'color', 'level', 'repair']\n",
    "- json_data[\"categories\"] ['id', 'supercategory_name']\n"
   ]
  },
  {
   "cell_type": "code",
   "execution_count": 13,
   "id": "pnXKpaU0y1an",
   "metadata": {
    "id": "pnXKpaU0y1an"
   },
   "outputs": [],
   "source": [
    "import os\n",
    "\n",
    "# JSON파일 불러오기\n",
    "# key : breakage1, breakage2\n",
    "key = \"t_breakage1\"                   # 원하는 데이터 선택\n",
    "j_dir = label_dir[key]            # JSON 파일 폴더 경로\n",
    "file_list_j = os.listdir(j_dir)   # JSON 파일 리스트"
   ]
  },
  {
   "cell_type": "code",
   "execution_count": 14,
   "id": "qOA1ZLZI1QGJ",
   "metadata": {
    "id": "qOA1ZLZI1QGJ"
   },
   "outputs": [],
   "source": [
    "# image파일 불러오기\n",
    "i_dir = image_dir[key]  # image 파일 폴더 경로\n",
    "file_list_i = os.listdir(i_dir)  # image 파일 리스트"
   ]
  },
  {
   "cell_type": "code",
   "execution_count": 29,
   "id": "18e245ca",
   "metadata": {
    "scrolled": false
   },
   "outputs": [
    {
     "ename": "SyntaxError",
     "evalue": "unexpected EOF while parsing (4162523230.py, line 13)",
     "output_type": "error",
     "traceback": [
      "\u001b[1;36m  File \u001b[1;32m\"C:\\Users\\AI\\AppData\\Local\\Temp\\ipykernel_13112\\4162523230.py\"\u001b[1;36m, line \u001b[1;32m13\u001b[0m\n\u001b[1;33m    \u001b[0m\n\u001b[1;37m    ^\u001b[0m\n\u001b[1;31mSyntaxError\u001b[0m\u001b[1;31m:\u001b[0m unexpected EOF while parsing\n"
     ]
    }
   ],
   "source": [
    "import json\n",
    "import cv2\n",
    "import matplotlib.pyplot as plt\n",
    "import numpy as np\n",
    "import pandas as pd\n",
    "\n",
    "repeat = True\n",
    "with open(j_dir + file_list_j[0], 'r', encoding=\"UTF-8\") as f :\n",
    "    json_data = json.load(f)\n",
    "    key = json_data.keys()\n",
    "    print(key)\n",
    "    for i in keys :\n",
    "        "
   ]
  },
  {
   "cell_type": "code",
   "execution_count": 15,
   "id": "f3d79915",
   "metadata": {},
   "outputs": [
    {
     "ename": "KeyError",
     "evalue": "'car'",
     "output_type": "error",
     "traceback": [
      "\u001b[1;31m---------------------------------------------------------------------------\u001b[0m",
      "\u001b[1;31mKeyError\u001b[0m                                  Traceback (most recent call last)",
      "\u001b[1;32m~\\AppData\\Local\\Temp\\ipykernel_13112\\2635841965.py\u001b[0m in \u001b[0;36m<module>\u001b[1;34m\u001b[0m\n\u001b[0;32m      2\u001b[0m \u001b[1;32mwith\u001b[0m \u001b[0mopen\u001b[0m\u001b[1;33m(\u001b[0m\u001b[0mj_dir\u001b[0m \u001b[1;33m+\u001b[0m \u001b[0mfile_list_j\u001b[0m\u001b[1;33m[\u001b[0m\u001b[1;36m0\u001b[0m\u001b[1;33m]\u001b[0m\u001b[1;33m,\u001b[0m \u001b[1;34m'r'\u001b[0m\u001b[1;33m,\u001b[0m \u001b[0mencoding\u001b[0m\u001b[1;33m=\u001b[0m\u001b[1;34m\"UTF-8\"\u001b[0m\u001b[1;33m)\u001b[0m \u001b[1;32mas\u001b[0m \u001b[0mf\u001b[0m \u001b[1;33m:\u001b[0m\u001b[1;33m\u001b[0m\u001b[1;33m\u001b[0m\u001b[0m\n\u001b[0;32m      3\u001b[0m     \u001b[0mjson_data\u001b[0m \u001b[1;33m=\u001b[0m \u001b[0mjson\u001b[0m\u001b[1;33m.\u001b[0m\u001b[0mload\u001b[0m\u001b[1;33m(\u001b[0m\u001b[0mf\u001b[0m\u001b[1;33m)\u001b[0m\u001b[1;33m\u001b[0m\u001b[1;33m\u001b[0m\u001b[0m\n\u001b[1;32m----> 4\u001b[1;33m     \u001b[0mprint\u001b[0m\u001b[1;33m(\u001b[0m\u001b[0mjson_data\u001b[0m\u001b[1;33m[\u001b[0m\u001b[1;34m'car'\u001b[0m\u001b[1;33m]\u001b[0m\u001b[1;33m[\u001b[0m\u001b[1;34m'imagePath'\u001b[0m\u001b[1;33m]\u001b[0m\u001b[1;33m)\u001b[0m\u001b[1;33m\u001b[0m\u001b[1;33m\u001b[0m\u001b[0m\n\u001b[0m",
      "\u001b[1;31mKeyError\u001b[0m: 'car'"
     ]
    }
   ],
   "source": [
    "import json\n",
    "with open(j_dir + file_list_j[0], 'r', encoding=\"UTF-8\") as f :\n",
    "    json_data = json.load(f)\n",
    "    print(json_data['car']['imagePath'])"
   ]
  },
  {
   "cell_type": "code",
   "execution_count": null,
   "id": "7ad2585b",
   "metadata": {
    "colab": {
     "base_uri": "https://localhost:8080/",
     "height": 501
    },
    "id": "ueZDwh0Yy8Gv",
    "outputId": "ac846dec-4f2e-4449-cf67-934a89b26373"
   },
   "outputs": [],
   "source": [
    "import json\n",
    "import cv2\n",
    "import matplotlib.pyplot as plt\n",
    "import numpy as np\n",
    "\n",
    "with open(j_dir + file_list_j[0], 'r', encoding=\"UTF-8\") as f :\n",
    "    json_data = json.load(f)\n",
    "    img_array = np.fromfile(i_dir + json_data['car']['imagePath'].split('/')[-1], np.uint8)\n",
    "    img = cv2.imdecode(img_array, cv2.IMREAD_COLOR)\n",
    "    img = cv2.cvtColor(img, cv2.COLOR_BGR2RGB)\n",
    "    plt.figure(figsize=(20, 8))\n",
    "    plt.imshow(img)\n",
    "    plt.axis(\"off\") \n",
    "    print(json_data)\n",
    "plt.show()  "
   ]
  },
  {
   "cell_type": "code",
   "execution_count": null,
   "id": "ueZDwh0Yy8Gv",
   "metadata": {
    "colab": {
     "base_uri": "https://localhost:8080/",
     "height": 501
    },
    "id": "ueZDwh0Yy8Gv",
    "outputId": "ac846dec-4f2e-4449-cf67-934a89b26373"
   },
   "outputs": [],
   "source": [
    "import json\n",
    "import cv2\n",
    "import matplotlib.pyplot as plt\n",
    "\n",
    "with open(j_dir + file_list_j[0], 'r') as f :\n",
    "    json_data = json.load(f)\n",
    "    img = cv2.imread(i_dir + \"/\" + json_data[\"images\"][\"file_name\"])\n",
    "    img = cv2.cvtColor(img, cv2.COLOR_BGR2RGB)\n",
    "    width = json_data[\"images\"][\"width\"]\n",
    "    height = json_data[\"images\"][\"height\"]\n",
    "    for seg in json_data[\"annotations\"][0]['segmentation'][0][0] :\n",
    "      img = cv2.circle(img, tuple(seg), 3, (255, 255, 255), -1)\n",
    "    img = cv2.rectangle(img, json_data[\"annotations\"][0]['bbox'], (100, 100,255), 4)\n",
    "    plt.figure(figsize=(20, 8))\n",
    "    print(\"파손 여부 :\",json_data[\"annotations\"][0]['damage'])\n",
    "    print(\"수리 :\", json_data[\"annotations\"][0]['repair'])\n",
    "    plt.imshow(img)\n",
    "    plt.axis(\"off\") \n",
    "    # print(json_data)\n",
    "plt.show()        "
   ]
  },
  {
   "cell_type": "markdown",
   "id": "CbWm2Osp2aKH",
   "metadata": {
    "id": "CbWm2Osp2aKH"
   },
   "source": [
    "# 차량 인식\n",
    "\n",
    "## suv\n",
    "- json_data['imagePath'] : ex) 자유시장앞_고정1-20200907-150002-001_1910.jpg\n",
    "- **json_data['car'] ['bbox', 'imagePath', 'attributes']**\n",
    "  - **json_data['car']['attributes'] ['brand', 'color', 'model', 'year']**\n",
    "- json_data['plate'] ['bbox']\n",
    "- json_data['id'] ex) 443c9fc7-6672-4595-aaf4-5d38d435bad7\n",
    "- json_data['videoName']  ex) 자유시장앞_고정1-20200907-150002-001.mp4\n",
    "- json_data['frameNo'] \n",
    "- **json_data['weather']** \n",
    "<br><br>\n",
    "- 차량 인식이라 bbox 크게 안써도 됨"
   ]
  },
  {
   "cell_type": "code",
   "execution_count": null,
   "id": "Uxp_wVYV5gLy",
   "metadata": {
    "id": "Uxp_wVYV5gLy"
   },
   "outputs": [],
   "source": [
    "import os\n",
    "\n",
    "# JSON파일 불러오기\n",
    "# key : suv_gia, suv_hyeondai\n",
    "key = \"t_suv_gia\"                   # 원하는 데이터 선택\n",
    "j_dir = label_dir[key]            # JSON 파일 폴더 경로\n",
    "file_list_j = os.listdir(j_dir)   # JSON 파일 리스트"
   ]
  },
  {
   "cell_type": "code",
   "execution_count": null,
   "id": "b90ZR3n85gLz",
   "metadata": {
    "id": "b90ZR3n85gLz"
   },
   "outputs": [],
   "source": [
    "# image파일 불러오기\n",
    "i_dir = image_dir[key]  # image 파일 폴더 경로\n",
    "file_list_i = os.listdir(i_dir)  # image 파일 리스트"
   ]
  },
  {
   "cell_type": "code",
   "execution_count": null,
   "id": "y9MYJ--a5gLz",
   "metadata": {
    "colab": {
     "base_uri": "https://localhost:8080/",
     "height": 535
    },
    "id": "y9MYJ--a5gLz",
    "outputId": "e5a15676-6a94-4e40-b8e7-d453c4913b07"
   },
   "outputs": [],
   "source": [
    "from posix import pipe2\n",
    "import json\n",
    "import cv2\n",
    "import matplotlib.pyplot as plt\n",
    "\n",
    "with open(j_dir + file_list_j[0], 'r') as f :\n",
    "    json_data = json.load(f)\n",
    "    img = cv2.imread(i_dir + \"/\" + json_data['car'] ['imagePath'].split('/')[-1])\n",
    "    img = cv2.cvtColor(img, cv2.COLOR_BGR2RGB)\n",
    "    plt.figure(figsize=(20, 8))\n",
    "    print(\"자동차 브랜드 :\", json_data['car']['attributes']['brand'])\n",
    "    print(\"자동차 색 :\", json_data['car']['attributes']['color'])    \n",
    "    print(\"자동차 모델 :\", json_data['car']['attributes']['model'])\n",
    "    print(\"자동차 연식 :\", json_data['car']['attributes']['year'])\n",
    "    plt.imshow(img)\n",
    "    plt.axis(\"off\") \n",
    "    # print(json_data)\n",
    "plt.show()        "
   ]
  },
  {
   "cell_type": "code",
   "execution_count": null,
   "id": "i5E5zw1U2RYo",
   "metadata": {
    "colab": {
     "base_uri": "https://localhost:8080/"
    },
    "id": "i5E5zw1U2RYo",
    "outputId": "4050f146-bf4a-4033-d66d-18b727c6181e"
   },
   "outputs": [],
   "source": [
    "# 키 값 확인하기\n",
    "import json\n",
    "import cv2\n",
    "import matplotlib.pyplot as plt\n",
    "\n",
    "with open(j_dir + file_list_j[0], 'r') as f :\n",
    "    json_data = json.load(f)\n",
    "    print(json_data)"
   ]
  },
  {
   "cell_type": "markdown",
   "id": "MDf1y9YU-aSR",
   "metadata": {
    "id": "MDf1y9YU-aSR"
   },
   "source": [
    "# 번호판\n",
    "\n",
    "## number\n",
    "- json_data['imagePath']\n",
    "- json_data['value']\n",
    "- json_data['id']\n",
    "<br><br>\n",
    "- {'imagePath': '01가0785.jpg', 'value': '01가0785', 'id': '615d8372-90f6-48eb-a14b-26cd7b3448f8'}"
   ]
  },
  {
   "cell_type": "code",
   "execution_count": null,
   "id": "LXAgsrnc-aSX",
   "metadata": {
    "id": "LXAgsrnc-aSX"
   },
   "outputs": [],
   "source": [
    "import os\n",
    "\n",
    "# JSON파일 불러오기\n",
    "# key : number\n",
    "key = \"number\"                   # 원하는 데이터 선택\n",
    "j_dir = label_dir[key]            # JSON 파일 폴더 경로\n",
    "file_list_j = os.listdir(j_dir)   # JSON 파일 리스트"
   ]
  },
  {
   "cell_type": "code",
   "execution_count": null,
   "id": "MRo4J2_0-aSX",
   "metadata": {
    "id": "MRo4J2_0-aSX"
   },
   "outputs": [],
   "source": [
    "# image파일 불러오기\n",
    "i_dir = image_dir[key]  # image 파일 폴더 경로\n",
    "file_list_i = os.listdir(i_dir)  # image 파일 리스트"
   ]
  },
  {
   "cell_type": "code",
   "execution_count": null,
   "id": "Phln6lWL-aSY",
   "metadata": {
    "colab": {
     "base_uri": "https://localhost:8080/",
     "height": 211
    },
    "id": "Phln6lWL-aSY",
    "outputId": "4fd71850-4767-40ca-b617-97a880ae5da2"
   },
   "outputs": [],
   "source": [
    "from posix import pipe2\n",
    "import json\n",
    "import cv2\n",
    "import matplotlib.pyplot as plt\n",
    "\n",
    "with open(j_dir + file_list_j[0], 'r') as f :\n",
    "    json_data = json.load(f)\n",
    "    img = cv2.imread(i_dir + \"/\" + json_data['imagePath'])\n",
    "    img = cv2.cvtColor(img, cv2.COLOR_BGR2RGB)\n",
    "    plt.figure(figsize=(8, 3))\n",
    "    print(\"번호 :\", json_data[\"value\"])\n",
    "    plt.imshow(img)\n",
    "    plt.axis(\"off\") \n",
    "    # print(json_data)\n",
    "plt.show()        "
   ]
  },
  {
   "cell_type": "code",
   "execution_count": null,
   "id": "360b1dac",
   "metadata": {
    "colab": {
     "base_uri": "https://localhost:8080/",
     "height": 435
    },
    "id": "360b1dac",
    "outputId": "419b98c3-fc6d-4cd6-91b9-34b9750218b0"
   },
   "outputs": [],
   "source": [
    "import os\n",
    "import json\n",
    "import cv2\n",
    "import matplotlib.pyplot as plt\n",
    "\n",
    "for j in file_list_j :\n",
    "  if j in [\".ipynb_checkpoints\", \"output\"]:\n",
    "      continue\n",
    "  with open(j_dir + j, 'r') as f :\n",
    "      json_data = json.load(f) \n",
    "      img = cv2.imread(i_dir + \"/\" + json_data[\"images\"][\"file_name\"])\n",
    "      img = cv2.cvtColor(img, cv2.COLOR_BGR2RGB)\n",
    "      width = json_data[\"images\"][\"width\"]\n",
    "      height = json_data[\"images\"][\"height\"]\n",
    "      for seg in json_data[\"annotations\"][0]['segmentation'][0][0] :\n",
    "        img = cv2.circle(img, tuple(seg), 3, (255, 255, 255), -1)\n",
    "      img = cv2.rectangle(img, json_data[\"annotations\"][0]['bbox'], (100, 100,255), 4)\n",
    "      plt.figure(figsize=(width, height))\n",
    "      plt.subplot(len(file_list_j), 1, file_list_j.index(j) + 1)\n",
    "      # print(\"파손 여부 :\",json_data[\"annotations\"][0]['damage'])\n",
    "      # print(\"수리 :\", json_data[\"annotations\"][0]['repair'])\n",
    "      plt.imshow(img)\n",
    "      plt.axis(\"off\") \n",
    "      # print(json_data)\n",
    "plt.show()        \n"
   ]
  },
  {
   "cell_type": "code",
   "execution_count": null,
   "id": "6PfXEwJXXCFr",
   "metadata": {
    "id": "6PfXEwJXXCFr"
   },
   "outputs": [],
   "source": [
    "\n",
    "+"
   ]
  },
  {
   "cell_type": "code",
   "execution_count": null,
   "id": "cfc8893d",
   "metadata": {
    "id": "cfc8893d"
   },
   "outputs": [],
   "source": []
  }
 ],
 "metadata": {
  "colab": {
   "collapsed_sections": [],
   "provenance": []
  },
  "kernelspec": {
   "display_name": "Python 3 (ipykernel)",
   "language": "python",
   "name": "python3"
  },
  "language_info": {
   "codemirror_mode": {
    "name": "ipython",
    "version": 3
   },
   "file_extension": ".py",
   "mimetype": "text/x-python",
   "name": "python",
   "nbconvert_exporter": "python",
   "pygments_lexer": "ipython3",
   "version": "3.7.13"
  },
  "toc": {
   "base_numbering": 1,
   "nav_menu": {},
   "number_sections": false,
   "sideBar": true,
   "skip_h1_title": false,
   "title_cell": "Table of Contents",
   "title_sidebar": "Contents",
   "toc_cell": false,
   "toc_position": {},
   "toc_section_display": true,
   "toc_window_display": false
  }
 },
 "nbformat": 4,
 "nbformat_minor": 5
}
