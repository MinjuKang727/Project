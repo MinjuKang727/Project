{
 "cells": [
  {
   "cell_type": "code",
   "execution_count": null,
   "id": "ef4a05bd",
   "metadata": {
    "scrolled": true
   },
   "outputs": [
    {
     "name": "stdout",
     "output_type": "stream",
     "text": [
      "\n",
      "1번째 경로: G:/내 드라이브/Colab Notebooks/AIDA/Data/160. 차량파손 이미지 데이터/01.데이터/1.Training/1.원천데이터/TS_damage_part.zip\n",
      "진행도 : [3001 / 109063]  2.75%\n",
      "1번째 npz 저장 완료\n",
      "진행도 : [6001 / 109063]  5.50%\n",
      "2번째 npz 저장 완료\n",
      "진행도 : [9001 / 109063]  8.25%\n",
      "3번째 npz 저장 완료\n",
      "진행도 : [11287 / 109063]  10.35%"
     ]
    }
   ],
   "source": [
    "from zipfile import ZipFile as zf\n",
    "import numpy as np\n",
    "from PIL import Image\n",
    "from io import BytesIO\n",
    "import os\n",
    "\n",
    "zip_dic = {'G:/내 드라이브/Colab Notebooks/AIDA/Data/160. 차량파손 이미지 데이터/01.데이터/1.Training/1.원천데이터/': ['TS_damage_part.zip', 'TS_damage.zip'], 'G:/내 드라이브/Colab Notebooks/AIDA/Data/160. 차량파손 이미지 데이터/01.데이터/2.Validation/1.원천데이터/': ['VS_damage_part.zip', 'VS_damage.zip']}\n",
    "\n",
    "i = 1  # 압축 풀기 진행 상황 확인용 변수\n",
    "\n",
    "for path in zip_dic.keys() :\n",
    "    for z in zip_dic[path] :\n",
    "        img_name = []  # 파일 이름을 담을 리스트\n",
    "        img_arr_li = []  # 이미지 numpy array를 담을 리스트\n",
    "        \n",
    "        with zf(path + z, 'r') as rz :\n",
    "            print(f'\\n{i}번째 경로: { path + z }')  # 현재 조회중인 경로 출력\n",
    "\n",
    "            f_list = rz.namelist()  # zip파일 내부 파일명 리스트\n",
    "            \n",
    "            i += 1  # 경로 조회 진행도 + 1\n",
    "            j = 0  # 파일 조회 진행도 초기화\n",
    "            n = 1\n",
    "            k = len(f_list)\n",
    "            \n",
    "#             if i == 2 :  # 코드 실행중 에러로 정지된 부분부터 시작할 때 사용하는 코드 (i번째 경로, j번째 파일부터 조회)\n",
    "#                 j = 12001\n",
    "#                 n = 6\n",
    "            \n",
    "            for f in f_list[j:k] :\n",
    "                j += 1\n",
    "                \n",
    "                if f.endswith('.jpg') :\n",
    "                    print(f'\\r진행도 : [{j} / {len(f_list)}] {j / len(f_list) * 100 : .2f}%', end=\"\") # 현재 조회중인 zip파일 변환 진행도 출력\n",
    "                    img_f = rz.read(f)  # 이미지 파일 읽기 : bytes타입\n",
    "                    try :\n",
    "                        img = Image.open(BytesIO(img_f))  # bytes타입을 읽어와 이미지로 변수에 저장\n",
    "                        img_arr = np.array(img)  # 이미지를 numpy array로 변환\n",
    "\n",
    "                        # img_arr_li에 이미지가 존재하지 않으면,\n",
    "                        if sum([np.array_equal(arr,img_arr) for arr in img_arr_li]) == 0 :\n",
    "                            img_name.append(f)  # img_name에 이미지 파일 이름 추가\n",
    "                            img_arr_li.append(img_arr)  # img_arr_li에 이미지 numpy 배열 추가\n",
    "                        # 이미 리스트에 추가한 이미지라면,\n",
    "                        else :\n",
    "                            print('이미 존재하는 데이터')\n",
    "\n",
    "                    # bytes타입 변환 실패시,\n",
    "                    except Exception as e:\n",
    "                        print(e)\n",
    "\n",
    "                if len(img_name) == 3000 :\n",
    "                    # 저장할 파일 이름 설정\n",
    "                    f_name = z[:-4]+str(n)\n",
    "                    \n",
    "                    name = np.array(img_name)  # 이미지 파일 이름을 numpy 배열로 변환\n",
    "                    if not os.path.isdir(f\"G:/내 드라이브/Colab Notebooks/AIDA/Data/160. 차량파손 이미지 데이터/npz/{z[:-4]}/\") :\n",
    "                        os.mkdir(f\"G:/내 드라이브/Colab Notebooks/AIDA/Data/160. 차량파손 이미지 데이터/npz/{z[:-4]}/\")\n",
    "                    \n",
    "                    np.savez_compressed(f\"G:/내 드라이브/Colab Notebooks/AIDA/Data/160. 차량파손 이미지 데이터/npz/{z[:-4]}/{f_name}.npz\", img_arr=img_arr_li, f_name=name)  # 이미지 numpy 배열을 압축한 npz파일 저장하기   \n",
    "                    print(f'\\n{n}번째 npz 저장 완료')\n",
    "                    n += 1\n",
    "                    img_name = []  # 파일 이름을 담을 리스트 리셋\n",
    "                    img_arr_li = []  # 이미지 numpy array를 담을 리스트 리셋\n",
    "          \n",
    "        if len(img_name) != 0 :\n",
    "            # 저장할 파일 이름 설정\n",
    "            f_name = z[:-4] + str(n)\n",
    "\n",
    "            name = np.array(img_name)  # 이미지 파일 이름을 numpy 배열로 변환\n",
    "            np.savez_compressed(f\"G:/내 드라이브/Colab Notebooks/AIDA/Data/160. 차량파손 이미지 데이터/npz/{z[:-4]}/{f_name}.npz\", img_arr=img_arr_li, f_name=img_name)  # 이미지 numpy 배열을 압축한 npz파일 저장하기   \n",
    "            print(\"\\n-END-\")"
   ]
  },
  {
   "cell_type": "markdown",
   "id": "2d0f4597",
   "metadata": {},
   "source": [
    "### npz 파일 이름 겹쳐서 저장되었는지 확인용 코드"
   ]
  },
  {
   "cell_type": "code",
   "execution_count": 23,
   "id": "97bfa37f",
   "metadata": {
    "scrolled": true
   },
   "outputs": [
    {
     "ename": "FileNotFoundError",
     "evalue": "[WinError 3] 지정된 경로를 찾을 수 없습니다: 'G:/내 드라이브/Colab Notebooks/AIDA/Data/160. 차량파손 이미지 데이터/TS_damage/'",
     "output_type": "error",
     "traceback": [
      "\u001b[1;31m---------------------------------------------------------------------------\u001b[0m",
      "\u001b[1;31mFileNotFoundError\u001b[0m                         Traceback (most recent call last)",
      "\u001b[1;32m~\\AppData\\Local\\Temp\\ipykernel_6496\\2621993406.py\u001b[0m in \u001b[0;36m<module>\u001b[1;34m\u001b[0m\n\u001b[0;32m      7\u001b[0m \u001b[0mzip_dic\u001b[0m \u001b[1;33m=\u001b[0m \u001b[1;33m{\u001b[0m\u001b[1;34m'G:/내 드라이브/Colab Notebooks/AIDA/Data/160. 차량파손 이미지 데이터/01.데이터/1.Training/1.원천데이터/'\u001b[0m\u001b[1;33m:\u001b[0m \u001b[1;33m[\u001b[0m\u001b[1;34m'TS_damage_part.zip'\u001b[0m\u001b[1;33m,\u001b[0m \u001b[1;34m'TS_damage.zip'\u001b[0m\u001b[1;33m]\u001b[0m\u001b[1;33m,\u001b[0m \u001b[1;34m'G:/내 드라이브/Colab Notebooks/AIDA/Data/160. 차량파손 이미지 데이터/01.데이터/2.Validation/1.원천데이터/'\u001b[0m\u001b[1;33m:\u001b[0m \u001b[1;33m[\u001b[0m\u001b[1;34m'VS_damage_part.zip'\u001b[0m\u001b[1;33m,\u001b[0m \u001b[1;34m'VS_damage.zip'\u001b[0m\u001b[1;33m]\u001b[0m\u001b[1;33m}\u001b[0m\u001b[1;33m\u001b[0m\u001b[1;33m\u001b[0m\u001b[0m\n\u001b[0;32m      8\u001b[0m \u001b[1;33m\u001b[0m\u001b[0m\n\u001b[1;32m----> 9\u001b[1;33m \u001b[0mnpz_list\u001b[0m \u001b[1;33m=\u001b[0m \u001b[0mos\u001b[0m\u001b[1;33m.\u001b[0m\u001b[0mlistdir\u001b[0m\u001b[1;33m(\u001b[0m\u001b[1;34m\"G:/내 드라이브/Colab Notebooks/AIDA/Data/160. 차량파손 이미지 데이터/TS_damage/\"\u001b[0m\u001b[1;33m)\u001b[0m\u001b[1;33m\u001b[0m\u001b[1;33m\u001b[0m\u001b[0m\n\u001b[0m\u001b[0;32m     10\u001b[0m \u001b[0mnpz_list\u001b[0m \u001b[1;33m=\u001b[0m \u001b[1;33m[\u001b[0m\u001b[0mnpz\u001b[0m \u001b[1;32mfor\u001b[0m \u001b[0mnpz\u001b[0m \u001b[1;32min\u001b[0m \u001b[0mnpz_list\u001b[0m \u001b[1;32mif\u001b[0m \u001b[0mnpz\u001b[0m\u001b[1;33m.\u001b[0m\u001b[0mendswith\u001b[0m\u001b[1;33m(\u001b[0m\u001b[1;34m'.npz'\u001b[0m\u001b[1;33m)\u001b[0m\u001b[1;33m]\u001b[0m\u001b[1;33m\u001b[0m\u001b[1;33m\u001b[0m\u001b[0m\n\u001b[0;32m     11\u001b[0m \u001b[1;32mfor\u001b[0m \u001b[0mi\u001b[0m \u001b[1;32min\u001b[0m \u001b[0mrange\u001b[0m\u001b[1;33m(\u001b[0m\u001b[0mlen\u001b[0m\u001b[1;33m(\u001b[0m\u001b[0mnpz_list\u001b[0m\u001b[1;33m)\u001b[0m\u001b[1;33m)\u001b[0m\u001b[1;33m:\u001b[0m\u001b[1;33m\u001b[0m\u001b[1;33m\u001b[0m\u001b[0m\n",
      "\u001b[1;31mFileNotFoundError\u001b[0m: [WinError 3] 지정된 경로를 찾을 수 없습니다: 'G:/내 드라이브/Colab Notebooks/AIDA/Data/160. 차량파손 이미지 데이터/TS_damage/'"
     ]
    }
   ],
   "source": [
    "from zipfile import ZipFile as zf\n",
    "import numpy as np\n",
    "from PIL import Image\n",
    "from io import BytesIO\n",
    "import os\n",
    "\n",
    "zip_dic = {'G:/내 드라이브/Colab Notebooks/AIDA/Data/160. 차량파손 이미지 데이터/01.데이터/1.Training/1.원천데이터/': ['TS_damage_part.zip', 'TS_damage.zip'], 'G:/내 드라이브/Colab Notebooks/AIDA/Data/160. 차량파손 이미지 데이터/01.데이터/2.Validation/1.원천데이터/': ['VS_damage_part.zip', 'VS_damage.zip']}\n",
    "\n",
    "npz_list = os.listdir(\"G:/내 드라이브/Colab Notebooks/AIDA/Data/160. 차량파손 이미지 데이터/TS_damage/\")\n",
    "npz_list = [npz for npz in npz_list if npz.endswith('.npz')]\n",
    "for i in range(len(npz_list)):\n",
    "    print(f\"TS_damage{i+1}.npz\", end=\"\")\n",
    "    try:\n",
    "        TS_damage_part = np.load(f\"G:/내 드라이브/Colab Notebooks/AIDA/Data/160. 차량파손 이미지 데이터/TS_damage/TS_damage{i+1}.npz\", allow_pickle=True)\n",
    "        f_name3 = TS_damage_part[\"f_name\"][-1]\n",
    "\n",
    "        with zf(\"G:/내 드라이브/Colab Notebooks/AIDA/Data/160. 차량파손 이미지 데이터/01.데이터/1.Training/1.원천데이터/TS_damage.zip\", 'r') as rz :\n",
    "\n",
    "            f_list = rz.namelist()  # zip파일 내부 파일명 리스트\n",
    "            print(f\"   마지막 파일 인덱스 : {f_list.index(f_name3)} / 처음 파일 인덱스 : {f_list.index(TS_damage_part['f_name'][0])}\")\n",
    "    except :\n",
    "        print(\"error\")"
   ]
  },
  {
   "cell_type": "code",
   "execution_count": null,
   "id": "2089be8c",
   "metadata": {},
   "outputs": [],
   "source": []
  },
  {
   "cell_type": "code",
   "execution_count": null,
   "id": "278bf027",
   "metadata": {},
   "outputs": [],
   "source": []
  },
  {
   "cell_type": "code",
   "execution_count": null,
   "id": "03f5310b",
   "metadata": {},
   "outputs": [],
   "source": []
  },
  {
   "cell_type": "code",
   "execution_count": null,
   "id": "4ea3e473",
   "metadata": {},
   "outputs": [],
   "source": []
  }
 ],
 "metadata": {
  "kernelspec": {
   "display_name": "Python 3 (ipykernel)",
   "language": "python",
   "name": "python3"
  },
  "language_info": {
   "codemirror_mode": {
    "name": "ipython",
    "version": 3
   },
   "file_extension": ".py",
   "mimetype": "text/x-python",
   "name": "python",
   "nbconvert_exporter": "python",
   "pygments_lexer": "ipython3",
   "version": "3.7.13"
  },
  "toc": {
   "base_numbering": 1,
   "nav_menu": {},
   "number_sections": true,
   "sideBar": true,
   "skip_h1_title": false,
   "title_cell": "Table of Contents",
   "title_sidebar": "Contents",
   "toc_cell": false,
   "toc_position": {},
   "toc_section_display": true,
   "toc_window_display": false
  }
 },
 "nbformat": 4,
 "nbformat_minor": 5
}
