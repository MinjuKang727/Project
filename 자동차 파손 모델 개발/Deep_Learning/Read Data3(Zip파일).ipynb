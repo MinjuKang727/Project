{
 "cells": [
  {
   "cell_type": "code",
   "execution_count": null,
   "id": "ef4a05bd",
   "metadata": {
    "scrolled": true
   },
   "outputs": [
    {
     "name": "stdout",
     "output_type": "stream",
     "text": [
      "\n",
      "0번째 경로: G:/내 드라이브/Colab Notebooks/AIDA/Data/160. 차량파손 이미지 데이터/01.데이터/1.Training/1.원천데이터/TS_damage_part.zip\n",
      "진행도 : [87001 / 109063]  79.77%[WinError 183] 파일이 이미 있으므로 만들 수 없습니다: 'G:/내 드라이브/Colab Notebooks/AIDA/Data/160. 차량파손 이미지 데이터/TS_damage_part/'\n",
      "\n",
      "29번째 npz 저장 완료\n",
      "진행도 : [90001 / 109063]  82.52%[WinError 183] 파일이 이미 있으므로 만들 수 없습니다: 'G:/내 드라이브/Colab Notebooks/AIDA/Data/160. 차량파손 이미지 데이터/TS_damage_part/'\n",
      "\n",
      "30번째 npz 저장 완료\n",
      "진행도 : [93001 / 109063]  85.27%[WinError 183] 파일이 이미 있으므로 만들 수 없습니다: 'G:/내 드라이브/Colab Notebooks/AIDA/Data/160. 차량파손 이미지 데이터/TS_damage_part/'\n",
      "\n",
      "31번째 npz 저장 완료\n",
      "진행도 : [96001 / 109063]  88.02%[WinError 183] 파일이 이미 있으므로 만들 수 없습니다: 'G:/내 드라이브/Colab Notebooks/AIDA/Data/160. 차량파손 이미지 데이터/TS_damage_part/'\n",
      "\n",
      "32번째 npz 저장 완료\n",
      "진행도 : [99001 / 109063]  90.77%[WinError 183] 파일이 이미 있으므로 만들 수 없습니다: 'G:/내 드라이브/Colab Notebooks/AIDA/Data/160. 차량파손 이미지 데이터/TS_damage_part/'\n",
      "\n",
      "33번째 npz 저장 완료\n",
      "진행도 : [101095 / 109063]  92.69%"
     ]
    }
   ],
   "source": [
    "from zipfile import ZipFile as zf\n",
    "import numpy as np\n",
    "from PIL import Image\n",
    "from io import BytesIO\n",
    "import os\n",
    "\n",
    "zip_dic = {'G:/내 드라이브/Colab Notebooks/AIDA/Data/160. 차량파손 이미지 데이터/01.데이터/1.Training/1.원천데이터/': ['TS_damage_part.zip', 'TS_damage.zip'], 'G:/내 드라이브/Colab Notebooks/AIDA/Data/160. 차량파손 이미지 데이터/01.데이터/2.Validation/1.원천데이터/': ['VS_damage_part.zip', 'VS_damage.zip']}\n",
    "\n",
    "i = 0  # 압축 풀기 진행 상황 확인용 변수\n",
    "\n",
    "for path in zip_dic.keys() :\n",
    "    for z in zip_dic[path] :\n",
    "        img_name = []  # 파일 이름을 담을 리스트\n",
    "        img_arr_li = []  # 이미지 numpy array를 담을 리스트\n",
    "        \n",
    "        with zf(path + z, 'r') as rz :\n",
    "            print(f'\\n{i}번째 경로: { path + z }')  # 현재 조회중인 경로 출력\n",
    "\n",
    "            f_list = rz.namelist()  # zip파일 내부 파일명 리스트\n",
    "            \n",
    "            i += 1  # 경로 조회 진행도 + 1\n",
    "            j = 0  # 파일 조회 진행도 초기화\n",
    "            n = 1\n",
    "            k = len(f_list)\n",
    "            \n",
    "            if i == 1 :  # 코드 실행중 에러로 정지된 부분부터 시작할 때 사용하는 코드 (i번째 경로, j번째 파일부터 조회)\n",
    "                j = 84001\n",
    "                n = 29\n",
    "            \n",
    "            for f in f_list[j:k] :\n",
    "                j += 1\n",
    "                \n",
    "                if f.endswith('.jpg') :\n",
    "                    print(f'\\r진행도 : [{j} / {len(f_list)}] {j / len(f_list) * 100 : .2f}%', end=\"\") # 현재 조회중인 zip파일 변환 진행도 출력\n",
    "                    img_f = rz.read(f)  # 이미지 파일 읽기 : bytes타입\n",
    "                    try :\n",
    "                        img = Image.open(BytesIO(img_f))  # bytes타입을 읽어와 이미지로 변수에 저장\n",
    "                        img_arr = np.array(img)  # 이미지를 numpy array로 변환\n",
    "\n",
    "                        # img_arr_li에 이미지가 존재하지 않으면,\n",
    "                        if sum([np.array_equal(arr,img_arr) for arr in img_arr_li]) == 0 :\n",
    "                            img_name.append(f)  # img_name에 이미지 파일 이름 추가\n",
    "                            img_arr_li.append(img_arr)  # img_arr_li에 이미지 numpy 배열 추가\n",
    "                        # 이미 리스트에 추가한 이미지라면,\n",
    "                        else :\n",
    "                            print('이미 존재하는 데이터')\n",
    "\n",
    "                    # bytes타입 변환 실패시,\n",
    "                    except Exception as e:\n",
    "                        print(e)\n",
    "\n",
    "                if len(img_name) == 3000 :\n",
    "                    # 저장할 파일 이름 설정\n",
    "                    f_name = z[:-4]+str(n)\n",
    "                    \n",
    "                    name = np.array(img_name)  # 이미지 파일 이름을 numpy 배열로 변환\n",
    "                    try :\n",
    "                        os.mkdir(f\"G:/내 드라이브/Colab Notebooks/AIDA/Data/160. 차량파손 이미지 데이터/{z[:-4]}/\")\n",
    "                    except Exception as e:\n",
    "                        print(e)\n",
    "                        pass\n",
    "                    np.savez_compressed(f\"G:/내 드라이브/Colab Notebooks/AIDA/Data/160. 차량파손 이미지 데이터/{z[:-4]}/{f_name}.npz\", img_arr=img_arr_li, f_name=name)  # 이미지 numpy 배열을 압축한 npz파일 저장하기   \n",
    "                    print(f'\\n{n}번째 npz 저장 완료')\n",
    "                    n += 1\n",
    "                    img_name = []  # 파일 이름을 담을 리스트 리셋\n",
    "                    img_arr_li = []  # 이미지 numpy array를 담을 리스트 리셋\n",
    "          \n",
    "        if len(img_name) != 0 :\n",
    "            # 저장할 파일 이름 설정\n",
    "            f_name = z[:-4] + str(n)\n",
    "\n",
    "            name = np.array(img_name)  # 이미지 파일 이름을 numpy 배열로 변환\n",
    "            np.savez_compressed(f\"G:/내 드라이브/Colab Notebooks/AIDA/Data/160. 차량파손 이미지 데이터/{z[:-4]}/{f_name}.npz\", img_arr=img_arr_li, f_name=img_name)  # 이미지 numpy 배열을 압축한 npz파일 저장하기   \n",
    "            print(\"\\n-END-\")"
   ]
  },
  {
   "cell_type": "markdown",
   "id": "2d0f4597",
   "metadata": {},
   "source": [
    "### npz 파일 이름 겹쳐서 저장되었는지 확인용 코드"
   ]
  },
  {
   "cell_type": "code",
   "execution_count": 7,
   "id": "97bfa37f",
   "metadata": {
    "scrolled": true
   },
   "outputs": [
    {
     "name": "stdout",
     "output_type": "stream",
     "text": [
      "TS_damage_part1.npz   마지막 파일 인덱스 : 3000 / 처음 파일 인덱스 : 1\n",
      "TS_damage_part2.npz   마지막 파일 인덱스 : 6000 / 처음 파일 인덱스 : 3001\n",
      "TS_damage_part3.npz   마지막 파일 인덱스 : 9000 / 처음 파일 인덱스 : 6001\n",
      "TS_damage_part4.npz   마지막 파일 인덱스 : 12000 / 처음 파일 인덱스 : 9001\n",
      "TS_damage_part5.npz   마지막 파일 인덱스 : 15000 / 처음 파일 인덱스 : 12001\n",
      "TS_damage_part6.npz   마지막 파일 인덱스 : 18000 / 처음 파일 인덱스 : 15001\n",
      "TS_damage_part7.npz   마지막 파일 인덱스 : 21000 / 처음 파일 인덱스 : 18001\n",
      "TS_damage_part8.npz   마지막 파일 인덱스 : 24000 / 처음 파일 인덱스 : 21001\n",
      "TS_damage_part9.npz   마지막 파일 인덱스 : 27000 / 처음 파일 인덱스 : 24001\n",
      "TS_damage_part10.npz   마지막 파일 인덱스 : 30000 / 처음 파일 인덱스 : 27001\n",
      "TS_damage_part11.npz   마지막 파일 인덱스 : 33000 / 처음 파일 인덱스 : 30001\n",
      "TS_damage_part12.npz   마지막 파일 인덱스 : 36000 / 처음 파일 인덱스 : 33001\n",
      "TS_damage_part13.npz   마지막 파일 인덱스 : 39000 / 처음 파일 인덱스 : 36001\n",
      "TS_damage_part14.npz   마지막 파일 인덱스 : 42000 / 처음 파일 인덱스 : 39001\n",
      "TS_damage_part15.npz   마지막 파일 인덱스 : 45000 / 처음 파일 인덱스 : 42001\n",
      "TS_damage_part16.npz   마지막 파일 인덱스 : 48000 / 처음 파일 인덱스 : 45001\n",
      "TS_damage_part17.npz   마지막 파일 인덱스 : 51000 / 처음 파일 인덱스 : 48001\n",
      "TS_damage_part18.npz   마지막 파일 인덱스 : 54000 / 처음 파일 인덱스 : 51001\n",
      "TS_damage_part19.npz   마지막 파일 인덱스 : 57000 / 처음 파일 인덱스 : 54001\n",
      "TS_damage_part20.npz   마지막 파일 인덱스 : 60000 / 처음 파일 인덱스 : 57001\n",
      "TS_damage_part21.npz   마지막 파일 인덱스 : 63000 / 처음 파일 인덱스 : 60001\n",
      "TS_damage_part22.npz   마지막 파일 인덱스 : 66000 / 처음 파일 인덱스 : 63001\n",
      "TS_damage_part23.npz   마지막 파일 인덱스 : 69000 / 처음 파일 인덱스 : 66001\n",
      "TS_damage_part24.npz   마지막 파일 인덱스 : 72000 / 처음 파일 인덱스 : 69001\n",
      "TS_damage_part25.npz   마지막 파일 인덱스 : 75000 / 처음 파일 인덱스 : 72001\n",
      "TS_damage_part26.npz   마지막 파일 인덱스 : 78000 / 처음 파일 인덱스 : 75001\n",
      "TS_damage_part27.npz   마지막 파일 인덱스 : 81000 / 처음 파일 인덱스 : 78001\n",
      "TS_damage_part28.npz   마지막 파일 인덱스 : 84000 / 처음 파일 인덱스 : 81001\n"
     ]
    }
   ],
   "source": [
    "from zipfile import ZipFile as zf\n",
    "import numpy as np\n",
    "from PIL import Image\n",
    "from io import BytesIO\n",
    "import os\n",
    "\n",
    "zip_dic = {'G:/내 드라이브/Colab Notebooks/AIDA/Data/160. 차량파손 이미지 데이터/01.데이터/1.Training/1.원천데이터/': ['TS_damage_part.zip', 'TS_damage.zip'], 'G:/내 드라이브/Colab Notebooks/AIDA/Data/160. 차량파손 이미지 데이터/01.데이터/2.Validation/1.원천데이터/': ['VS_damage_part.zip', 'VS_damage.zip']}\n",
    "\n",
    "for i in range(0, 28):\n",
    "    print(f\"TS_damage_part{i+1}.npz\", end=\"\")\n",
    "    try:\n",
    "        TS_damage_part = np.load(f\"G:/내 드라이브/Colab Notebooks/AIDA/Data/160. 차량파손 이미지 데이터/TS_damage_part/TS_damage_part{i+1}.npz\", allow_pickle=True)\n",
    "        f_name3 = TS_damage_part[\"f_name\"][-1]\n",
    "\n",
    "        with zf(\"G:/내 드라이브/Colab Notebooks/AIDA/Data/160. 차량파손 이미지 데이터/01.데이터/1.Training/1.원천데이터/TS_damage_part.zip\", 'r') as rz :\n",
    "\n",
    "            f_list = rz.namelist()  # zip파일 내부 파일명 리스트\n",
    "            print(f\"   마지막 파일 인덱스 : {f_list.index(f_name3)} / 처음 파일 인덱스 : {f_list.index(TS_damage_part['f_name'][0])}\")\n",
    "    except :\n",
    "        print(\"error\")"
   ]
  },
  {
   "cell_type": "code",
   "execution_count": null,
   "id": "2089be8c",
   "metadata": {},
   "outputs": [],
   "source": []
  },
  {
   "cell_type": "code",
   "execution_count": null,
   "id": "da84dc95",
   "metadata": {},
   "outputs": [],
   "source": []
  },
  {
   "cell_type": "code",
   "execution_count": null,
   "id": "853a0b28",
   "metadata": {},
   "outputs": [],
   "source": []
  },
  {
   "cell_type": "code",
   "execution_count": null,
   "id": "09168d73",
   "metadata": {},
   "outputs": [],
   "source": []
  }
 ],
 "metadata": {
  "kernelspec": {
   "display_name": "Python 3 (ipykernel)",
   "language": "python",
   "name": "python3"
  },
  "language_info": {
   "codemirror_mode": {
    "name": "ipython",
    "version": 3
   },
   "file_extension": ".py",
   "mimetype": "text/x-python",
   "name": "python",
   "nbconvert_exporter": "python",
   "pygments_lexer": "ipython3",
   "version": "3.7.13"
  },
  "toc": {
   "base_numbering": 1,
   "nav_menu": {},
   "number_sections": true,
   "sideBar": true,
   "skip_h1_title": false,
   "title_cell": "Table of Contents",
   "title_sidebar": "Contents",
   "toc_cell": false,
   "toc_position": {},
   "toc_section_display": true,
   "toc_window_display": false
  }
 },
 "nbformat": 4,
 "nbformat_minor": 5
}
