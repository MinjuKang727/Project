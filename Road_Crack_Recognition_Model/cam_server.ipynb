{
 "cells": [
  {
   "cell_type": "code",
   "execution_count": null,
   "id": "96a043df",
   "metadata": {},
   "outputs": [],
   "source": [
    "from flask import Flask, request\n",
    "import cv2\n",
    "\n",
    "app = Flask(__name__)\n",
    "\n",
    "@app.route('/')\n",
    "def index():\n",
    "\n",
    "\n",
    "# 카메라로부터 영상을 획득\n",
    "cap = cv2.VideoCapture(0) # 0번이 사용중이라 안되면 1번이나 다른 번호를 써도 됨\n",
    "\n",
    "co = 0\n",
    "\n",
    "while True :\n",
    "    ret, frame = cap.read()\n",
    "    \n",
    "    if not ret :\n",
    "        print('종료')\n",
    "        cap.release()\n",
    "        break\n",
    "        \n",
    "    key = cv2.waitKey(33)\n",
    "    \n",
    "    cv2.imshow('cctv', frame)\n",
    "    \n",
    "\n",
    "    # 숫자 2를 누르면 프레임 이미지를 파일(png)로 저장\n",
    "    if key == 50 : \n",
    "        co = co + 1\n",
    "        print(f'./image/img{co}.png 파일을 저장 하였습니다.')\n",
    "        # 파일을 압축하지 않고 (0) PNG파일로 저장(img1.png, img2.png, img3.png, ...)\n",
    "        cv2.imwrite(f'./image/img{co}.png', frame, params=[cv2.IMWRITE_PNG_COMPRESSION, 0])\n",
    "\n",
    "    elif key == 49 :\n",
    "        print('종료')\n",
    "        cap.release()\n",
    "        cv2.destroyAllWindows()\n",
    "        break\n",
    "\n",
    "if __name__ == '__main__' :\n",
    "\n",
    "    app.run(host=\"127.0.0.1\", port=5500)"
   ]
  }
 ],
 "metadata": {
  "kernelspec": {
   "display_name": "Python 3 (ipykernel)",
   "language": "python",
   "name": "python3"
  },
  "language_info": {
   "codemirror_mode": {
    "name": "ipython",
    "version": 3
   },
   "file_extension": ".py",
   "mimetype": "text/x-python",
   "name": "python",
   "nbconvert_exporter": "python",
   "pygments_lexer": "ipython3",
   "version": "3.7.13"
  },
  "toc": {
   "base_numbering": 1,
   "nav_menu": {},
   "number_sections": true,
   "sideBar": true,
   "skip_h1_title": false,
   "title_cell": "Table of Contents",
   "title_sidebar": "Contents",
   "toc_cell": false,
   "toc_position": {},
   "toc_section_display": true,
   "toc_window_display": false
  }
 },
 "nbformat": 4,
 "nbformat_minor": 5
}
