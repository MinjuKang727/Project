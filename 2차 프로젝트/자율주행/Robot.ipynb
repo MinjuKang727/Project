{
 "cells": [
  {
   "cell_type": "markdown",
   "id": "e5239b30",
   "metadata": {},
   "source": [
    "# UWB 자율주행 물류 로봇 통합 관리 시스템 [Hardware Server]"
   ]
  },
  {
   "cell_type": "markdown",
   "id": "965b1547",
   "metadata": {},
   "source": [
    "### How do we control \"robots\"?\n",
    "- 하드웨어 등록 방법?\n",
    "    - 와이파이 등록 방법 or 서버 == 와이파이, 인터넷? : 서버가 있으면 이런거 할 필요가 없는 걸까?\n",
    "    - 회사 로봇 관리 DB와 사용중인 로봇 DB를 따로 두는 것이 좋을까?\n",
    "    - wifi manager\n",
    "    \n",
    "\n",
    "- 회사에 생산한 로봇 DB 관리 : 재고 로봇정보 회사측 로봇DB에 등록\n",
    "- 와이파이 입력하면 와이파이 주소 변경 가능하도록 하드웨어 코딩\n",
    "- 사용자가 로봇을 구매하면, 웹서버의 ROBOT DB에 공간 번호 등록(회사 DB에서 가져오기\n",
    "- 공간 번호가 등록 되고 로봇 상태가 대기가 아니면 위치 데이터 전송하도록 하드웨어 코딩\n",
    "- 이후 다양한 기능(호출, 추종, 선별장 이동 등)이 추가되면 웹페이지 업그레이드해야 함(일단, 등록과 위치 출력만 해보자!)"
   ]
  },
  {
   "cell_type": "code",
   "execution_count": null,
   "id": "1bbcd19e",
   "metadata": {},
   "outputs": [],
   "source": []
  },
  {
   "cell_type": "code",
   "execution_count": null,
   "id": "41f27fc0",
   "metadata": {},
   "outputs": [],
   "source": [
    "from flask import Flask, session, render_template, redirect, request, url_for, jsonify\n",
    "from datetime import timedelta\n",
    "import random\n",
    "\n",
    "app = Flask(__name__)\n",
    "app.secret_key = f\"I'm_on_TOP!{random.randint(0, 99999):0>5}\"\n",
    "app.config[\"PERMANENT_SESSION_LIFETIME\"] = timedelta(minutes=10) # 로그인 지속 시간\n",
    "\n",
    "\n",
    "\n",
    "@app.route('/')\n",
    "def \n",
    "\n",
    "\n",
    "if __name__ == '__main__' :\n",
    "    app.run(host=\"192.168.26.198\", port=6532)"
   ]
  }
 ],
 "metadata": {
  "kernelspec": {
   "display_name": "Python 3 (ipykernel)",
   "language": "python",
   "name": "python3"
  },
  "language_info": {
   "codemirror_mode": {
    "name": "ipython",
    "version": 3
   },
   "file_extension": ".py",
   "mimetype": "text/x-python",
   "name": "python",
   "nbconvert_exporter": "python",
   "pygments_lexer": "ipython3",
   "version": "3.7.13"
  },
  "toc": {
   "base_numbering": 1,
   "nav_menu": {},
   "number_sections": false,
   "sideBar": true,
   "skip_h1_title": false,
   "title_cell": "Table of Contents",
   "title_sidebar": "Contents",
   "toc_cell": false,
   "toc_position": {},
   "toc_section_display": true,
   "toc_window_display": true
  }
 },
 "nbformat": 4,
 "nbformat_minor": 5
}
