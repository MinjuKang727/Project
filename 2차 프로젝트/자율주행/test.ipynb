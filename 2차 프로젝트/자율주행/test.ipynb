{
 "cells": [
  {
   "cell_type": "code",
   "execution_count": null,
   "id": "f006474d",
   "metadata": {},
   "outputs": [
    {
     "name": "stdout",
     "output_type": "stream",
     "text": [
      " * Serving Flask app '__main__'\n",
      " * Debug mode: off\n"
     ]
    },
    {
     "name": "stderr",
     "output_type": "stream",
     "text": [
      "WARNING: This is a development server. Do not use it in a production deployment. Use a production WSGI server instead.\n",
      " * Running on http://192.168.70.195:2058\n",
      "Press CTRL+C to quit\n",
      "192.168.70.195 - - [24/Oct/2022 12:06:02] \"GET / HTTP/1.1\" 200 -\n",
      "192.168.70.195 - - [24/Oct/2022 12:06:25] \"GET / HTTP/1.1\" 200 -\n",
      "192.168.70.195 - - [24/Oct/2022 12:06:26] \"GET /favicon.ico HTTP/1.1\" 404 -\n"
     ]
    }
   ],
   "source": [
    "from flask import Flask, session, render_template, redirect, request, url_for\n",
    "from markupsafe import escape\n",
    "from datetime import timedelta, datetime\n",
    "import random\n",
    "\n",
    "app = Flask(__name__)\n",
    "app.secret_key = f\"I'm_on_TOP!{random.randint(0, 99999):0>5}\"\n",
    "app.config[\"PERMANENT_SESSION_LIFETIME\"] = timedelta(minutes=60) # 로그인 지속 시간\n",
    "\n",
    "######### 메인 화면 #########\n",
    "@app.route('/myloc') # home \n",
    "def myloc() :\n",
    "    return render_template('mapAPI.html')\n",
    "\n",
    "if __name__ == '__main__' :\n",
    "    app.run(host=\"192.168.70.195\", port=2058)"
   ]
  },
  {
   "cell_type": "code",
   "execution_count": null,
   "id": "d0e2fd77",
   "metadata": {},
   "outputs": [],
   "source": []
  }
 ],
 "metadata": {
  "kernelspec": {
   "display_name": "Python 3 (ipykernel)",
   "language": "python",
   "name": "python3"
  },
  "language_info": {
   "codemirror_mode": {
    "name": "ipython",
    "version": 3
   },
   "file_extension": ".py",
   "mimetype": "text/x-python",
   "name": "python",
   "nbconvert_exporter": "python",
   "pygments_lexer": "ipython3",
   "version": "3.7.13"
  },
  "toc": {
   "base_numbering": 1,
   "nav_menu": {},
   "number_sections": true,
   "sideBar": true,
   "skip_h1_title": false,
   "title_cell": "Table of Contents",
   "title_sidebar": "Contents",
   "toc_cell": false,
   "toc_position": {},
   "toc_section_display": true,
   "toc_window_display": false
  }
 },
 "nbformat": 4,
 "nbformat_minor": 5
}
