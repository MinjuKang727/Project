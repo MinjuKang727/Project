{
 "cells": [
  {
   "cell_type": "markdown",
   "id": "2c612be0",
   "metadata": {},
   "source": [
    "# UWB 자율주행 물류 로봇 통합 관리 시스템"
   ]
  },
  {
   "cell_type": "code",
   "execution_count": null,
   "id": "63d9af79",
   "metadata": {},
   "outputs": [],
   "source": [
    "robot_list = [[1, 'locus_bot.jpg', 'Locus_bot', '현재 로봇 6대 운행중', '없음'],\n",
    "                 [2, 'chuck.jpg', 'Chuck', '현재 로봇 6대 운행중', '없음'],\n",
    "                 [3, 'go_cart_250.jpg', 'gocart_2500', '현재 로봇 6대 운행중', '없음'],\n",
    "                 [4, 'M3_1000.jpg', 'M3_1000', '현재 로봇 6대 운행중', '없음'],\n",
    "                 [5, 'hanhasf_logistics.jpg', 'hanhasf_logistics', '현재 로봇 6대 운행중', '없음'],\n",
    "                 [6, 'TES.jpg', 'TES', '현재 로봇 6대 운행중', '없음']\n",
    "             ]\n",
    "smartfarm_list = [[i, f'smartfarm0{i}.png', f'스마트명{i}', '현재 로봇 6대 운행중', '없음'] for i in range(1, 6)]\n",
    "sf_info = [[i, f'smartfarm0{i}.png', f'스마트명{i}','현재 로봇 10대 운행중', '없음', \n",
    "          {'Locus_bot':[i*6-5, '작업중'],\n",
    "           'Chuck':[i*6-2, '작업중'],\n",
    "           'gocart_2500' :[i*6-3, '대기중'],\n",
    "           'M3_1000' : [i*6, '작업중'],\n",
    "           'hanhasf_logistics' :[i*6-1, '대기중'],\n",
    "           'TES':[i*6-4, '점검중']\n",
    "          }] for i in range(1, 6)]\n",
    "r_info = {'Locus_bot': [[i, '작업중', f'sf_{i*3-2}'] for i in range(1, 7)],\n",
    "           'Chuck':[[i, '대기중', f'sf_{i*3-2}'] for i in range(7, 13)],\n",
    "           'gocart_2500' :[[i, '작업중', f'sf_{i*3-2}'] for i in range(13,19)],\n",
    "           'M3_1000' : [[i, '점검중', f'sf_{i*3-2}'] for i in range(19, 25)],\n",
    "           'hanhasf_logistics' :[[i, '작업중', f'sf_{i*3-2}'] for i in range(25, 31)],\n",
    "           'TES':[[31, '작업중', 1,(305, 400)], [32, '대기중', 3,(320, 240)], [33, '점검중', 2,(25, 38)], [34, '작업중', 1,(325, 120)], [35, '작업중', 1,(5, 400)], [36, '대기중', 2,(10, 500)]]\n",
    "          }\n",
    "\n",
    "member_list = (('dct', '1234', 'm'), ('richfarmer','7777', 'u'))"
   ]
  },
  {
   "cell_type": "code",
   "execution_count": null,
   "id": "54a8115e",
   "metadata": {},
   "outputs": [],
   "source": [
    "[m for m in member_list if m[:2] == ('dct', '1234')][0]"
   ]
  },
  {
   "cell_type": "code",
   "execution_count": null,
   "id": "8b738f8e",
   "metadata": {},
   "outputs": [],
   "source": [
    "import cx_Oracle\n",
    "import os\n",
    "import matplotlib.pyplot as plt\n",
    "from DB import DAO"
   ]
  },
  {
   "cell_type": "markdown",
   "id": "7429cabd",
   "metadata": {},
   "source": [
    "### DB 접속, 해제"
   ]
  },
  {
   "cell_type": "code",
   "execution_count": null,
   "id": "0632fee1",
   "metadata": {},
   "outputs": [],
   "source": [
    "# DB 접속\n",
    "def conn_db() :\n",
    "    os.putenv('NLS_LANG', '.UTF8') # 한글 지원하기    \n",
    "    conn = cx_Oracle.connect('diamond','1234','project-db-stu.ddns.net:1524/xe')\n",
    "    cursor = conn.cursor()\n",
    "    return conn, cursor\n",
    "\n",
    "# DB 접속 해제\n",
    "def close_db(conn, cursor) :\n",
    "    cursor.close()\n",
    "    conn.close()"
   ]
  },
  {
   "cell_type": "markdown",
   "id": "f6171084",
   "metadata": {},
   "source": [
    "### 로그인"
   ]
  },
  {
   "cell_type": "code",
   "execution_count": null,
   "id": "153ad168",
   "metadata": {},
   "outputs": [],
   "source": [
    "from DB import DAO\n",
    "\n",
    "# 로그인\n",
    "def login_ck(mlogin,mid,mpw='') :  # login_ck(로그인 경로, 아이디, 비밀번호)\n",
    "    conn, cursor = conn_db()  # DB 접속\n",
    "    \n",
    "    # Diamond 홈페이지 로그인 시,\n",
    "    if mlogin == 'D' :\n",
    "        query = \"\"\"SELECT mb_id, mb_signup_type, mb_type FROM tbl_member \n",
    "                        where mb_signup_type='D' and mb_id= :1 and mb_pw= :2 \"\"\"\n",
    "        cursor.execute(query, [mid, mpw])  # 쿼리문 실행 \n",
    "#         cursor.execute(f\"\"\"SELECT mb_id, mb_signup_type, mb_type FROM tbl_member \n",
    "#                         where mb_signup_type='D' and mb_id='{mid}'and mb_pw='{mpw}'\"\"\")    \n",
    "    \n",
    "    # 간편 로그인 시,\n",
    "    else :\n",
    "        query = \"SELECT mb_id, mb_signup_type, mb_type FROM tbl_member where mb_signup_type= :1 and mb_id= :2\"\n",
    "        cursor.execute(query, [mlogin, mid])\n",
    "#         cursor.execute(f\"SELECT mb_id, mb_signup_type, mb_type FROM tbl_member where mb_signup_type='{mlogin}' and mb_id='{mid}'\")\n",
    "    data = cursor.fetchone()  # 조회 결과(한 튜플) 가져오기\n",
    "    close_db(conn, cursor)  # DB 접속 해제\n",
    "    \n",
    "    # 유효한 ID, PW 입력시, session 갱신\n",
    "    if data != None :\n",
    "        session['user_id'] =  data[0]\n",
    "        session['login_by'] = data[1]\n",
    "        session['manager'] = data[2]\n",
    "        return redirect(url_for('index_info', info='001777'))  # 로그인 성공 페이지로 이동\n",
    "    \n",
    "    # 유효하지 않은 ID, PW 입력시,\n",
    "    else :\n",
    "        return redirect(url_for('login_info', info='001666'))  # 로그인 실패 페이지로 이동\n",
    "\n",
    "    \n",
    "# 회원정보 가져오기\n",
    "def select_all(mlogin,mid) :  # select_all(로그인 경로, 아이디)\n",
    "    conn, cursor = conn_db()  # DB 접속\n",
    "    \n",
    "    query = \"\"\"SELECT mb_name, mb_id, mb_phone, mb_email, mb_signup_type, mb_type FROM tbl_member \n",
    "                    where mb_signup_type= :1 and mb_id= :2\"\"\"\n",
    "    cursor.execute(query, [mlogin, mid])  # 쿼리문 실행 \n",
    "    data = cursor.fetchone()  # 조회 결과(한 튜플) 가져오기\n",
    "    close_db(conn, cursor)  # DB 접속 해제\n",
    "    \n",
    "    if data:\n",
    "        return data\n",
    "    else :\n",
    "        return render_template('/404')\n"
   ]
  },
  {
   "cell_type": "code",
   "execution_count": null,
   "id": "1a5ccf74",
   "metadata": {},
   "outputs": [],
   "source": [
    "def temp_login (mid, mpw) :\n",
    "    for m in member_list :\n",
    "        if m[:2] == (mid, mpw) :\n",
    "            session['user_id'] = m[0]\n",
    "            session['login_by'] = m[1]\n",
    "            session['manager'] = m[2]\n",
    "        return redirect(url_for('index_info', info='001777'))  # 로그인 성공 페이지로 이동\n",
    "    \n",
    "    # 유효하지 않은 ID, PW 입력시,\n",
    "    else :\n",
    "        return redirect(url_for('login_info', info='001666'))  # 로그인 실패 페이지로 이동"
   ]
  },
  {
   "cell_type": "markdown",
   "id": "0892e1d0",
   "metadata": {},
   "source": [
    "## 회원가입"
   ]
  },
  {
   "cell_type": "code",
   "execution_count": null,
   "id": "865da218",
   "metadata": {},
   "outputs": [],
   "source": []
  },
  {
   "cell_type": "code",
   "execution_count": null,
   "id": "09868f9d",
   "metadata": {},
   "outputs": [],
   "source": []
  },
  {
   "cell_type": "code",
   "execution_count": null,
   "id": "2601cfb1",
   "metadata": {
    "scrolled": true
   },
   "outputs": [
    {
     "name": "stdout",
     "output_type": "stream",
     "text": [
      " * Serving Flask app '__main__'\n",
      " * Debug mode: off\n"
     ]
    },
    {
     "name": "stderr",
     "output_type": "stream",
     "text": [
      "WARNING: This is a development server. Do not use it in a production deployment. Use a production WSGI server instead.\n",
      " * Running on http://192.168.70.220:2048\n",
      "Press CTRL+C to quit\n",
      "192.168.70.220 - - [29/Nov/2022 10:35:31] \"GET / HTTP/1.1\" 200 -\n",
      "192.168.70.220 - - [29/Nov/2022 10:35:31] \"GET /static/bootstrap.min.css HTTP/1.1\" 304 -\n",
      "192.168.70.220 - - [29/Nov/2022 10:35:31] \"GET /static/bootstrap.css HTTP/1.1\" 304 -\n",
      "192.168.70.220 - - [29/Nov/2022 10:35:31] \"GET /static/footer.css HTTP/1.1\" 304 -\n",
      "192.168.70.220 - - [29/Nov/2022 10:35:31] \"GET /static/common.css HTTP/1.1\" 304 -\n",
      "192.168.70.220 - - [29/Nov/2022 10:35:31] \"GET /static/common.js HTTP/1.1\" 304 -\n",
      "192.168.70.220 - - [29/Nov/2022 10:35:31] \"GET /static/bootstrap.bundle.min.js HTTP/1.1\" 304 -\n",
      "192.168.70.220 - - [29/Nov/2022 10:35:31] \"GET /static/prism.js HTTP/1.1\" 304 -\n",
      "192.168.70.220 - - [29/Nov/2022 10:35:31] \"GET /static/sweetalert.min.js HTTP/1.1\" 304 -\n",
      "192.168.70.220 - - [29/Nov/2022 10:35:31] \"GET /static/custom.js HTTP/1.1\" 404 -\n",
      "192.168.70.220 - - [29/Nov/2022 10:35:31] \"GET /favicon.ico HTTP/1.1\" 200 -\n",
      "192.168.70.220 - - [29/Nov/2022 10:35:32] \"GET /signup HTTP/1.1\" 200 -\n",
      "192.168.70.220 - - [29/Nov/2022 10:35:32] \"GET /static/bootstrap.min.css HTTP/1.1\" 304 -\n",
      "192.168.70.220 - - [29/Nov/2022 10:35:32] \"GET /static/bootstrap.css HTTP/1.1\" 304 -\n",
      "192.168.70.220 - - [29/Nov/2022 10:35:32] \"GET /static/footer.css HTTP/1.1\" 304 -\n",
      "192.168.70.220 - - [29/Nov/2022 10:35:32] \"GET /static/common.css HTTP/1.1\" 304 -\n",
      "192.168.70.220 - - [29/Nov/2022 10:35:32] \"GET /static/common.js HTTP/1.1\" 304 -\n",
      "192.168.70.220 - - [29/Nov/2022 10:35:32] \"GET /static/bootstrap.bundle.min.js HTTP/1.1\" 304 -\n",
      "192.168.70.220 - - [29/Nov/2022 10:35:32] \"GET /static/prism.js HTTP/1.1\" 304 -\n",
      "192.168.70.220 - - [29/Nov/2022 10:35:32] \"GET /static/sweetalert.min.js HTTP/1.1\" 304 -\n",
      "192.168.70.220 - - [29/Nov/2022 10:35:32] \"GET /static/custom.js HTTP/1.1\" 404 -\n",
      "192.168.70.220 - - [29/Nov/2022 10:35:32] \"GET /favicon.ico HTTP/1.1\" 200 -\n"
     ]
    }
   ],
   "source": [
    "from flask import Flask, session, render_template, redirect, request, url_for\n",
    "from markupsafe import escape\n",
    "from datetime import timedelta, datetime\n",
    "import random\n",
    "\n",
    "app = Flask(__name__)\n",
    "app.secret_key = f\"I'm_on_TOP!{random.randint(0, 99999):0>5}\"\n",
    "app.config[\"PERMANENT_SESSION_LIFETIME\"] = timedelta(minutes=60) # 로그인 지속 시간\n",
    "\n",
    "token, info, cage_list, cage_lifo = '', '', '', ''\n",
    "\n",
    "\n",
    "############# 회원 가입 #############\n",
    "@app.route('/signup')  # 회원 가입\n",
    "def signup() :\n",
    "#     if len(session) :\n",
    "#         return redirect(url_for('index_info', info='705001'))\n",
    "#     else :\n",
    "    return render_template('signup.html', title=\"회원 가입\")\n",
    "\n",
    "@app.route('/signup/result', methods=[\"POST\"])  # 회원 가입 결과\n",
    "def signup_result() :\n",
    "    return \n",
    "######### 로그인 #########\n",
    "@app.route('/') # 로그인 \n",
    "def login() :\n",
    "    if len(session) :\n",
    "        return redirect(url_for('index_info', info='705001'))\n",
    "    return render_template('login.html', title=\"로그인\")\n",
    "\n",
    "@app.route('/<info>')\n",
    "def login_info(info) :  #로그인 + 이전 페이지 결과\n",
    "    return render_template('login.html', info=info, title=\"로그인\")\n",
    "\n",
    "\n",
    "@app.route('/result_10917', methods=['POST']) # 로그인 + 입력값 체크\n",
    "def login_result() :\n",
    "    if request.method == 'POST' :\n",
    "        mid = request.form['mid']\n",
    "        mpw = request.form['mpw']\n",
    "        return temp_login(mid, mpw)\n",
    "    \n",
    "\n",
    "######### 정보 열람 #######\n",
    "\n",
    "\n",
    "\n",
    "######### 농장 #########\n",
    "@app.route('/smartfarm')\n",
    "def smartfarm() :\n",
    "    \n",
    "    smartfarm_robot = {'what' : '스마트팜',\n",
    "                      'list' : smartfarm_list,\n",
    "                      'image' : 'smartfarm.png'}\n",
    "    return render_template('smartfarm_robot.html', session=session, smartfarm_robot=smartfarm_robot)\n",
    "\n",
    "# 농장 정보 확인\n",
    "@app.route('/smartfarm/sf_<sf_no>')\n",
    "def smartfarm_show(sf_no) :\n",
    "    for sf in sf_info :\n",
    "        if sf[0] == int(sf_no) :\n",
    "            return render_template('smartfarm_show.html', session=session, sf_state=sf)\n",
    "\n",
    "######### 로봇 #########\n",
    "@app.route('/robot')\n",
    "def robot() :\n",
    "    smartfarm_robot = {'what' : '로봇',\n",
    "                      'list' : robot_list,\n",
    "                      'image' : 'robot.png'}\n",
    "    return render_template('smartfarm_robot.html', session=session, smartfarm_robot=smartfarm_robot)\n",
    "\n",
    "# 위치 확인- 첫화면\n",
    "@app.route('/robot/<r_model>')\n",
    "def robot_loc0(r_model) :\n",
    "    return render_template('robot_loc.html', session=session, r_name=r_model, r_list=r_info[r_model], r_state=None)\n",
    "\n",
    "\n",
    "# 위치 확인 - 모델 번호로 검색\n",
    "@app.route('/robot/<r_model>&<r_no>')\n",
    "def robot_loc(r_model,r_no) :\n",
    "    for r in r_info[r_model] :\n",
    "        if r[0] == int(r_no) :\n",
    "            return render_template('robot_loc.html', session=session, r_name=robot_list[int(r_no)][2], r_list=r_info[r_model], r_state=r)\n",
    "#     return redirect(url_for())\n",
    "\n",
    "######### 직원 #########\n",
    "@app.route('/employee')\n",
    "def employee() :\n",
    "    return render_template('employee.html', session=session)\n",
    "\n",
    "if __name__ == '__main__' :\n",
    "    app.run(host=\"192.168.70.220\", port=2048)"
   ]
  },
  {
   "cell_type": "code",
   "execution_count": null,
   "id": "c66c2a8a",
   "metadata": {},
   "outputs": [],
   "source": []
  },
  {
   "cell_type": "code",
   "execution_count": null,
   "id": "fb432bef",
   "metadata": {},
   "outputs": [],
   "source": []
  },
  {
   "cell_type": "code",
   "execution_count": null,
   "id": "6592f177",
   "metadata": {},
   "outputs": [],
   "source": []
  }
 ],
 "metadata": {
  "kernelspec": {
   "display_name": "Python 3 (ipykernel)",
   "language": "python",
   "name": "python3"
  },
  "language_info": {
   "codemirror_mode": {
    "name": "ipython",
    "version": 3
   },
   "file_extension": ".py",
   "mimetype": "text/x-python",
   "name": "python",
   "nbconvert_exporter": "python",
   "pygments_lexer": "ipython3",
   "version": "3.7.13"
  },
  "toc": {
   "base_numbering": 1,
   "nav_menu": {},
   "number_sections": false,
   "sideBar": true,
   "skip_h1_title": false,
   "title_cell": "Table of Contents",
   "title_sidebar": "Contents",
   "toc_cell": false,
   "toc_position": {},
   "toc_section_display": true,
   "toc_window_display": false
  },
  "vscode": {
   "interpreter": {
    "hash": "2f28686947a9d4fa78b0dd5bfc3c39f38db6b1ea450da2221c7ede16884d8f7e"
   }
  }
 },
 "nbformat": 4,
 "nbformat_minor": 5
}
