{
 "cells": [
  {
   "cell_type": "markdown",
   "id": "2c612be0",
   "metadata": {},
   "source": [
    "# UWB 자율주행 물류 로봇 통합 관리 시스템"
   ]
  },
  {
   "cell_type": "code",
   "execution_count": null,
   "id": "2601cfb1",
   "metadata": {},
   "outputs": [
    {
     "name": "stdout",
     "output_type": "stream",
     "text": [
      " * Serving Flask app '__main__'\n",
      " * Debug mode: off\n"
     ]
    },
    {
     "name": "stderr",
     "output_type": "stream",
     "text": [
      "WARNING: This is a development server. Do not use it in a production deployment. Use a production WSGI server instead.\n",
      " * Running on http://192.168.70.44:2048\n",
      "Press CTRL+C to quit\n",
      "192.168.70.44 - - [01/Nov/2022 21:35:50] \"GET / HTTP/1.1\" 200 -\n",
      "192.168.70.44 - - [01/Nov/2022 21:35:50] \"GET /static/bootstrap.min.css HTTP/1.1\" 304 -\n",
      "192.168.70.44 - - [01/Nov/2022 21:35:50] \"GET /static/bootstrap.css HTTP/1.1\" 304 -\n",
      "192.168.70.44 - - [01/Nov/2022 21:35:50] \"GET /static/common.css HTTP/1.1\" 304 -\n",
      "192.168.70.44 - - [01/Nov/2022 21:35:50] \"GET /static/footer.css HTTP/1.1\" 304 -\n",
      "192.168.70.44 - - [01/Nov/2022 21:35:50] \"GET /static/custom.js HTTP/1.1\" 404 -\n",
      "192.168.70.44 - - [01/Nov/2022 21:35:50] \"GET /static/common.js HTTP/1.1\" 304 -\n",
      "192.168.70.44 - - [01/Nov/2022 21:35:50] \"GET /static/bootstrap.bundle.min.js HTTP/1.1\" 304 -\n",
      "192.168.70.44 - - [01/Nov/2022 21:35:50] \"GET /static/prism.js HTTP/1.1\" 304 -\n",
      "192.168.70.44 - - [01/Nov/2022 21:35:50] \"GET /static/sweetalert.min.js HTTP/1.1\" 304 -\n",
      "192.168.70.44 - - [01/Nov/2022 21:35:50] \"GET /static/img/logo.png HTTP/1.1\" 304 -\n",
      "192.168.70.44 - - [01/Nov/2022 21:35:50] \"GET /static/img/map.png HTTP/1.1\" 304 -\n",
      "192.168.70.44 - - [01/Nov/2022 21:35:50] \"GET /static/img/tel.png HTTP/1.1\" 304 -\n",
      "192.168.70.44 - - [01/Nov/2022 21:35:50] \"GET /static/img/email.png HTTP/1.1\" 304 -\n",
      "192.168.70.44 - - [01/Nov/2022 21:36:30] \"GET /warehouse HTTP/1.1\" 200 -\n",
      "192.168.70.44 - - [01/Nov/2022 21:36:30] \"GET /static/bootstrap.min.css HTTP/1.1\" 304 -\n",
      "192.168.70.44 - - [01/Nov/2022 21:36:30] \"GET /static/bootstrap.css HTTP/1.1\" 304 -\n",
      "192.168.70.44 - - [01/Nov/2022 21:36:30] \"GET /static/footer.css HTTP/1.1\" 304 -\n",
      "192.168.70.44 - - [01/Nov/2022 21:36:30] \"GET /static/common.css HTTP/1.1\" 304 -\n",
      "192.168.70.44 - - [01/Nov/2022 21:36:30] \"GET /static/common.js HTTP/1.1\" 304 -\n",
      "192.168.70.44 - - [01/Nov/2022 21:36:30] \"GET /static/bootstrap.bundle.min.js HTTP/1.1\" 304 -\n",
      "192.168.70.44 - - [01/Nov/2022 21:36:30] \"GET /static/prism.js HTTP/1.1\" 304 -\n",
      "192.168.70.44 - - [01/Nov/2022 21:36:30] \"GET /static/sweetalert.min.js HTTP/1.1\" 304 -\n",
      "192.168.70.44 - - [01/Nov/2022 21:36:30] \"GET /static/custom.js HTTP/1.1\" 404 -\n",
      "192.168.70.44 - - [01/Nov/2022 21:36:30] \"GET /static/img/logo.png HTTP/1.1\" 304 -\n",
      "192.168.70.44 - - [01/Nov/2022 21:36:30] \"GET /static/img/map.png HTTP/1.1\" 304 -\n",
      "192.168.70.44 - - [01/Nov/2022 21:36:30] \"GET /static/img/email.png HTTP/1.1\" 304 -\n",
      "192.168.70.44 - - [01/Nov/2022 21:36:30] \"GET /static/img/tel.png HTTP/1.1\" 304 -\n",
      "192.168.70.44 - - [01/Nov/2022 21:36:30] \"GET /static/img/warehouse.png HTTP/1.1\" 304 -\n",
      "192.168.70.44 - - [01/Nov/2022 21:36:32] \"GET /robot HTTP/1.1\" 200 -\n",
      "192.168.70.44 - - [01/Nov/2022 21:36:32] \"GET /static/bootstrap.min.css HTTP/1.1\" 304 -\n",
      "192.168.70.44 - - [01/Nov/2022 21:36:32] \"GET /static/bootstrap.css HTTP/1.1\" 304 -\n",
      "192.168.70.44 - - [01/Nov/2022 21:36:32] \"GET /static/footer.css HTTP/1.1\" 304 -\n",
      "192.168.70.44 - - [01/Nov/2022 21:36:32] \"GET /static/common.css HTTP/1.1\" 304 -\n",
      "192.168.70.44 - - [01/Nov/2022 21:36:32] \"GET /static/custom.js HTTP/1.1\" 404 -\n",
      "192.168.70.44 - - [01/Nov/2022 21:36:32] \"GET /static/common.js HTTP/1.1\" 304 -\n",
      "192.168.70.44 - - [01/Nov/2022 21:36:32] \"GET /static/bootstrap.bundle.min.js HTTP/1.1\" 304 -\n",
      "192.168.70.44 - - [01/Nov/2022 21:36:32] \"GET /static/prism.js HTTP/1.1\" 304 -\n",
      "192.168.70.44 - - [01/Nov/2022 21:36:32] \"GET /static/sweetalert.min.js HTTP/1.1\" 304 -\n",
      "192.168.70.44 - - [01/Nov/2022 21:36:32] \"GET /static/img/logo.png HTTP/1.1\" 304 -\n",
      "192.168.70.44 - - [01/Nov/2022 21:36:32] \"GET /static/img/map.png HTTP/1.1\" 304 -\n",
      "192.168.70.44 - - [01/Nov/2022 21:36:32] \"GET /static/img/email.png HTTP/1.1\" 304 -\n",
      "192.168.70.44 - - [01/Nov/2022 21:36:32] \"GET /static/img/tel.png HTTP/1.1\" 304 -\n",
      "192.168.70.44 - - [01/Nov/2022 21:36:32] \"GET /static/img/robot.png HTTP/1.1\" 304 -\n",
      "192.168.70.44 - - [01/Nov/2022 21:36:33] \"GET /employee HTTP/1.1\" 200 -\n",
      "192.168.70.44 - - [01/Nov/2022 21:36:33] \"GET /static/bootstrap.min.css HTTP/1.1\" 304 -\n",
      "192.168.70.44 - - [01/Nov/2022 21:36:33] \"GET /static/bootstrap.css HTTP/1.1\" 304 -\n",
      "192.168.70.44 - - [01/Nov/2022 21:36:33] \"GET /static/footer.css HTTP/1.1\" 304 -\n",
      "192.168.70.44 - - [01/Nov/2022 21:36:33] \"GET /static/common.css HTTP/1.1\" 304 -\n",
      "192.168.70.44 - - [01/Nov/2022 21:36:33] \"GET /static/common.js HTTP/1.1\" 304 -\n",
      "192.168.70.44 - - [01/Nov/2022 21:36:33] \"GET /static/custom.js HTTP/1.1\" 404 -\n",
      "192.168.70.44 - - [01/Nov/2022 21:36:33] \"GET /static/bootstrap.bundle.min.js HTTP/1.1\" 304 -\n",
      "192.168.70.44 - - [01/Nov/2022 21:36:33] \"GET /static/prism.js HTTP/1.1\" 304 -\n",
      "192.168.70.44 - - [01/Nov/2022 21:36:33] \"GET /static/sweetalert.min.js HTTP/1.1\" 304 -\n",
      "192.168.70.44 - - [01/Nov/2022 21:36:33] \"GET /static/img/logo.png HTTP/1.1\" 304 -\n",
      "192.168.70.44 - - [01/Nov/2022 21:36:33] \"GET /static/img/map.png HTTP/1.1\" 304 -\n",
      "192.168.70.44 - - [01/Nov/2022 21:36:33] \"GET /static/img/email.png HTTP/1.1\" 304 -\n",
      "192.168.70.44 - - [01/Nov/2022 21:36:33] \"GET /static/img/tel.png HTTP/1.1\" 304 -\n",
      "192.168.70.44 - - [01/Nov/2022 21:36:33] \"GET /static/img/manager.png HTTP/1.1\" 304 -\n",
      "192.168.70.44 - - [01/Nov/2022 21:36:40] \"GET /warehouse HTTP/1.1\" 200 -\n",
      "192.168.70.44 - - [01/Nov/2022 21:36:40] \"GET /static/bootstrap.min.css HTTP/1.1\" 304 -\n",
      "192.168.70.44 - - [01/Nov/2022 21:36:40] \"GET /static/bootstrap.css HTTP/1.1\" 304 -\n",
      "192.168.70.44 - - [01/Nov/2022 21:36:40] \"GET /static/footer.css HTTP/1.1\" 304 -\n",
      "192.168.70.44 - - [01/Nov/2022 21:36:40] \"GET /static/common.css HTTP/1.1\" 304 -\n",
      "192.168.70.44 - - [01/Nov/2022 21:36:40] \"GET /static/common.js HTTP/1.1\" 304 -\n",
      "192.168.70.44 - - [01/Nov/2022 21:36:40] \"GET /static/bootstrap.bundle.min.js HTTP/1.1\" 304 -\n",
      "192.168.70.44 - - [01/Nov/2022 21:36:40] \"GET /static/prism.js HTTP/1.1\" 304 -\n",
      "192.168.70.44 - - [01/Nov/2022 21:36:40] \"GET /static/sweetalert.min.js HTTP/1.1\" 304 -\n",
      "192.168.70.44 - - [01/Nov/2022 21:36:40] \"GET /static/custom.js HTTP/1.1\" 404 -\n",
      "192.168.70.44 - - [01/Nov/2022 21:36:40] \"GET /static/img/logo.png HTTP/1.1\" 304 -\n",
      "192.168.70.44 - - [01/Nov/2022 21:36:40] \"GET /static/img/warehouse.png HTTP/1.1\" 304 -\n",
      "192.168.70.44 - - [01/Nov/2022 21:36:40] \"GET /static/img/map.png HTTP/1.1\" 304 -\n",
      "192.168.70.44 - - [01/Nov/2022 21:36:40] \"GET /static/img/tel.png HTTP/1.1\" 304 -\n",
      "192.168.70.44 - - [01/Nov/2022 21:36:40] \"GET /static/img/email.png HTTP/1.1\" 304 -\n"
     ]
    }
   ],
   "source": [
    "from flask import Flask, session, render_template, redirect, request, url_for\n",
    "from markupsafe import escape\n",
    "from datetime import timedelta, datetime\n",
    "import random\n",
    "\n",
    "app = Flask(__name__)\n",
    "app.secret_key = f\"I'm_on_TOP!{random.randint(0, 99999):0>5}\"\n",
    "app.config[\"PERMANENT_SESSION_LIFETIME\"] = timedelta(minutes=60) # 로그인 지속 시간\n",
    "\n",
    "token, info, cage_list, cage_lifo = '', '', '', ''\n",
    "\n",
    "######### 홈 #########\n",
    "@app.route('/') # home \n",
    "def index() :\n",
    "    return render_template('home.html', session=session, title=\"홈\")\n",
    "\n",
    "\n",
    "######### 창고 #########\n",
    "@app.route('/warehouse')\n",
    "def warehouse() :\n",
    "    warehouse_list = [[i, f'warehouse0{i}.png', ]]\n",
    "    return render_template('warehouse_robot.html', session=session, warehouse_robot='warehouse', title=\"창고\")\n",
    "\n",
    "######### 로봇 #########\n",
    "@app.route('/robot')\n",
    "def robot() :\n",
    "    robot_list = []\n",
    "    return render_template('warehouse_robot.html', session=session, warehouse_robot='robot', title=\"물류 로봇\")\n",
    "\n",
    "######### 로봇 위치 #########\n",
    "@app.route('/robot/location')\n",
    "def robot_loc() :\n",
    "    return render_template('robot_loc.html', session=session)\n",
    "\n",
    "######### 직원 #########\n",
    "@app.route('/employee')\n",
    "def employee() :\n",
    "    return render_template('employee.html', session=session)\n",
    "\n",
    "if __name__ == '__main__' :\n",
    "    app.run(host=\"192.168.70.44\", port=2048)"
   ]
  },
  {
   "cell_type": "code",
   "execution_count": null,
   "id": "c66c2a8a",
   "metadata": {},
   "outputs": [],
   "source": []
  },
  {
   "cell_type": "code",
   "execution_count": null,
   "id": "fb432bef",
   "metadata": {},
   "outputs": [],
   "source": []
  },
  {
   "cell_type": "code",
   "execution_count": null,
   "id": "6592f177",
   "metadata": {},
   "outputs": [],
   "source": []
  }
 ],
 "metadata": {
  "kernelspec": {
   "display_name": "Python 3 (ipykernel)",
   "language": "python",
   "name": "python3"
  },
  "language_info": {
   "codemirror_mode": {
    "name": "ipython",
    "version": 3
   },
   "file_extension": ".py",
   "mimetype": "text/x-python",
   "name": "python",
   "nbconvert_exporter": "python",
   "pygments_lexer": "ipython3",
   "version": "3.7.13"
  },
  "toc": {
   "base_numbering": 1,
   "nav_menu": {},
   "number_sections": false,
   "sideBar": true,
   "skip_h1_title": false,
   "title_cell": "Table of Contents",
   "title_sidebar": "Contents",
   "toc_cell": false,
   "toc_position": {},
   "toc_section_display": true,
   "toc_window_display": false
  },
  "vscode": {
   "interpreter": {
    "hash": "2f28686947a9d4fa78b0dd5bfc3c39f38db6b1ea450da2221c7ede16884d8f7e"
   }
  }
 },
 "nbformat": 4,
 "nbformat_minor": 5
}
