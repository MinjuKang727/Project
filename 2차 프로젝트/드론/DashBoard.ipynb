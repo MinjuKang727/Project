{
 "cells": [
  {
   "cell_type": "code",
   "execution_count": null,
   "id": "20561f9d",
   "metadata": {
    "scrolled": true
   },
   "outputs": [
    {
     "name": "stdout",
     "output_type": "stream",
     "text": [
      " * Serving Flask app '__main__'\n",
      " * Debug mode: off\n"
     ]
    },
    {
     "name": "stderr",
     "output_type": "stream",
     "text": [
      "WARNING: This is a development server. Do not use it in a production deployment. Use a production WSGI server instead.\n",
      " * Running on http://127.0.0.1:5000\n",
      "Press CTRL+C to quit\n",
      "127.0.0.1 - - [31/Oct/2022 17:18:56] \"GET / HTTP/1.1\" 200 -\n",
      "127.0.0.1 - - [31/Oct/2022 17:18:56] \"GET /static/bootstrap.min.css HTTP/1.1\" 304 -\n",
      "127.0.0.1 - - [31/Oct/2022 17:18:56] \"GET /static/bootstrap.css HTTP/1.1\" 304 -\n",
      "127.0.0.1 - - [31/Oct/2022 17:18:56] \"GET /static/footer.css HTTP/1.1\" 304 -\n",
      "127.0.0.1 - - [31/Oct/2022 17:18:56] \"GET /static/common.css HTTP/1.1\" 304 -\n",
      "127.0.0.1 - - [31/Oct/2022 17:18:56] \"GET /static/common.js HTTP/1.1\" 304 -\n",
      "127.0.0.1 - - [31/Oct/2022 17:18:56] \"GET /static/img/drone.png HTTP/1.1\" 304 -\n",
      "127.0.0.1 - - [31/Oct/2022 17:18:56] \"GET /static/img/map.png HTTP/1.1\" 304 -\n",
      "127.0.0.1 - - [31/Oct/2022 17:18:56] \"GET /static/img/tel.png HTTP/1.1\" 304 -\n",
      "127.0.0.1 - - [31/Oct/2022 17:18:56] \"GET /static/img/email.png HTTP/1.1\" 304 -\n",
      "127.0.0.1 - - [31/Oct/2022 17:19:00] \"GET /static/bootstrap.min.css HTTP/1.1\" 304 -\n",
      "127.0.0.1 - - [31/Oct/2022 17:19:00] \"GET /static/bootstrap.css HTTP/1.1\" 304 -\n",
      "127.0.0.1 - - [31/Oct/2022 17:19:00] \"GET /static/common.css HTTP/1.1\" 304 -\n",
      "127.0.0.1 - - [31/Oct/2022 17:19:00] \"GET /static/footer.css HTTP/1.1\" 304 -\n",
      "127.0.0.1 - - [31/Oct/2022 17:19:36] \"GET / HTTP/1.1\" 200 -\n",
      "127.0.0.1 - - [31/Oct/2022 17:19:36] \"GET /static/bootstrap.min.css HTTP/1.1\" 200 -\n",
      "127.0.0.1 - - [31/Oct/2022 17:19:36] \"GET /static/bootstrap.css HTTP/1.1\" 200 -\n",
      "127.0.0.1 - - [31/Oct/2022 17:19:36] \"GET /static/footer.css HTTP/1.1\" 200 -\n",
      "127.0.0.1 - - [31/Oct/2022 17:19:36] \"GET /static/common.css HTTP/1.1\" 200 -\n",
      "127.0.0.1 - - [31/Oct/2022 17:19:36] \"GET /static/common.js HTTP/1.1\" 200 -\n",
      "127.0.0.1 - - [31/Oct/2022 17:19:36] \"GET /static/img/drone.png HTTP/1.1\" 200 -\n",
      "127.0.0.1 - - [31/Oct/2022 17:19:36] \"GET /static/img/map.png HTTP/1.1\" 200 -\n",
      "127.0.0.1 - - [31/Oct/2022 17:19:36] \"GET /static/img/tel.png HTTP/1.1\" 200 -\n",
      "127.0.0.1 - - [31/Oct/2022 17:19:36] \"GET /static/img/email.png HTTP/1.1\" 200 -\n",
      "127.0.0.1 - - [31/Oct/2022 17:19:37] \"GET /favicon.ico HTTP/1.1\" 404 -\n"
     ]
    }
   ],
   "source": [
    "from flask import Flask, session, render_template, redirect, request, url_for\n",
    "from markupsafe import escape\n",
    "from datetime import timedelta, datetime\n",
    "import random\n",
    "\n",
    "app = Flask(__name__)\n",
    "app.secret_key = f\"I'm_on_TOP!{random.randint(0, 99999):0>5}\"\n",
    "app.config[\"PERMANENT_SESSION_LIFETIME\"] = timedelta(minutes=60) # 로그인 지속 시간\n",
    "\n",
    "token, info, cage_list, cage_lifo = '', '', '', ''\n",
    "\n",
    "######### 메인 화면 #########\n",
    "@app.route('/') # home \n",
    "def index() :\n",
    "    return render_template('home.html', session=session)\n",
    "\n",
    "\n",
    "######### 건축물 정보 화면 #########\n",
    "@app.route('/ID/sturcture')\n",
    "def structure() :\n",
    "    return render_template('strct_drone.html', session=session, strct_drone='structure')\n",
    "\n",
    "######### 드론 정보 화면 #########\n",
    "@app.route('/ID/drone')\n",
    "def drone() :\n",
    "    return render_template('strct_drone.html', session=session, strct_drone='drone')\n",
    "\n",
    "######### 관리자 정보 화면 #########\n",
    "@app.route('/ID/manager')\n",
    "def manager() :\n",
    "    return render_template('manager.html', session=session)\n",
    "\n",
    "if __name__ == '__main__' :\n",
    "    app.run()"
   ]
  },
  {
   "cell_type": "code",
   "execution_count": null,
   "id": "c66c2a8a",
   "metadata": {},
   "outputs": [],
   "source": []
  },
  {
   "cell_type": "code",
   "execution_count": null,
   "id": "fb432bef",
   "metadata": {},
   "outputs": [],
   "source": []
  },
  {
   "cell_type": "code",
   "execution_count": null,
   "id": "6592f177",
   "metadata": {},
   "outputs": [],
   "source": []
  }
 ],
 "metadata": {
  "kernelspec": {
   "display_name": "Python 3 (ipykernel)",
   "language": "python",
   "name": "python3"
  },
  "language_info": {
   "codemirror_mode": {
    "name": "ipython",
    "version": 3
   },
   "file_extension": ".py",
   "mimetype": "text/x-python",
   "name": "python",
   "nbconvert_exporter": "python",
   "pygments_lexer": "ipython3",
   "version": "3.7.13"
  },
  "toc": {
   "base_numbering": 1,
   "nav_menu": {},
   "number_sections": false,
   "sideBar": true,
   "skip_h1_title": false,
   "title_cell": "Table of Contents",
   "title_sidebar": "Contents",
   "toc_cell": false,
   "toc_position": {},
   "toc_section_display": true,
   "toc_window_display": false
  }
 },
 "nbformat": 4,
 "nbformat_minor": 5
}
