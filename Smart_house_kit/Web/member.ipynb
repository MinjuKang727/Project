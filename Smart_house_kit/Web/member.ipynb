{
 "cells": [
  {
   "cell_type": "code",
   "execution_count": 23,
   "id": "6ec9251f",
   "metadata": {},
   "outputs": [],
   "source": []
  },
  {
   "cell_type": "code",
   "execution_count": 26,
   "id": "e6012849",
   "metadata": {},
   "outputs": [
    {
     "name": "stdout",
     "output_type": "stream",
     "text": [
      "('강민주', 'KkoKko', '01087338662', 'minjukang727@gmail.com', 'diamond', 1)\n"
     ]
    }
   ],
   "source": [
    "# import cx_Oracle\n",
    "# import os\n",
    "# os.putenv('NLS_LANG', '.UTF8') # 한글 지원하기\n",
    "# conn = cx_Oracle.connect('hr','1234','localhost:1521/xe')\n",
    "\n",
    "# cursor = conn.cursor()\n",
    "# cursor.execute(\"select mname, mid, mtel, mmail, mlogin, manager from member\")\n",
    "# data = cursor.fetchall()\n",
    "# print(data[0])\n",
    "# cursor.close()\n",
    "# conn.close()"
   ]
  },
  {
   "cell_type": "code",
   "execution_count": 6,
   "id": "335411f9",
   "metadata": {},
   "outputs": [],
   "source": [
    "import cx_Oracle\n",
    "import os\n",
    "\n",
    "def login_(mlogin,mid,mpw='') :\n",
    "    os.putenv('NLS_LANG', '.UTF8') # 한글 지원하기\n",
    "    conn = cx_Oracle.connect('hr','1234','localhost:1521/xe')\n",
    "    if mlogin == 'web' :\n",
    "            cursor.execute(f\"SELECT mname, mid, mtel, mmail, mlogin, manager FROM member where mlogin='web', mid='{mid}', mpw='{mpw}'\")\n",
    "            \n",
    "    elif mlogin != '' :\n",
    "         cursor.execute(f\"SELECT mname, mid, mtel, mmail, mlogin, manager FROM member where mlogin='{mlogin}', mid='{mid}'\")\n",
    "    data = cursor.fetchall()\n",
    "    cursor.close()\n",
    "    conn.close()\n",
    "\n",
    "    if data:\n",
    "        data = data[0]\n",
    "        print(data)\n",
    "        session['user_id'] =  data[1]\n",
    "        session['login_by'] = data[4]\n",
    "        session['manager'] = data[5]\n",
    "        return redirect(url_for('/'))\n",
    "    else:\n",
    "        error = '유효하지 않은 로그인 정보 입력!'\n",
    "    return render_template('/login', error = error)\n",
    "\n",
    "def select_all(mlogin,mid) :\n",
    "    os.putenv('NLS_LANG', '.UTF8') # 한글 지원하기\n",
    "    conn = cx_Oracle.connect('hr','1234','localhost:1521/xe')\n",
    "    cursor.execute(f\"SELECT mname, mid, mtel, mmail, mlogin, manager FROM member where mlogin='{mlogin}', mid='{mid}'\")\n",
    "    data = cursor.fetchall()\n",
    "    cursor.close()\n",
    "    conn.close()\n",
    "    if data:\n",
    "        data = data[0]\n",
    "        return data\n",
    "    else :\n",
    "        return render_template('/404')"
   ]
  },
  {
   "cell_type": "code",
   "execution_count": null,
   "id": "3b8d54d5",
   "metadata": {},
   "outputs": [],
   "source": [
    "# import pandas as pd\n",
    "\n",
    "# class member :\n",
    "#     mno, mname, mid, mpw, mtel, mmail, manager, mlogin, rdate, udate = None, None, None, None, None, None, None, None, None\n",
    "    \n",
    "#     def __init__(mlogin, mid, mpw='') : \n",
    "#         cursor.execute(\"set names utf8\")\n",
    "#         if mlogin == 'web' :\n",
    "#             cursor.execute(f\"SELECT * FROM member where mlogin='web', mid='{mid}', mpw='{mpw}'\")\n",
    "            \n",
    "#         elif mlogin != '' :\n",
    "#              cursor.execute(f\"SELECT * FROM member where mlogin='{mlogin}', mid='{mid}'\")\n",
    "#         data = cursor.fetchall()\n",
    "#         cursor.close()\n",
    "#         conn.close()\n",
    "       \n",
    "#         if data:\n",
    "#             data = data[0]\n",
    "#             session['user_id'] = mid\n",
    "#             return redirect(url_for('home'))\n",
    "#         else:\n",
    "#             error = 'invalid input data detected !'\n",
    "#     return render_template('main.html', error = error)\n",
    "#         try :\n",
    "#             self.mno = emp[0]\n",
    "#             self.mname = emp[1]\n",
    "#             self.mid = emp[2]\n",
    "#         except:\n",
    "#             return False\n",
    "    \n",
    "#     def __del__(self):\n",
    "#         self.mno, self.mname, self.mid, self.mpw, self.mtel, self.mmail, self.manager, self.mlogin, self.rdate, self.udate = None, None, None, None, None, None, None, None, None\n"
   ]
  },
  {
   "cell_type": "code",
   "execution_count": null,
   "id": "d627d1e1",
   "metadata": {},
   "outputs": [],
   "source": []
  }
 ],
 "metadata": {
  "kernelspec": {
   "display_name": "Python 3 (ipykernel)",
   "language": "python",
   "name": "python3"
  },
  "language_info": {
   "codemirror_mode": {
    "name": "ipython",
    "version": 3
   },
   "file_extension": ".py",
   "mimetype": "text/x-python",
   "name": "python",
   "nbconvert_exporter": "python",
   "pygments_lexer": "ipython3",
   "version": "3.9.12"
  },
  "toc": {
   "base_numbering": 1,
   "nav_menu": {},
   "number_sections": true,
   "sideBar": true,
   "skip_h1_title": false,
   "title_cell": "Table of Contents",
   "title_sidebar": "Contents",
   "toc_cell": false,
   "toc_position": {},
   "toc_section_display": true,
   "toc_window_display": false
  }
 },
 "nbformat": 4,
 "nbformat_minor": 5
}
